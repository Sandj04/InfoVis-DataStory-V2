{
 "cells": [
  {
   "cell_type": "markdown",
   "metadata": {},
   "source": [
    "## Dataset en Voorverwerking\n",
    "\n",
    "### Dataset 1 `(oecd_df)`\n",
    "De titel van de dataset is *Green areas – Functioning Urban Areas (FUAs)* ([hier](https://sdmx.oecd.org/public/rest/data/OECD.CFE.EDS,DSD_FUA_ENV@DF_GREEN_AREA,1.0/.A..PT_LAR...?startPeriod=2017&dimensionAtObservation=AllDimensions&format=csvfilewithlabels) te downloaden). Deze dataset laat zien hoeveel groene gebieden er zijn in steden. Dit wordt gemeten met het aandeel van groen gebied ten opzichte van de totale landoppervlakte in procenten (`OBS_VALUE`). Voor de duidelijkheid is deze kolom hernoemd naar `Gemiddelde aandeel van groen in oppervlakte van stad`. De originele dataset bestond uit een waarde voor elke gemeten stad, wat resulteerde in 1129 waardes. Verder is deze dataset geaggregeerd tot een waarde per land, is de gemiddelde hoeveelheid groen per vierkante meter in alle landen 153.19, Daarnaast is de standaardafwijking is 64.58. En zijn de hoogste en laagste waarde respectievelijk 380.86 en 55.48.\n",
    "\n",
    "### Dataset 2 `(stress_df)`\n",
    "De titel van deze dataset is *What Is the World's Emotional Temperature? (2021-2022)* ([hier](https://news.gallup.com/interactives/248240/global-emotions.aspx) te downloaden). Deze dataset laat zien hoeveel procent van de mensen in een land de dag voordat het interview werd afgenomen stress heeft ondervonden. Dit bestaat uit een percentage van mensen die wel stress hebben ervaren (`YES`), een percentage van mensen die geen stress hebben ervaren (`NO`) en een percentage aan mensen die geen idee hebben of ze stress hebben ervaren of de vraag niet wilden beantwoorden (`DON'T KNOW/REFUSED`). Voor de duidelijkheid is de kolom `YES` hernoemd naar `Percentage mensen die Ja hebben geantwoord`, en is de kolom `NO` hernoemd naar `Percentage mensen die Nee hebben geantwoord`.\n",
    "Verder is de gemiddelde waarde van `YES`: ~37.40% en de maximale waarde van “NO” is 89.00%. Voor “COUNTRY” is er geen statistiek mogelijk, naast dat er in 142 van de 196 landen in de wereld onderzoek is gedaan naar stress.\n",
    "\n",
    "### Voorverwerking\n",
    "`oecd_df` en `stress_df` bevatten geen gemeenschappelijke kolommen. Om de twee datasets toch samen te voegen moeten er wat aanpassingen aan beide datasets worden gedaan.\n",
    "\n",
    "**`oecd_df`**: Voor deze dataset zijn er een aantal columns die niet gebruikt zullen worden verwijderd. Daarna is de tweeletterige landcode geëxtraheerd uit de `REF_AREA`-kolom. Hiermee kan deze dataset samengevoegd worden met een andere dataset, die landnamen en de bijbehorende twee- en drieletterige ISO-landcodes bevat. Deze is [hier](https://www.iban.com/country-codes) te downloaden. Nu bevat de dataset niet alleen het aandeel groen gebied ten opzichte van het totale landoppervlakte, maar ook de bijbehorende naam van het land waarin de gemeten stad zich bevindt. Nu kan de data geaggregeerd worden tot een waarde per land. Hiervoor is de `.groupby()`-functie gebruikt, net als de `.mean()`-methode om de gemiddelden voor alle steden in een land uit te rekenen. Deze dataset bevat ook per land de drieletterige ISO-code (kolom `3digit`), om de Plotly-functie `px.choropleth()` de juiste data op de juiste plekken op de wereldkaart te zetten.\n",
    "\n",
    "**`stress_df`**: Voor deze dataset zijn alle waardes van een percentage (wat Python als tekst ziet) naar een getal omgezet. Dit stelt ons in staat om deze data te kunnen vergelijken met de data uit `oecd_df`. Verder is de kolom `DON'T KNOW/REFUSED` verwijderd, omdat we alleen geïnteresseerd waren in wie wel of geen stress hebben ondervonden. Als laatste is bij deze dataset ook de drieletterige ISO-code toegevoegd, zodat `px.choropleth()` gebruikt kan worden.\n",
    "\n",
    "De twee datasets zijn uiteindelijk samengevoegd tot één dataset genaamd `merged_df`, op basis van de landsnaam.\n",
    "genaamd `merged_df`, op basis van de landsnaam"
   ]
  },
  {
   "cell_type": "code",
   "execution_count": null,
   "metadata": {
    "tags": [
     "hide-cell"
    ]
   },
   "outputs": [],
   "source": [
    "import pandas as pd\n",
    "import numpy as np\n",
    "import plotly.express as px\n",
    "import plotly.graph_objs as go\n",
    "from plotly.subplots import make_subplots"
   ]
  },
  {
   "cell_type": "code",
   "execution_count": null,
   "metadata": {},
   "outputs": [],
   "source": [
    "oecd_df = pd.read_csv('original_oecd.csv')\n",
    "#nutteloze kolommen verwijderen\n",
    "kolommen_verwijderen = ['ACTION', \n",
    "                        'STRUCTURE', \n",
    "                        'STRUCTURE_ID', \n",
    "                        'STRUCTURE_NAME', \n",
    "                        'FREQ', \n",
    "                        'Frequency of observation', \n",
    "                        'MEASURE', \n",
    "                        'Measure', \n",
    "                        'UNIT_MEASURE', \n",
    "                        'Unit of measure', \n",
    "                        'PM_CONCENTRATION', \n",
    "                        'PM concentration level', \n",
    "                        'TIME_SEASON', \n",
    "                        'Time of the day and season', \n",
    "                        'TERRITORIAL_LEVEL', \n",
    "                        'Territorial level', \n",
    "                        'TIME_PERIOD', \n",
    "                        'Observation value', \n",
    "                        'OBS_STATUS', \n",
    "                        'UNIT_MULT', \n",
    "                        'Unit multiplier', \n",
    "                        'Time period', \n",
    "                        'Observation status', \n",
    "                        'DECIMALS', \n",
    "                        'Decimals']\n",
    "oecd_df = oecd_df.drop(kolommen_verwijderen, axis=1)\n",
    "# Edgecase: REF_AREA begint bij alle landen behalve Mexico met 2 letters\n",
    "oecd_df['REF_AREA'] = oecd_df['REF_AREA'].str.replace('^MEX', 'MX', regex=True)\n",
    "# sommige verkeerde landcodes worden hier vervangen door degene die correspondeert met iso_df\n",
    "oecd_df['REF_AREA'] = oecd_df['REF_AREA'].str.replace('^UK', 'GB', regex=True)\n",
    "oecd_df['REF_AREA'] = oecd_df['REF_AREA'].str.replace('^KOR', 'KR', regex=True)\n",
    "oecd_df['REF_AREA'] = oecd_df['REF_AREA'].str.replace('^EL', 'GR', regex=True)\n",
    "# kolom renamen voor duidelijkheid\n",
    "oecd_df = oecd_df.rename(columns={'OBS_VALUE': 'Gemiddelde aandeel van groen in oppervlakte van stad'})\n",
    "\n",
    "#Om de data per land te kunnen aggregeren, heb ik landsnamen als extra kolom Percentage mensen die Nee hebben geantwoorddig.\n",
    "iso_df = pd.read_csv('23digit.csv')\n",
    "iso_mapping = dict(zip(iso_df['2digit'], iso_df['Country']))\n",
    "\n",
    "def get_country(geocode):\n",
    "    country_code = ''.join(filter(str.isalpha, geocode))[:2]  # Verwijder alle niet-alfabetische tekens en neem de eerste twee letters\n",
    "    return iso_mapping.get(country_code, 'Unknown')\n",
    "\n",
    "oecd_df['Country'] = oecd_df['REF_AREA'].apply(get_country)\n",
    "oecd_df = oecd_df.merge(iso_df, on='Country')\n",
    "oecd_df = oecd_df.drop(['2digit', 'Numeric'], axis=1)\n"
   ]
  },
  {
   "cell_type": "code",
   "execution_count": null,
   "metadata": {},
   "outputs": [],
   "source": [
    "# nu gaan we de stress en iso df mergen met de country als key\n",
    "stress_df = pd.read_csv('global-emotions-stress.csv')\n",
    "def percentage_to_float(percentage):\n",
    "    '''\n",
    "    Zet een waarde met een % erachter om naar een float zodat het vergeleken kan worden\n",
    "    '''\n",
    "    return float(percentage.strip('%'))\n",
    "\n",
    "stress_df['YES'] = stress_df['YES'].apply(percentage_to_float)\n",
    "stress_df['NO'] = stress_df['NO'].apply(percentage_to_float)\n",
    "\n",
    "stress_df = stress_df.drop([\"DON'T KNOW/REFUSED\"], axis=1)\n",
    "\n",
    "stress_df = pd.merge(stress_df, iso_df, on='Country')\n",
    "# stress df kolommen renamen\n",
    "stress_df = stress_df.rename(columns={'YES': 'Percentage mensen die Ja hebben geantwoord'})\n",
    "stress_df = stress_df.rename(columns={'NO': 'Percentage mensen die Nee hebben geantwoord'})\n",
    "\n",
    "# nu gaan we de green df aggregeren\n",
    "\n",
    "agg_df = oecd_df.groupby('Country')['Gemiddelde aandeel van groen in oppervlakte van stad'].mean().reset_index()\n",
    "# tijd om de twee datasets te mergen\n",
    "merged_df = pd.merge(agg_df, stress_df, on='Country')\n",
    "\n",
    "# nutteloze kolommen weghalen\n",
    "merged_df = merged_df.drop(['2digit', 'Numeric'], axis=1)\n",
    "display(merged_df)"
   ]
  }
 ],
 "metadata": {
  "language_info": {
   "name": "python"
  }
 },
 "nbformat": 4,
 "nbformat_minor": 2
}
