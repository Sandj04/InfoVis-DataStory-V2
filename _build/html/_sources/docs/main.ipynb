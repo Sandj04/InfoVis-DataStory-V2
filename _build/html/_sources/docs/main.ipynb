{
 "cells": [
  {
   "cell_type": "markdown",
   "metadata": {},
   "source": [
    "# Het verband tussen stress en een groene leefomgeving\n",
    "\n",
    "### Perspectief 1\n",
    "\n",
    "Het hebben van een groene leefomgeving helpt bij het verminderen van stress. Mensen in steden met veel groen melden vaker lagere stressniveaus en een betere mentale gezondheid dankzij de beschikbaarheid van groen die ze hebben.\n",
    "\n",
    "**Argument 1**  \n",
    "In Figuur 3 is te zien dat over het algemeen bij een laag aandeel aan groen in een land het percentage mensen zonder stressklachten hoger is. Dit toont aan dat het belang van groen in een land bijdraagt aan het verminderen van stress.\n",
    "\n",
    "**Argument 2**  \n",
    "In Figuur 1 en Figuur 2 is te zien dat bij de landen die te vergelijken vallen de meeste landen die een hoog aandeel van groen hebben in de oppervlakte ook een laag stresspercentage hebben. Dit betekent dat de hoeveelheid groen per inwoner bijdraagt aan het creëren van een lager stresspercentage.\n",
    "\n",
    "**Argument 3**\n",
    "In Figuur 5 is te zien dat landen met meer vierkante meters groen zoals Zwitserland een veel lager stresspercentage hebben dan landen die weinig vierkante meters groen hebben. Zo valt op dat de kleinste paar landen allemaal een hoger stresspercentage hebben."
   ]
  },
  {
   "cell_type": "code",
   "execution_count": 7,
   "metadata": {
    "tags": [
     "hide-cell"
    ]
   },
   "outputs": [
    {
     "data": {
      "text/html": [
       "<div>\n",
       "<style scoped>\n",
       "    .dataframe tbody tr th:only-of-type {\n",
       "        vertical-align: middle;\n",
       "    }\n",
       "\n",
       "    .dataframe tbody tr th {\n",
       "        vertical-align: top;\n",
       "    }\n",
       "\n",
       "    .dataframe thead th {\n",
       "        text-align: right;\n",
       "    }\n",
       "</style>\n",
       "<table border=\"1\" class=\"dataframe\">\n",
       "  <thead>\n",
       "    <tr style=\"text-align: right;\">\n",
       "      <th></th>\n",
       "      <th>Country</th>\n",
       "      <th>Gemiddelde aandeel van groen in oppervlakte van stad</th>\n",
       "      <th>Percentage mensen die Ja hebben geantwoord</th>\n",
       "      <th>Percentage mensen die Nee hebben geantwoord</th>\n",
       "      <th>3digit</th>\n",
       "    </tr>\n",
       "  </thead>\n",
       "  <tbody>\n",
       "    <tr>\n",
       "      <th>0</th>\n",
       "      <td>Australia</td>\n",
       "      <td>38.431250</td>\n",
       "      <td>42.0</td>\n",
       "      <td>58.0</td>\n",
       "      <td>AUS</td>\n",
       "    </tr>\n",
       "    <tr>\n",
       "      <th>1</th>\n",
       "      <td>Austria</td>\n",
       "      <td>40.800000</td>\n",
       "      <td>32.0</td>\n",
       "      <td>68.0</td>\n",
       "      <td>AUT</td>\n",
       "    </tr>\n",
       "    <tr>\n",
       "      <th>2</th>\n",
       "      <td>Belgium</td>\n",
       "      <td>45.183333</td>\n",
       "      <td>39.0</td>\n",
       "      <td>60.0</td>\n",
       "      <td>BEL</td>\n",
       "    </tr>\n",
       "    <tr>\n",
       "      <th>3</th>\n",
       "      <td>Bulgaria</td>\n",
       "      <td>34.814286</td>\n",
       "      <td>23.0</td>\n",
       "      <td>74.0</td>\n",
       "      <td>BGR</td>\n",
       "    </tr>\n",
       "    <tr>\n",
       "      <th>4</th>\n",
       "      <td>Canada</td>\n",
       "      <td>46.457692</td>\n",
       "      <td>51.0</td>\n",
       "      <td>49.0</td>\n",
       "      <td>CAN</td>\n",
       "    </tr>\n",
       "    <tr>\n",
       "      <th>5</th>\n",
       "      <td>Chile</td>\n",
       "      <td>21.296154</td>\n",
       "      <td>37.0</td>\n",
       "      <td>62.0</td>\n",
       "      <td>CHL</td>\n",
       "    </tr>\n",
       "    <tr>\n",
       "      <th>6</th>\n",
       "      <td>Colombia</td>\n",
       "      <td>41.843396</td>\n",
       "      <td>47.0</td>\n",
       "      <td>53.0</td>\n",
       "      <td>COL</td>\n",
       "    </tr>\n",
       "    <tr>\n",
       "      <th>7</th>\n",
       "      <td>Croatia</td>\n",
       "      <td>43.633333</td>\n",
       "      <td>36.0</td>\n",
       "      <td>63.0</td>\n",
       "      <td>HRV</td>\n",
       "    </tr>\n",
       "    <tr>\n",
       "      <th>8</th>\n",
       "      <td>Cyprus</td>\n",
       "      <td>19.033333</td>\n",
       "      <td>55.0</td>\n",
       "      <td>45.0</td>\n",
       "      <td>CYP</td>\n",
       "    </tr>\n",
       "    <tr>\n",
       "      <th>9</th>\n",
       "      <td>Denmark</td>\n",
       "      <td>48.625000</td>\n",
       "      <td>25.0</td>\n",
       "      <td>75.0</td>\n",
       "      <td>DNK</td>\n",
       "    </tr>\n",
       "    <tr>\n",
       "      <th>10</th>\n",
       "      <td>Estonia</td>\n",
       "      <td>48.700000</td>\n",
       "      <td>23.0</td>\n",
       "      <td>77.0</td>\n",
       "      <td>EST</td>\n",
       "    </tr>\n",
       "    <tr>\n",
       "      <th>11</th>\n",
       "      <td>Finland</td>\n",
       "      <td>47.000000</td>\n",
       "      <td>41.0</td>\n",
       "      <td>59.0</td>\n",
       "      <td>FIN</td>\n",
       "    </tr>\n",
       "    <tr>\n",
       "      <th>12</th>\n",
       "      <td>France</td>\n",
       "      <td>40.856923</td>\n",
       "      <td>34.0</td>\n",
       "      <td>65.0</td>\n",
       "      <td>FRA</td>\n",
       "    </tr>\n",
       "    <tr>\n",
       "      <th>13</th>\n",
       "      <td>Germany</td>\n",
       "      <td>50.454545</td>\n",
       "      <td>35.0</td>\n",
       "      <td>65.0</td>\n",
       "      <td>DEU</td>\n",
       "    </tr>\n",
       "    <tr>\n",
       "      <th>14</th>\n",
       "      <td>Greece</td>\n",
       "      <td>35.855556</td>\n",
       "      <td>54.0</td>\n",
       "      <td>45.0</td>\n",
       "      <td>GRC</td>\n",
       "    </tr>\n",
       "    <tr>\n",
       "      <th>15</th>\n",
       "      <td>Hungary</td>\n",
       "      <td>43.330000</td>\n",
       "      <td>33.0</td>\n",
       "      <td>67.0</td>\n",
       "      <td>HUN</td>\n",
       "    </tr>\n",
       "    <tr>\n",
       "      <th>16</th>\n",
       "      <td>Iceland</td>\n",
       "      <td>53.500000</td>\n",
       "      <td>37.0</td>\n",
       "      <td>63.0</td>\n",
       "      <td>ISL</td>\n",
       "    </tr>\n",
       "    <tr>\n",
       "      <th>17</th>\n",
       "      <td>Ireland</td>\n",
       "      <td>52.866667</td>\n",
       "      <td>35.0</td>\n",
       "      <td>65.0</td>\n",
       "      <td>IRL</td>\n",
       "    </tr>\n",
       "    <tr>\n",
       "      <th>18</th>\n",
       "      <td>Italy</td>\n",
       "      <td>37.840789</td>\n",
       "      <td>45.0</td>\n",
       "      <td>54.0</td>\n",
       "      <td>ITA</td>\n",
       "    </tr>\n",
       "    <tr>\n",
       "      <th>19</th>\n",
       "      <td>Japan</td>\n",
       "      <td>20.280328</td>\n",
       "      <td>38.0</td>\n",
       "      <td>62.0</td>\n",
       "      <td>JPN</td>\n",
       "    </tr>\n",
       "    <tr>\n",
       "      <th>20</th>\n",
       "      <td>Latvia</td>\n",
       "      <td>41.966667</td>\n",
       "      <td>17.0</td>\n",
       "      <td>83.0</td>\n",
       "      <td>LVA</td>\n",
       "    </tr>\n",
       "    <tr>\n",
       "      <th>21</th>\n",
       "      <td>Lithuania</td>\n",
       "      <td>46.383333</td>\n",
       "      <td>19.0</td>\n",
       "      <td>76.0</td>\n",
       "      <td>LTU</td>\n",
       "    </tr>\n",
       "    <tr>\n",
       "      <th>22</th>\n",
       "      <td>Luxembourg</td>\n",
       "      <td>46.000000</td>\n",
       "      <td>42.0</td>\n",
       "      <td>57.0</td>\n",
       "      <td>LUX</td>\n",
       "    </tr>\n",
       "    <tr>\n",
       "      <th>23</th>\n",
       "      <td>Malta</td>\n",
       "      <td>26.600000</td>\n",
       "      <td>52.0</td>\n",
       "      <td>48.0</td>\n",
       "      <td>MLT</td>\n",
       "    </tr>\n",
       "    <tr>\n",
       "      <th>24</th>\n",
       "      <td>Mexico</td>\n",
       "      <td>26.683696</td>\n",
       "      <td>39.0</td>\n",
       "      <td>61.0</td>\n",
       "      <td>MEX</td>\n",
       "    </tr>\n",
       "    <tr>\n",
       "      <th>25</th>\n",
       "      <td>New Zealand</td>\n",
       "      <td>43.285714</td>\n",
       "      <td>37.0</td>\n",
       "      <td>63.0</td>\n",
       "      <td>NZL</td>\n",
       "    </tr>\n",
       "    <tr>\n",
       "      <th>26</th>\n",
       "      <td>Norway</td>\n",
       "      <td>56.200000</td>\n",
       "      <td>36.0</td>\n",
       "      <td>64.0</td>\n",
       "      <td>NOR</td>\n",
       "    </tr>\n",
       "    <tr>\n",
       "      <th>27</th>\n",
       "      <td>Poland</td>\n",
       "      <td>49.048837</td>\n",
       "      <td>19.0</td>\n",
       "      <td>80.0</td>\n",
       "      <td>POL</td>\n",
       "    </tr>\n",
       "    <tr>\n",
       "      <th>28</th>\n",
       "      <td>Portugal</td>\n",
       "      <td>43.216667</td>\n",
       "      <td>42.0</td>\n",
       "      <td>58.0</td>\n",
       "      <td>PRT</td>\n",
       "    </tr>\n",
       "    <tr>\n",
       "      <th>29</th>\n",
       "      <td>Romania</td>\n",
       "      <td>35.127586</td>\n",
       "      <td>35.0</td>\n",
       "      <td>64.0</td>\n",
       "      <td>ROU</td>\n",
       "    </tr>\n",
       "    <tr>\n",
       "      <th>30</th>\n",
       "      <td>Slovakia</td>\n",
       "      <td>42.266667</td>\n",
       "      <td>38.0</td>\n",
       "      <td>62.0</td>\n",
       "      <td>SVK</td>\n",
       "    </tr>\n",
       "    <tr>\n",
       "      <th>31</th>\n",
       "      <td>Slovenia</td>\n",
       "      <td>42.550000</td>\n",
       "      <td>34.0</td>\n",
       "      <td>66.0</td>\n",
       "      <td>SVN</td>\n",
       "    </tr>\n",
       "    <tr>\n",
       "      <th>32</th>\n",
       "      <td>Spain</td>\n",
       "      <td>39.292424</td>\n",
       "      <td>31.0</td>\n",
       "      <td>69.0</td>\n",
       "      <td>ESP</td>\n",
       "    </tr>\n",
       "    <tr>\n",
       "      <th>33</th>\n",
       "      <td>Sweden</td>\n",
       "      <td>49.088889</td>\n",
       "      <td>32.0</td>\n",
       "      <td>68.0</td>\n",
       "      <td>SWE</td>\n",
       "    </tr>\n",
       "    <tr>\n",
       "      <th>34</th>\n",
       "      <td>Switzerland</td>\n",
       "      <td>55.560000</td>\n",
       "      <td>26.0</td>\n",
       "      <td>74.0</td>\n",
       "      <td>CHE</td>\n",
       "    </tr>\n",
       "  </tbody>\n",
       "</table>\n",
       "</div>"
      ],
      "text/plain": [
       "        Country  Gemiddelde aandeel van groen in oppervlakte van stad  \\\n",
       "0     Australia                                          38.431250      \n",
       "1       Austria                                          40.800000      \n",
       "2       Belgium                                          45.183333      \n",
       "3      Bulgaria                                          34.814286      \n",
       "4        Canada                                          46.457692      \n",
       "5         Chile                                          21.296154      \n",
       "6      Colombia                                          41.843396      \n",
       "7       Croatia                                          43.633333      \n",
       "8        Cyprus                                          19.033333      \n",
       "9       Denmark                                          48.625000      \n",
       "10      Estonia                                          48.700000      \n",
       "11      Finland                                          47.000000      \n",
       "12       France                                          40.856923      \n",
       "13      Germany                                          50.454545      \n",
       "14       Greece                                          35.855556      \n",
       "15      Hungary                                          43.330000      \n",
       "16      Iceland                                          53.500000      \n",
       "17      Ireland                                          52.866667      \n",
       "18        Italy                                          37.840789      \n",
       "19        Japan                                          20.280328      \n",
       "20       Latvia                                          41.966667      \n",
       "21    Lithuania                                          46.383333      \n",
       "22   Luxembourg                                          46.000000      \n",
       "23        Malta                                          26.600000      \n",
       "24       Mexico                                          26.683696      \n",
       "25  New Zealand                                          43.285714      \n",
       "26       Norway                                          56.200000      \n",
       "27       Poland                                          49.048837      \n",
       "28     Portugal                                          43.216667      \n",
       "29      Romania                                          35.127586      \n",
       "30     Slovakia                                          42.266667      \n",
       "31     Slovenia                                          42.550000      \n",
       "32        Spain                                          39.292424      \n",
       "33       Sweden                                          49.088889      \n",
       "34  Switzerland                                          55.560000      \n",
       "\n",
       "    Percentage mensen die Ja hebben geantwoord  \\\n",
       "0                                         42.0   \n",
       "1                                         32.0   \n",
       "2                                         39.0   \n",
       "3                                         23.0   \n",
       "4                                         51.0   \n",
       "5                                         37.0   \n",
       "6                                         47.0   \n",
       "7                                         36.0   \n",
       "8                                         55.0   \n",
       "9                                         25.0   \n",
       "10                                        23.0   \n",
       "11                                        41.0   \n",
       "12                                        34.0   \n",
       "13                                        35.0   \n",
       "14                                        54.0   \n",
       "15                                        33.0   \n",
       "16                                        37.0   \n",
       "17                                        35.0   \n",
       "18                                        45.0   \n",
       "19                                        38.0   \n",
       "20                                        17.0   \n",
       "21                                        19.0   \n",
       "22                                        42.0   \n",
       "23                                        52.0   \n",
       "24                                        39.0   \n",
       "25                                        37.0   \n",
       "26                                        36.0   \n",
       "27                                        19.0   \n",
       "28                                        42.0   \n",
       "29                                        35.0   \n",
       "30                                        38.0   \n",
       "31                                        34.0   \n",
       "32                                        31.0   \n",
       "33                                        32.0   \n",
       "34                                        26.0   \n",
       "\n",
       "    Percentage mensen die Nee hebben geantwoord 3digit  \n",
       "0                                          58.0    AUS  \n",
       "1                                          68.0    AUT  \n",
       "2                                          60.0    BEL  \n",
       "3                                          74.0    BGR  \n",
       "4                                          49.0    CAN  \n",
       "5                                          62.0    CHL  \n",
       "6                                          53.0    COL  \n",
       "7                                          63.0    HRV  \n",
       "8                                          45.0    CYP  \n",
       "9                                          75.0    DNK  \n",
       "10                                         77.0    EST  \n",
       "11                                         59.0    FIN  \n",
       "12                                         65.0    FRA  \n",
       "13                                         65.0    DEU  \n",
       "14                                         45.0    GRC  \n",
       "15                                         67.0    HUN  \n",
       "16                                         63.0    ISL  \n",
       "17                                         65.0    IRL  \n",
       "18                                         54.0    ITA  \n",
       "19                                         62.0    JPN  \n",
       "20                                         83.0    LVA  \n",
       "21                                         76.0    LTU  \n",
       "22                                         57.0    LUX  \n",
       "23                                         48.0    MLT  \n",
       "24                                         61.0    MEX  \n",
       "25                                         63.0    NZL  \n",
       "26                                         64.0    NOR  \n",
       "27                                         80.0    POL  \n",
       "28                                         58.0    PRT  \n",
       "29                                         64.0    ROU  \n",
       "30                                         62.0    SVK  \n",
       "31                                         66.0    SVN  \n",
       "32                                         69.0    ESP  \n",
       "33                                         68.0    SWE  \n",
       "34                                         74.0    CHE  "
      ]
     },
     "metadata": {},
     "output_type": "display_data"
    }
   ],
   "source": [
    "import pandas as pd\n",
    "import numpy as np\n",
    "import plotly.express as px\n",
    "import plotly.graph_objs as go\n",
    "from plotly.subplots import make_subplots\n",
    "\n",
    "oecd_df = pd.read_csv('original_oecd.csv')\n",
    "#nutteloze kolommen verwijderen\n",
    "kolommen_verwijderen = ['ACTION', \n",
    "                        'STRUCTURE', \n",
    "                        'STRUCTURE_ID', \n",
    "                        'STRUCTURE_NAME', \n",
    "                        'FREQ', \n",
    "                        'Frequency of observation', \n",
    "                        'MEASURE', \n",
    "                        'Measure', \n",
    "                        'UNIT_MEASURE', \n",
    "                        'Unit of measure', \n",
    "                        'PM_CONCENTRATION', \n",
    "                        'PM concentration level', \n",
    "                        'TIME_SEASON', \n",
    "                        'Time of the day and season', \n",
    "                        'TERRITORIAL_LEVEL', \n",
    "                        'Territorial level', \n",
    "                        'TIME_PERIOD', \n",
    "                        'Observation value', \n",
    "                        'OBS_STATUS', \n",
    "                        'UNIT_MULT', \n",
    "                        'Unit multiplier', \n",
    "                        'Time period', \n",
    "                        'Observation status', \n",
    "                        'DECIMALS', \n",
    "                        'Decimals']\n",
    "oecd_df = oecd_df.drop(kolommen_verwijderen, axis=1)\n",
    "# Edgecase: REF_AREA begint bij alle landen behalve Mexico met 2 letters\n",
    "oecd_df['REF_AREA'] = oecd_df['REF_AREA'].str.replace('^MEX', 'MX', regex=True)\n",
    "# sommige verkeerde landcodes worden hier vervangen door degene die correspondeert met iso_df\n",
    "oecd_df['REF_AREA'] = oecd_df['REF_AREA'].str.replace('^UK', 'GB', regex=True)\n",
    "oecd_df['REF_AREA'] = oecd_df['REF_AREA'].str.replace('^KOR', 'KR', regex=True)\n",
    "oecd_df['REF_AREA'] = oecd_df['REF_AREA'].str.replace('^EL', 'GR', regex=True)\n",
    "# kolom renamen voor duidelijkheid\n",
    "oecd_df = oecd_df.rename(columns={'OBS_VALUE': 'Gemiddelde aandeel van groen in oppervlakte van stad'})\n",
    "\n",
    "#Om de data per land te kunnen aggregeren, heb ik landsnamen als extra kolom Percentage mensen die Nee hebben geantwoorddig.\n",
    "iso_df = pd.read_csv('23digit.csv')\n",
    "iso_mapping = dict(zip(iso_df['2digit'], iso_df['Country']))\n",
    "\n",
    "def get_country(geocode):\n",
    "    country_code = ''.join(filter(str.isalpha, geocode))[:2]  # Verwijder alle niet-alfabetische tekens en neem de eerste twee letters\n",
    "    return iso_mapping.get(country_code, 'Unknown')\n",
    "\n",
    "oecd_df['Country'] = oecd_df['REF_AREA'].apply(get_country)\n",
    "oecd_df = oecd_df.merge(iso_df, on='Country')\n",
    "oecd_df = oecd_df.drop(['2digit', 'Numeric'], axis=1)\n",
    "\n",
    "# nu gaan we de stress en iso df mergen met de country als key\n",
    "stress_df = pd.read_csv('global-emotions-stress.csv')\n",
    "def percentage_to_float(percentage):\n",
    "    '''\n",
    "    Zet een waarde met een % erachter om naar een float zodat het vergeleken kan worden\n",
    "    '''\n",
    "    return float(percentage.strip('%'))\n",
    "\n",
    "stress_df['YES'] = stress_df['YES'].apply(percentage_to_float)\n",
    "stress_df['NO'] = stress_df['NO'].apply(percentage_to_float)\n",
    "\n",
    "stress_df = stress_df.drop([\"DON'T KNOW/REFUSED\"], axis=1)\n",
    "\n",
    "stress_df = pd.merge(stress_df, iso_df, on='Country')\n",
    "# stress df kolommen renamen\n",
    "stress_df = stress_df.rename(columns={'YES': 'Percentage mensen die Ja hebben geantwoord'})\n",
    "stress_df = stress_df.rename(columns={'NO': 'Percentage mensen die Nee hebben geantwoord'})\n",
    "\n",
    "# nu gaan we de green df aggregeren\n",
    "\n",
    "agg_df = oecd_df.groupby('Country')['Gemiddelde aandeel van groen in oppervlakte van stad'].mean().reset_index()\n",
    "# tijd om de twee datasets te mergen\n",
    "merged_df = pd.merge(agg_df, stress_df, on='Country')\n",
    "\n",
    "# nutteloze kolommen weghalen\n",
    "merged_df = merged_df.drop(['2digit', 'Numeric'], axis=1)"
   ]
  },
  {
   "cell_type": "code",
   "execution_count": 8,
   "metadata": {},
   "outputs": [
    {
     "data": {
      "application/vnd.plotly.v1+json": {
       "config": {
        "plotlyServerURL": "https://plot.ly"
       },
       "data": [
        {
         "coloraxis": "coloraxis",
         "geo": "geo",
         "hovertemplate": "<b>%{hovertext}</b><br><br>3digit=%{location}<br>Gemiddelde aandeel van groen in oppervlakte van stad=%{z}<extra></extra>",
         "hovertext": [
          56.1,
          53.1,
          58.4,
          49.3,
          62.5,
          56.2,
          49.2,
          25.3,
          46,
          8.9,
          66.9,
          16,
          58.5,
          37.1,
          39.1,
          17.5,
          48.2,
          56.1,
          22.6,
          32.4,
          24.7,
          35.3,
          62.8,
          52.6,
          25.6,
          27.6,
          39.5,
          40.8,
          49.4,
          32.1,
          30.5,
          39.2,
          32.1,
          55.7,
          52.2,
          54.1,
          32.4,
          42.7,
          51.5,
          27.4,
          44.9,
          22.9,
          40.1,
          37.2,
          42.5,
          17.3,
          31.8,
          42.1,
          35.7,
          51.9,
          44.7,
          43.9,
          24.3,
          14.8,
          62.9,
          41.8,
          64,
          47.6,
          50.3,
          61.1,
          47.4,
          46.6,
          48.5,
          52.9,
          42.2,
          29.3,
          46.1,
          43.4,
          34.7,
          45.8,
          48.6,
          49.4,
          22.4,
          48.7,
          14.3,
          49.5,
          47.6,
          38.1,
          43.5,
          38.7,
          56.4,
          27.3,
          55.1,
          35.8,
          60.2,
          33.9,
          54.5,
          46.2,
          63.9,
          63.3,
          13,
          34.1,
          14.3,
          56.7,
          57.5,
          43.7,
          58.4,
          41.4,
          49.4,
          41.9,
          16.1,
          55.4,
          20.3,
          52,
          28.7,
          31,
          53.9,
          66.3,
          48.7,
          58.6,
          40,
          43.9,
          27,
          37,
          55.1,
          22.6,
          47.8,
          20.9,
          43.3,
          40.4,
          57.7,
          27.5,
          55.1,
          54.9,
          43.8,
          15.7,
          39.4,
          44.8,
          54.1,
          18.7,
          26.4,
          55.2,
          53.1,
          45.1,
          52.5,
          50.4,
          52.9,
          34,
          19.8,
          41.2,
          33.1,
          65.5,
          46.2,
          39.1,
          42.6,
          53.9,
          48.7,
          54,
          48.9,
          42.3,
          51.5,
          52,
          62.7,
          47.9,
          32.5,
          45.6,
          33.1,
          37.1,
          65.6,
          51.7,
          40.9,
          64.6,
          25.1,
          45.9,
          41.9,
          47.3,
          52.9,
          25.4,
          30.9,
          48.5,
          15.9,
          38.4,
          34.7,
          16.1,
          52.2,
          44.3,
          42.8,
          46.4,
          44.3,
          46.1,
          47.6,
          61.3,
          52.7,
          13.9,
          41.7,
          29.4,
          11.6,
          56.2,
          62.4,
          47.7,
          45.6,
          33.3,
          53.3,
          36.8,
          40.4,
          70.3,
          48.6,
          38,
          47.7,
          24.3,
          42,
          16.2,
          15.8,
          37.3,
          51.6,
          30.6,
          58.6,
          33.2,
          46.2,
          37.7,
          51.9,
          30.8,
          19.6,
          54,
          57.5,
          35.3,
          33.8,
          30.8,
          46.1,
          30.9,
          54.6,
          17.8,
          16.1,
          53.3,
          18.6,
          18.7,
          56.4,
          48.9,
          47.6,
          55.7,
          53.5,
          32.9,
          49.1,
          30.9,
          13.7,
          44.8,
          41.7,
          41,
          42.4,
          34.1,
          32.2,
          52.1,
          54.3,
          62.4,
          55.5,
          3.4,
          57.2,
          12.4,
          51.4,
          26.5,
          55.3,
          39.5,
          47,
          50.4,
          59.4,
          50,
          57.3,
          62.3,
          19.8,
          48.2,
          53.5,
          45.5,
          27.2,
          50.5,
          32.8,
          46.8,
          64.7,
          53.1,
          52.9,
          33.6,
          47.4,
          60.9,
          23.6,
          56.6,
          45.4,
          66.2,
          53.3,
          41.5,
          47.5,
          49.7,
          25.5,
          36.7,
          46.3,
          37.9,
          44.4,
          21.5,
          33.7,
          51.6,
          41.1,
          54.4,
          17.4,
          35.3,
          19.7,
          26.6,
          27.4,
          27.2,
          46.6,
          37.6,
          39.2,
          37.4,
          28.4,
          28.2,
          11.5,
          43,
          46.5,
          31.5,
          37.3,
          57.8,
          54.1,
          20.9,
          32.1,
          41.3,
          51.7,
          48.8,
          59,
          25.3,
          54.4,
          46.8,
          53.5,
          43.6,
          19.9,
          40.8,
          50.7,
          53,
          55.1,
          44.1,
          44.7,
          46.6,
          34.5,
          11.3,
          51.8,
          32.6,
          22.5,
          47.4,
          57.4,
          2.7,
          57.3,
          21.5,
          44.9,
          50.9,
          52.3,
          41.9,
          63.8,
          52,
          13.3,
          56.5,
          14.5,
          47.5,
          56.8,
          54.3,
          58.5,
          24,
          20,
          52.1,
          45,
          41.1,
          57.4,
          51.1,
          38.4,
          51.7,
          53.2,
          62.3,
          33.7,
          36.3,
          37.7,
          35.9,
          36.7,
          68.9,
          17.7,
          59.4,
          19.8,
          19.2,
          36,
          35.9,
          23.8,
          32.5,
          30.1,
          38.6,
          34.3,
          32,
          19.6,
          62.2,
          50.1,
          53.3,
          38.9,
          49.7,
          38.8,
          46.5,
          45.6,
          32.2,
          60.2,
          42.9,
          41.8,
          48.8,
          31.9,
          50,
          59.5,
          17.8,
          48.4,
          71,
          34.9,
          26.3,
          61,
          19.9,
          29.9,
          60.6,
          0.9,
          59.2,
          33.2,
          33.5,
          24.4,
          59.5,
          39.5,
          44.8,
          37.9,
          33.3,
          12.9,
          66.2,
          26.1,
          10,
          26.9,
          27.2,
          36.5,
          48.2,
          39.7,
          43.6,
          28.7,
          20,
          28,
          34.1,
          40.9,
          46.1,
          50.1,
          58.1,
          37,
          47.9,
          52.4,
          49.9,
          55.5,
          41.5,
          36.9,
          62.6,
          48.3,
          25.1,
          25.4,
          52.1,
          63.7,
          42.4,
          53.5,
          49.7,
          57.1,
          17.9,
          49.7,
          52.9,
          33.1,
          51.9,
          37.7,
          41.7,
          49.3,
          22.2,
          42.6,
          47.9,
          54.9,
          62.8,
          43.8,
          64.2,
          16.8,
          49.1,
          52.5,
          46.5,
          60.5,
          22,
          23.2,
          57.2,
          14.5,
          66.6,
          54.6,
          31.9,
          31.4,
          20.2,
          37.6,
          45.7,
          58.2,
          54.3,
          25.2,
          43.2,
          59,
          40.3,
          39.7,
          23.4,
          35.5,
          49.9,
          19.3,
          47,
          35.3,
          26.6,
          69.2,
          56.5,
          19.9,
          53.4,
          26.3,
          17.1,
          44,
          49.3,
          42.5,
          48.8,
          56.3,
          57.1,
          44.2,
          53.2,
          46.2,
          42.9,
          38.4,
          56.3,
          30.3,
          46.8,
          39.5,
          44,
          36.6,
          63.9,
          24.4,
          53,
          40.4,
          54.4,
          51.3,
          34.1,
          42.6,
          41.5,
          57.9,
          22.9,
          63.2,
          39.1,
          36.8,
          54.1,
          38.8,
          54.7,
          40.4,
          35.1,
          32.4,
          35.6,
          67.9,
          24.1,
          14.6,
          55.6,
          29.5,
          18.3,
          60.3,
          40.1,
          15.6,
          15.2,
          46.4,
          49.6,
          49.1,
          48.7,
          49.7,
          18.1,
          54.6,
          48.8,
          46,
          51.1,
          12.2,
          28.8,
          23.6,
          18.4,
          37.4,
          59.1,
          31.4,
          34.3,
          57.5,
          36.1,
          13.7,
          53.9,
          52.4,
          48,
          32.7,
          42.6,
          55.7,
          39.4,
          25.9,
          12.4,
          24,
          32.7,
          31,
          54.3,
          61.1,
          58.6,
          58.6,
          60.9,
          33.7,
          46.4,
          28.1,
          45.9,
          24.1,
          55.3,
          56.8,
          15.8,
          31.2,
          58.3,
          16.2,
          42.1,
          54.8,
          58.3,
          22.8,
          56.5,
          42.4,
          62.4,
          55.1,
          28.7,
          50.3,
          46.5,
          41.2,
          37.5,
          49.5,
          16.4,
          54.2,
          49.9,
          28.8,
          53.7,
          51.5,
          36.3,
          42.6,
          47.9,
          27.8,
          43.3,
          13.5,
          26.4,
          59.5,
          40.4,
          30,
          50,
          8.8,
          12.3,
          29.1,
          46.4,
          25.6,
          46.8,
          42.9,
          29.7,
          58.6,
          31.2,
          48.9,
          37.6,
          41,
          42.7,
          60.4,
          40,
          31,
          33.6,
          40.2,
          53,
          50.5,
          58.9,
          38.2,
          16.1,
          49.1,
          50.9,
          45.6,
          18.2,
          63,
          37.4,
          18.2,
          54.9,
          17,
          45.4,
          47.3,
          32.7,
          35.6,
          59,
          53.9,
          25.6,
          18.8,
          60.6,
          51.6,
          36.2,
          44,
          42.8,
          24.5,
          50,
          48,
          28.4,
          38.7,
          27.5,
          42.7,
          44.6,
          34.2,
          62.7,
          42.2,
          9.7,
          50.3,
          40,
          22.9,
          57.5,
          55.4,
          44.9,
          63.1,
          46.3,
          50.3,
          65.7,
          60.6,
          42.4,
          39.1,
          26.1,
          38,
          59.1,
          34.5,
          51.8,
          43.1,
          33.8,
          58.5,
          34,
          37.3,
          39,
          43.4,
          55.4,
          30.6,
          40.6,
          57.5,
          22.6,
          55.3,
          38.5,
          44.9,
          29,
          51.2,
          24.2,
          40.6,
          29.9,
          46.7,
          48.8,
          1.8,
          26.7,
          6.9,
          63.9,
          25.4,
          52.3,
          49,
          33.6,
          56.9,
          35.6,
          67.8,
          39.1,
          35.3,
          24.3,
          64.3,
          33,
          37.3,
          41.9,
          65,
          35.4,
          34.2,
          34,
          38.9,
          35.5,
          12.6,
          38.9,
          24.6,
          42.8,
          39.6,
          19.8,
          22.5,
          40.9,
          21.2,
          45.2,
          54.1,
          45.7,
          41.1,
          46.8,
          19.5,
          39.7,
          31.8,
          48.6,
          37.5,
          31.1,
          41.5,
          29.2,
          44,
          52.5,
          45.9,
          37.7,
          30.5,
          45.4,
          22.1,
          8.5,
          41.1,
          58.4,
          52.7,
          37.1,
          49.5,
          37.8,
          51.3,
          61.8,
          33.6,
          58.7,
          58,
          55.4,
          38.1,
          45.3,
          20.5,
          43.7,
          42.6,
          25.1,
          28.8,
          13.4,
          31.9,
          56,
          60,
          39.1,
          23.5,
          42.7,
          54.1,
          42.8,
          46.2,
          39.4,
          17,
          32.5,
          49,
          36.4,
          24.8,
          59.7,
          45.5,
          30.9,
          64.6,
          32.5,
          40.1,
          32.9,
          54.5,
          24.8,
          51.5,
          49.3,
          50.4,
          34.8,
          53.2,
          26.6,
          42.4,
          40.7,
          35.4,
          43,
          39.8,
          41.7,
          42,
          23.8,
          16.6,
          58,
          46.2,
          37.1,
          43.3,
          51.7,
          17.3,
          26,
          50,
          34.9,
          33.2,
          50.3,
          2.3,
          27.7,
          24.1,
          35.2,
          18.7,
          31,
          42.6,
          40.6,
          52.8,
          50.9,
          37.1,
          37.2,
          19.6,
          51.5,
          42.2,
          37.3,
          52.6,
          56.1,
          24.2,
          45,
          44.6,
          32.7,
          51.2,
          47.8,
          39.3,
          35.9,
          40,
          47.3,
          59.3,
          46.9,
          35.4,
          51.1,
          52.3,
          44.6,
          29.2,
          53.7,
          41.5,
          25.5,
          50,
          48,
          46.4,
          20.4,
          43.7,
          60.5,
          56.7,
          48.7,
          38,
          31.5,
          32.8,
          21.9,
          41.3,
          42.5,
          60.3,
          40.5,
          49.3,
          39.1,
          41,
          46.8,
          55.5,
          37.3,
          14.1,
          41.7,
          46,
          26.7,
          32.2,
          32.2,
          43.6,
          62,
          53.1,
          42.5,
          66,
          40.4,
          9.5,
          42.2,
          59.2,
          17,
          24.2,
          16.3,
          45.4,
          51.3,
          57.5,
          62.4,
          28.7,
          34.4,
          64.3,
          58.4,
          62.3,
          52.2,
          31.5,
          53.8,
          38.8,
          52.9,
          43.6,
          47.3,
          20.8,
          56.5,
          42,
          43.3,
          25.4,
          59.4,
          44,
          63.6,
          12.2,
          26.7,
          22.9,
          41.1,
          65.5,
          28.9,
          47.3,
          29.1,
          53.5,
          15.5,
          48.3,
          35.8,
          49.1,
          22.9,
          40.7,
          54.3,
          61.8,
          27.1,
          50.1,
          51.2,
          53.3,
          27,
          46.1,
          22.6,
          55.7,
          63.2,
          49.2,
          64,
          15.7,
          35.6,
          56.5,
          36.1,
          52.5,
          31.6,
          42.3,
          56.2,
          17.5,
          22.4,
          43.8,
          43.8,
          23.6,
          32.9,
          40.1,
          52.1,
          25.4,
          52.9,
          36,
          42.9,
          37.6,
          49.1,
          47.6,
          48.4,
          61.6,
          48.9,
          50,
          56.2,
          55.6,
          30.1,
          46.7,
          42.2,
          60.7,
          25,
          44.9,
          35.4,
          33.7,
          50.8,
          30.5,
          41.6,
          65.4,
          63.8,
          55.5,
          66.7,
          66.7,
          70.3,
          55.1,
          33.2,
          39,
          23.2,
          62.6,
          50.2,
          56.9,
          23.9,
          30.2,
          33.6,
          42.6,
          48.8,
          7.6,
          39.4,
          28.2,
          30.5,
          48.3,
          37.4,
          34.1,
          38.6,
          52.3,
          46.1,
          24.2,
          47.8,
          53,
          35.4,
          50.7,
          42.4,
          46.2,
          19.7,
          42.1,
          26.1,
          48.4,
          40.5,
          37.2,
          60.1,
          34.1,
          34,
          34.4,
          24.1,
          27.7,
          39.5,
          45.5,
          25.3,
          47.9,
          51.3,
          60.2,
          30.1,
          47.1,
          41.5,
          45.3,
          63.2,
          47.9,
          40.2,
          52.6,
          34.9,
          7.7,
          39.3,
          32,
          28.9,
          47.3,
          54.9,
          44.3,
          28.8,
          26.6,
          19.2,
          39.4,
          44.8,
          29.6,
          18,
          28,
          58.2,
          44.5,
          54.5,
          53.5,
          41.2,
          51.5,
          31.8,
          52.5,
          20.8,
          48.8,
          40.1,
          49.5,
          21.6,
          40.8,
          21.8,
          38.2,
          33.4,
          46.3,
          48.8,
          47.1,
          48.2,
          51.7,
          18,
          24.4,
          50.9,
          46.2,
          41.2,
          41.7,
          48.1,
          35.7
         ],
         "locations": [
          "DEU",
          "IRL",
          "MEX",
          "GBR",
          "CHE",
          "GBR",
          "DEU",
          "TUR",
          "LUX",
          "JPN",
          "DEU",
          "MEX",
          "POL",
          "USA",
          "FRA",
          "JPN",
          "POL",
          "DEU",
          "MEX",
          "KOR",
          "USA",
          "ITA",
          "USA",
          "GBR",
          "ESP",
          "ITA",
          "COL",
          "AUT",
          "COL",
          "CHL",
          "ROU",
          "ROU",
          "KOR",
          "USA",
          "FRA",
          "USA",
          "ESP",
          "GBR",
          "FIN",
          "ESP",
          "PRT",
          "ROU",
          "ESP",
          "LVA",
          "MEX",
          "ESP",
          "ESP",
          "CAN",
          "MEX",
          "COL",
          "SWE",
          "GBR",
          "MEX",
          "MEX",
          "USA",
          "NLD",
          "USA",
          "LVA",
          "DEU",
          "CZE",
          "EST",
          "FRA",
          "USA",
          "USA",
          "BEL",
          "COL",
          "USA",
          "ITA",
          "ITA",
          "USA",
          "DEU",
          "ESP",
          "CHL",
          "SVK",
          "JPN",
          "USA",
          "ESP",
          "ESP",
          "JPN",
          "FRA",
          "GBR",
          "MEX",
          "USA",
          "GBR",
          "GBR",
          "ESP",
          "GBR",
          "SWE",
          "USA",
          "USA",
          "JPN",
          "ITA",
          "CHL",
          "USA",
          "USA",
          "GBR",
          "USA",
          "KOR",
          "CAN",
          "NLD",
          "MEX",
          "USA",
          "ITA",
          "USA",
          "TUR",
          "COL",
          "LTU",
          "USA",
          "USA",
          "GBR",
          "SWE",
          "PRT",
          "SVK",
          "GBR",
          "USA",
          "ITA",
          "FRA",
          "MEX",
          "USA",
          "CAN",
          "HRV",
          "ESP",
          "BEL",
          "FIN",
          "NLD",
          "JPN",
          "COL",
          "ITA",
          "GBR",
          "USA",
          "KOR",
          "ITA",
          "NOR",
          "NLD",
          "POL",
          "USA",
          "FIN",
          "COL",
          "JPN",
          "ESP",
          "COL",
          "USA",
          "GBR",
          "PRT",
          "COL",
          "POL",
          "LTU",
          "USA",
          "DEU",
          "FRA",
          "DEU",
          "NOR",
          "USA",
          "BEL",
          "HRV",
          "GBR",
          "ITA",
          "AUS",
          "NOR",
          "CHE",
          "CAN",
          "USA",
          "MEX",
          "USA",
          "ESP",
          "DEU",
          "USA",
          "ITA",
          "JPN",
          "NLD",
          "MEX",
          "ITA",
          "ESP",
          "ITA",
          "AUT",
          "DEU",
          "DEU",
          "COL",
          "MEX",
          "PRT",
          "FRA",
          "USA",
          "POL",
          "MEX",
          "FRA",
          "MEX",
          "USA",
          "GBR",
          "DEU",
          "MEX",
          "NZL",
          "FRA",
          "POL",
          "BGR",
          "FRA",
          "POL",
          "ESP",
          "ROU",
          "PRT",
          "KOR",
          "FIN",
          "JPN",
          "USA",
          "COL",
          "ESP",
          "AUS",
          "COL",
          "ESP",
          "ESP",
          "BEL",
          "POL",
          "AUS",
          "COL",
          "GBR",
          "ITA",
          "AUT",
          "TUR",
          "ITA",
          "NLD",
          "MEX",
          "DEU",
          "JPN",
          "MEX",
          "CAN",
          "MEX",
          "CHL",
          "DEU",
          "GRC",
          "GRC",
          "DEU",
          "DEU",
          "ROU",
          "CAN",
          "USA",
          "JPN",
          "MEX",
          "GRC",
          "FRA",
          "FRA",
          "TUR",
          "FRA",
          "USA",
          "BEL",
          "USA",
          "DEU",
          "MEX",
          "USA",
          "JPN",
          "USA",
          "JPN",
          "USA",
          "BEL",
          "GBR",
          "CAN",
          "DEU",
          "CHE",
          "GBR",
          "USA",
          "JPN",
          "USA",
          "ESP",
          "ITA",
          "ITA",
          "DEU",
          "BEL",
          "ITA",
          "USA",
          "FRA",
          "USA",
          "KOR",
          "NLD",
          "USA",
          "USA",
          "DEU",
          "DEU",
          "CHE",
          "COL",
          "ROU",
          "DNK",
          "POL",
          "MEX",
          "POL",
          "ESP",
          "FRA",
          "USA",
          "ROU",
          "NZL",
          "DEU",
          "NLD",
          "DEU",
          "JPN",
          "ITA",
          "TUR",
          "CYP",
          "AUS",
          "USA",
          "COL",
          "PRT",
          "CHL",
          "KOR",
          "ITA",
          "MEX",
          "MEX",
          "DEU",
          "DEU",
          "ITA",
          "GBR",
          "NZL",
          "LTU",
          "JPN",
          "COL",
          "ITA",
          "NLD",
          "FRA",
          "COL",
          "MEX",
          "GBR",
          "POL",
          "GBR",
          "GBR",
          "JPN",
          "ITA",
          "COL",
          "ESP",
          "GBR",
          "FRA",
          "BEL",
          "CZE",
          "NLD",
          "USA",
          "CAN",
          "MEX",
          "MEX",
          "FRA",
          "DEU",
          "MEX",
          "DEU",
          "JPN",
          "USA",
          "GBR",
          "SVK",
          "USA",
          "USA",
          "GBR",
          "USA",
          "COL",
          "MEX",
          "NLD",
          "GBR",
          "DEU",
          "USA",
          "JPN",
          "JPN",
          "GBR",
          "HUN",
          "LVA",
          "GBR",
          "MEX",
          "USA",
          "BEL",
          "ITA",
          "POL",
          "ITA",
          "TUR",
          "MEX",
          "ESP",
          "ESP",
          "USA",
          "CHL",
          "USA",
          "TUR",
          "JPN",
          "COL",
          "GBR",
          "MEX",
          "ITA",
          "USA",
          "POL",
          "ITA",
          "ROU",
          "MEX",
          "USA",
          "DEU",
          "USA",
          "COL",
          "SVN",
          "USA",
          "USA",
          "FRA",
          "TUR",
          "USA",
          "CZE",
          "NZL",
          "DEU",
          "ROU",
          "POL",
          "ESP",
          "USA",
          "POL",
          "USA",
          "CAN",
          "TUR",
          "USA",
          "JPN",
          "POL",
          "USA",
          "CHL",
          "USA",
          "FRA",
          "AUS",
          "ITA",
          "USA",
          "BEL",
          "GBR",
          "COL",
          "ITA",
          "JPN",
          "CAN",
          "MEX",
          "JPN",
          "ITA",
          "JPN",
          "USA",
          "USA",
          "GBR",
          "KOR",
          "ITA",
          "JPN",
          "MEX",
          "ROU",
          "AUT",
          "FRA",
          "ESP",
          "POL",
          "ESP",
          "CAN",
          "POL",
          "GBR",
          "USA",
          "NLD",
          "ITA",
          "USA",
          "CAN",
          "MEX",
          "COL",
          "POL",
          "GBR",
          "ITA",
          "CHE",
          "FRA",
          "IRL",
          "JPN",
          "USA",
          "GBR",
          "ITA",
          "GBR",
          "HUN",
          "CAN",
          "USA",
          "MEX",
          "ITA",
          "MEX",
          "USA",
          "USA",
          "SVK",
          "USA",
          "COL",
          "DNK",
          "DEU",
          "USA",
          "SWE",
          "ROU",
          "ITA",
          "USA",
          "MEX",
          "USA",
          "USA",
          "USA",
          "ESP",
          "MEX",
          "FRA",
          "NLD",
          "ITA",
          "CAN",
          "CHL",
          "COL",
          "DEU",
          "ESP",
          "BGR",
          "CHL",
          "ROU",
          "USA",
          "JPN",
          "GBR",
          "ROU",
          "FRA",
          "USA",
          "USA",
          "JPN",
          "COL",
          "MEX",
          "CYP",
          "ITA",
          "USA",
          "MEX",
          "DEU",
          "USA",
          "USA",
          "DEU",
          "GBR",
          "CAN",
          "ESP",
          "GRC",
          "USA",
          "GRC",
          "NLD",
          "ITA",
          "DEU",
          "FRA",
          "USA",
          "MEX",
          "GBR",
          "ITA",
          "MEX",
          "ESP",
          "FRA",
          "ITA",
          "COL",
          "USA",
          "MEX",
          "USA",
          "ITA",
          "DEU",
          "DEU",
          "COL",
          "CHE",
          "ROU",
          "MEX",
          "JPN",
          "NZL",
          "DEU",
          "JPN",
          "JPN",
          "GBR",
          "USA",
          "CHL",
          "USA",
          "DEU",
          "JPN",
          "JPN",
          "CAN",
          "NZL",
          "POL",
          "POL",
          "ITA",
          "MEX",
          "GBR",
          "GBR",
          "ITA",
          "POL",
          "MEX",
          "ESP",
          "MEX",
          "KOR",
          "GBR",
          "GBR",
          "MEX",
          "USA",
          "USA",
          "JPN",
          "JPN",
          "GBR",
          "AUS",
          "ESP",
          "USA",
          "GBR",
          "USA",
          "MEX",
          "USA",
          "JPN",
          "CHL",
          "FRA",
          "AUS",
          "GBR",
          "USA",
          "ITA",
          "ESP",
          "USA",
          "USA",
          "FRA",
          "JPN",
          "NLD",
          "JPN",
          "USA",
          "USA",
          "USA",
          "MEX",
          "GBR",
          "JPN",
          "USA",
          "USA",
          "USA",
          "MEX",
          "USA",
          "POL",
          "USA",
          "USA",
          "KOR",
          "CHE",
          "DEU",
          "AUT",
          "ESP",
          "NLD",
          "JPN",
          "USA",
          "ESP",
          "KOR",
          "DEU",
          "GBR",
          "HUN",
          "FRA",
          "GBR",
          "ESP",
          "NLD",
          "CHL",
          "JPN",
          "DEU",
          "FRA",
          "USA",
          "EST",
          "CHL",
          "JPN",
          "GRC",
          "USA",
          "USA",
          "USA",
          "USA",
          "FRA",
          "USA",
          "ESP",
          "SWE",
          "TUR",
          "FRA",
          "AUS",
          "USA",
          "TUR",
          "ESP",
          "ITA",
          "FRA",
          "GBR",
          "USA",
          "DEU",
          "FRA",
          "MEX",
          "USA",
          "DEU",
          "FRA",
          "MEX",
          "USA",
          "ESP",
          "TUR",
          "USA",
          "MEX",
          "NLD",
          "SVK",
          "CHL",
          "COL",
          "ITA",
          "BEL",
          "GRC",
          "MEX",
          "DEU",
          "GBR",
          "ESP",
          "DEU",
          "USA",
          "MEX",
          "DEU",
          "POL",
          "ROU",
          "USA",
          "TUR",
          "ROU",
          "ITA",
          "KOR",
          "DEU",
          "CAN",
          "JPN",
          "COL",
          "TUR",
          "ESP",
          "USA",
          "DEU",
          "GBR",
          "ITA",
          "GBR",
          "HRV",
          "USA",
          "USA",
          "NLD",
          "COL",
          "ITA",
          "TUR",
          "DEU",
          "SVK",
          "GBR",
          "FRA",
          "GBR",
          "CHE",
          "FRA",
          "DEU",
          "LTU",
          "FRA",
          "USA",
          "USA",
          "FRA",
          "SWE",
          "CHL",
          "GBR",
          "MEX",
          "USA",
          "JPN",
          "ITA",
          "KOR",
          "LTU",
          "MEX",
          "USA",
          "DEU",
          "CHL",
          "JPN",
          "COL",
          "USA",
          "MEX",
          "USA",
          "GBR",
          "ESP",
          "USA",
          "DEU",
          "USA",
          "ROU",
          "USA",
          "USA",
          "USA",
          "USA",
          "AUS",
          "USA",
          "USA",
          "ESP",
          "CZE",
          "DEU",
          "NZL",
          "COL",
          "JPN",
          "ITA",
          "MEX",
          "ROU",
          "JPN",
          "USA",
          "BGR",
          "ESP",
          "MEX",
          "FRA",
          "NOR",
          "POL",
          "ROU",
          "GBR",
          "MEX",
          "COL",
          "COL",
          "DEU",
          "MEX",
          "BGR",
          "ITA",
          "MEX",
          "GBR",
          "FRA",
          "FRA",
          "GBR",
          "TUR",
          "DEU",
          "JPN",
          "MEX",
          "NLD",
          "DEU",
          "USA",
          "KOR",
          "COL",
          "COL",
          "POL",
          "FRA",
          "JPN",
          "USA",
          "USA",
          "CZE",
          "CHL",
          "SWE",
          "MEX",
          "AUS",
          "DEU",
          "TUR",
          "MEX",
          "CYP",
          "AUS",
          "ESP",
          "USA",
          "FIN",
          "CHL",
          "BGR",
          "ESP",
          "NLD",
          "ITA",
          "USA",
          "MEX",
          "MEX",
          "GBR",
          "HUN",
          "FRA",
          "USA",
          "HUN",
          "TUR",
          "COL",
          "FRA",
          "ROU",
          "ROU",
          "COL",
          "FRA",
          "GBR",
          "COL",
          "DEU",
          "ESP",
          "DEU",
          "MEX",
          "NLD",
          "KOR",
          "NLD",
          "CZE",
          "CAN",
          "FRA",
          "CAN",
          "CHL",
          "USA",
          "AUS",
          "FRA",
          "ROU",
          "FRA",
          "USA",
          "JPN",
          "MEX",
          "COL",
          "ITA",
          "CAN",
          "GBR",
          "CHL",
          "TUR",
          "JPN",
          "COL",
          "ITA",
          "ESP",
          "COL",
          "POL",
          "DEU",
          "DEU",
          "ITA",
          "ESP",
          "CHL",
          "USA",
          "FRA",
          "FRA",
          "NLD",
          "USA",
          "USA",
          "SWE",
          "POL",
          "USA",
          "COL",
          "USA",
          "MEX",
          "TUR",
          "ITA",
          "GBR",
          "USA",
          "GBR",
          "ESP",
          "POL",
          "GBR",
          "ESP",
          "POL",
          "SWE",
          "COL",
          "MEX",
          "USA",
          "GBR",
          "DEU",
          "MEX",
          "ESP",
          "POL",
          "COL",
          "POL",
          "COL",
          "USA",
          "USA",
          "ITA",
          "ITA",
          "DEU",
          "USA",
          "FRA",
          "CZE",
          "FRA",
          "USA",
          "MEX",
          "ITA",
          "USA",
          "KOR",
          "HUN",
          "POL",
          "ESP",
          "ROU",
          "CHL",
          "GBR",
          "USA",
          "USA",
          "USA",
          "USA",
          "FRA",
          "USA",
          "NLD",
          "USA",
          "TUR",
          "ITA",
          "ESP",
          "GBR",
          "COL",
          "USA",
          "COL",
          "BGR",
          "AUT",
          "GBR",
          "POL",
          "USA",
          "DEU",
          "ITA",
          "CAN",
          "FRA",
          "USA",
          "FRA",
          "CAN",
          "TUR",
          "USA",
          "LTU",
          "FRA",
          "MEX",
          "CHE",
          "DEU",
          "GBR",
          "JPN",
          "ITA",
          "MEX",
          "ROU",
          "USA",
          "FRA",
          "NLD",
          "ESP",
          "DEU",
          "JPN",
          "GBR",
          "ITA",
          "GBR",
          "CHL",
          "MEX",
          "COL",
          "GBR",
          "KOR",
          "DEU",
          "USA",
          "FRA",
          "MEX",
          "ITA",
          "MEX",
          "POL",
          "USA",
          "COL",
          "USA",
          "MEX",
          "DEU",
          "USA",
          "CZE",
          "HUN",
          "ESP",
          "ESP",
          "CZE",
          "MEX",
          "CHL",
          "ITA",
          "ITA",
          "TUR",
          "KOR",
          "USA",
          "DEU",
          "ROU",
          "ITA",
          "MEX",
          "BEL",
          "USA",
          "DEU",
          "GBR",
          "POL",
          "GBR",
          "POL",
          "DNK",
          "GBR",
          "USA",
          "ESP",
          "HRV",
          "BGR",
          "USA",
          "MEX",
          "ESP",
          "SVN",
          "USA",
          "GBR",
          "MEX",
          "FIN",
          "USA",
          "USA",
          "CAN",
          "GBR",
          "USA",
          "TUR",
          "USA",
          "USA",
          "POL",
          "JPN",
          "USA",
          "ESP",
          "GBR",
          "ITA",
          "AUS",
          "MEX",
          "HRV",
          "ESP",
          "JPN",
          "HUN",
          "MEX",
          "COL",
          "POL",
          "DEU",
          "ITA",
          "USA",
          "GBR",
          "AUS",
          "JPN",
          "DEU",
          "ESP",
          "USA",
          "DEU",
          "NLD",
          "ROU",
          "USA",
          "DEU",
          "KOR",
          "IRL",
          "KOR",
          "POL",
          "USA",
          "CHL",
          "ROU",
          "CAN",
          "MEX",
          "FRA",
          "GRC",
          "CAN",
          "ESP",
          "DNK",
          "DEU",
          "USA",
          "ESP",
          "GBR",
          "USA",
          "FRA",
          "USA",
          "USA",
          "KOR",
          "USA",
          "AUS",
          "USA",
          "FRA",
          "HRV",
          "JPN",
          "AUS",
          "POL",
          "ESP",
          "ITA",
          "MLT",
          "CHL",
          "FRA",
          "GBR",
          "MEX",
          "COL",
          "TUR",
          "ESP",
          "ROU",
          "USA",
          "ISL",
          "ITA",
          "USA",
          "MEX",
          "GBR",
          "JPN",
          "POL",
          "ITA",
          "NLD",
          "GRC",
          "TUR",
          "ITA",
          "FRA",
          "ROU",
          "GBR",
          "CHE",
          "HUN",
          "ITA",
          "HUN",
          "JPN",
          "JPN",
          "CAN",
          "POL",
          "CZE",
          "GBR",
          "DEU",
          "FRA"
         ],
         "name": "",
         "type": "choropleth",
         "z": [
          56.1,
          53.1,
          58.4,
          49.3,
          62.5,
          56.2,
          49.2,
          25.3,
          46,
          8.9,
          66.9,
          16,
          58.5,
          37.1,
          39.1,
          17.5,
          48.2,
          56.1,
          22.6,
          32.4,
          24.7,
          35.3,
          62.8,
          52.6,
          25.6,
          27.6,
          39.5,
          40.8,
          49.4,
          32.1,
          30.5,
          39.2,
          32.1,
          55.7,
          52.2,
          54.1,
          32.4,
          42.7,
          51.5,
          27.4,
          44.9,
          22.9,
          40.1,
          37.2,
          42.5,
          17.3,
          31.8,
          42.1,
          35.7,
          51.9,
          44.7,
          43.9,
          24.3,
          14.8,
          62.9,
          41.8,
          64,
          47.6,
          50.3,
          61.1,
          47.4,
          46.6,
          48.5,
          52.9,
          42.2,
          29.3,
          46.1,
          43.4,
          34.7,
          45.8,
          48.6,
          49.4,
          22.4,
          48.7,
          14.3,
          49.5,
          47.6,
          38.1,
          43.5,
          38.7,
          56.4,
          27.3,
          55.1,
          35.8,
          60.2,
          33.9,
          54.5,
          46.2,
          63.9,
          63.3,
          13,
          34.1,
          14.3,
          56.7,
          57.5,
          43.7,
          58.4,
          41.4,
          49.4,
          41.9,
          16.1,
          55.4,
          20.3,
          52,
          28.7,
          31,
          53.9,
          66.3,
          48.7,
          58.6,
          40,
          43.9,
          27,
          37,
          55.1,
          22.6,
          47.8,
          20.9,
          43.3,
          40.4,
          57.7,
          27.5,
          55.1,
          54.9,
          43.8,
          15.7,
          39.4,
          44.8,
          54.1,
          18.7,
          26.4,
          55.2,
          53.1,
          45.1,
          52.5,
          50.4,
          52.9,
          34,
          19.8,
          41.2,
          33.1,
          65.5,
          46.2,
          39.1,
          42.6,
          53.9,
          48.7,
          54,
          48.9,
          42.3,
          51.5,
          52,
          62.7,
          47.9,
          32.5,
          45.6,
          33.1,
          37.1,
          65.6,
          51.7,
          40.9,
          64.6,
          25.1,
          45.9,
          41.9,
          47.3,
          52.9,
          25.4,
          30.9,
          48.5,
          15.9,
          38.4,
          34.7,
          16.1,
          52.2,
          44.3,
          42.8,
          46.4,
          44.3,
          46.1,
          47.6,
          61.3,
          52.7,
          13.9,
          41.7,
          29.4,
          11.6,
          56.2,
          62.4,
          47.7,
          45.6,
          33.3,
          53.3,
          36.8,
          40.4,
          70.3,
          48.6,
          38,
          47.7,
          24.3,
          42,
          16.2,
          15.8,
          37.3,
          51.6,
          30.6,
          58.6,
          33.2,
          46.2,
          37.7,
          51.9,
          30.8,
          19.6,
          54,
          57.5,
          35.3,
          33.8,
          30.8,
          46.1,
          30.9,
          54.6,
          17.8,
          16.1,
          53.3,
          18.6,
          18.7,
          56.4,
          48.9,
          47.6,
          55.7,
          53.5,
          32.9,
          49.1,
          30.9,
          13.7,
          44.8,
          41.7,
          41,
          42.4,
          34.1,
          32.2,
          52.1,
          54.3,
          62.4,
          55.5,
          3.4,
          57.2,
          12.4,
          51.4,
          26.5,
          55.3,
          39.5,
          47,
          50.4,
          59.4,
          50,
          57.3,
          62.3,
          19.8,
          48.2,
          53.5,
          45.5,
          27.2,
          50.5,
          32.8,
          46.8,
          64.7,
          53.1,
          52.9,
          33.6,
          47.4,
          60.9,
          23.6,
          56.6,
          45.4,
          66.2,
          53.3,
          41.5,
          47.5,
          49.7,
          25.5,
          36.7,
          46.3,
          37.9,
          44.4,
          21.5,
          33.7,
          51.6,
          41.1,
          54.4,
          17.4,
          35.3,
          19.7,
          26.6,
          27.4,
          27.2,
          46.6,
          37.6,
          39.2,
          37.4,
          28.4,
          28.2,
          11.5,
          43,
          46.5,
          31.5,
          37.3,
          57.8,
          54.1,
          20.9,
          32.1,
          41.3,
          51.7,
          48.8,
          59,
          25.3,
          54.4,
          46.8,
          53.5,
          43.6,
          19.9,
          40.8,
          50.7,
          53,
          55.1,
          44.1,
          44.7,
          46.6,
          34.5,
          11.3,
          51.8,
          32.6,
          22.5,
          47.4,
          57.4,
          2.7,
          57.3,
          21.5,
          44.9,
          50.9,
          52.3,
          41.9,
          63.8,
          52,
          13.3,
          56.5,
          14.5,
          47.5,
          56.8,
          54.3,
          58.5,
          24,
          20,
          52.1,
          45,
          41.1,
          57.4,
          51.1,
          38.4,
          51.7,
          53.2,
          62.3,
          33.7,
          36.3,
          37.7,
          35.9,
          36.7,
          68.9,
          17.7,
          59.4,
          19.8,
          19.2,
          36,
          35.9,
          23.8,
          32.5,
          30.1,
          38.6,
          34.3,
          32,
          19.6,
          62.2,
          50.1,
          53.3,
          38.9,
          49.7,
          38.8,
          46.5,
          45.6,
          32.2,
          60.2,
          42.9,
          41.8,
          48.8,
          31.9,
          50,
          59.5,
          17.8,
          48.4,
          71,
          34.9,
          26.3,
          61,
          19.9,
          29.9,
          60.6,
          0.9,
          59.2,
          33.2,
          33.5,
          24.4,
          59.5,
          39.5,
          44.8,
          37.9,
          33.3,
          12.9,
          66.2,
          26.1,
          10,
          26.9,
          27.2,
          36.5,
          48.2,
          39.7,
          43.6,
          28.7,
          20,
          28,
          34.1,
          40.9,
          46.1,
          50.1,
          58.1,
          37,
          47.9,
          52.4,
          49.9,
          55.5,
          41.5,
          36.9,
          62.6,
          48.3,
          25.1,
          25.4,
          52.1,
          63.7,
          42.4,
          53.5,
          49.7,
          57.1,
          17.9,
          49.7,
          52.9,
          33.1,
          51.9,
          37.7,
          41.7,
          49.3,
          22.2,
          42.6,
          47.9,
          54.9,
          62.8,
          43.8,
          64.2,
          16.8,
          49.1,
          52.5,
          46.5,
          60.5,
          22,
          23.2,
          57.2,
          14.5,
          66.6,
          54.6,
          31.9,
          31.4,
          20.2,
          37.6,
          45.7,
          58.2,
          54.3,
          25.2,
          43.2,
          59,
          40.3,
          39.7,
          23.4,
          35.5,
          49.9,
          19.3,
          47,
          35.3,
          26.6,
          69.2,
          56.5,
          19.9,
          53.4,
          26.3,
          17.1,
          44,
          49.3,
          42.5,
          48.8,
          56.3,
          57.1,
          44.2,
          53.2,
          46.2,
          42.9,
          38.4,
          56.3,
          30.3,
          46.8,
          39.5,
          44,
          36.6,
          63.9,
          24.4,
          53,
          40.4,
          54.4,
          51.3,
          34.1,
          42.6,
          41.5,
          57.9,
          22.9,
          63.2,
          39.1,
          36.8,
          54.1,
          38.8,
          54.7,
          40.4,
          35.1,
          32.4,
          35.6,
          67.9,
          24.1,
          14.6,
          55.6,
          29.5,
          18.3,
          60.3,
          40.1,
          15.6,
          15.2,
          46.4,
          49.6,
          49.1,
          48.7,
          49.7,
          18.1,
          54.6,
          48.8,
          46,
          51.1,
          12.2,
          28.8,
          23.6,
          18.4,
          37.4,
          59.1,
          31.4,
          34.3,
          57.5,
          36.1,
          13.7,
          53.9,
          52.4,
          48,
          32.7,
          42.6,
          55.7,
          39.4,
          25.9,
          12.4,
          24,
          32.7,
          31,
          54.3,
          61.1,
          58.6,
          58.6,
          60.9,
          33.7,
          46.4,
          28.1,
          45.9,
          24.1,
          55.3,
          56.8,
          15.8,
          31.2,
          58.3,
          16.2,
          42.1,
          54.8,
          58.3,
          22.8,
          56.5,
          42.4,
          62.4,
          55.1,
          28.7,
          50.3,
          46.5,
          41.2,
          37.5,
          49.5,
          16.4,
          54.2,
          49.9,
          28.8,
          53.7,
          51.5,
          36.3,
          42.6,
          47.9,
          27.8,
          43.3,
          13.5,
          26.4,
          59.5,
          40.4,
          30,
          50,
          8.8,
          12.3,
          29.1,
          46.4,
          25.6,
          46.8,
          42.9,
          29.7,
          58.6,
          31.2,
          48.9,
          37.6,
          41,
          42.7,
          60.4,
          40,
          31,
          33.6,
          40.2,
          53,
          50.5,
          58.9,
          38.2,
          16.1,
          49.1,
          50.9,
          45.6,
          18.2,
          63,
          37.4,
          18.2,
          54.9,
          17,
          45.4,
          47.3,
          32.7,
          35.6,
          59,
          53.9,
          25.6,
          18.8,
          60.6,
          51.6,
          36.2,
          44,
          42.8,
          24.5,
          50,
          48,
          28.4,
          38.7,
          27.5,
          42.7,
          44.6,
          34.2,
          62.7,
          42.2,
          9.7,
          50.3,
          40,
          22.9,
          57.5,
          55.4,
          44.9,
          63.1,
          46.3,
          50.3,
          65.7,
          60.6,
          42.4,
          39.1,
          26.1,
          38,
          59.1,
          34.5,
          51.8,
          43.1,
          33.8,
          58.5,
          34,
          37.3,
          39,
          43.4,
          55.4,
          30.6,
          40.6,
          57.5,
          22.6,
          55.3,
          38.5,
          44.9,
          29,
          51.2,
          24.2,
          40.6,
          29.9,
          46.7,
          48.8,
          1.8,
          26.7,
          6.9,
          63.9,
          25.4,
          52.3,
          49,
          33.6,
          56.9,
          35.6,
          67.8,
          39.1,
          35.3,
          24.3,
          64.3,
          33,
          37.3,
          41.9,
          65,
          35.4,
          34.2,
          34,
          38.9,
          35.5,
          12.6,
          38.9,
          24.6,
          42.8,
          39.6,
          19.8,
          22.5,
          40.9,
          21.2,
          45.2,
          54.1,
          45.7,
          41.1,
          46.8,
          19.5,
          39.7,
          31.8,
          48.6,
          37.5,
          31.1,
          41.5,
          29.2,
          44,
          52.5,
          45.9,
          37.7,
          30.5,
          45.4,
          22.1,
          8.5,
          41.1,
          58.4,
          52.7,
          37.1,
          49.5,
          37.8,
          51.3,
          61.8,
          33.6,
          58.7,
          58,
          55.4,
          38.1,
          45.3,
          20.5,
          43.7,
          42.6,
          25.1,
          28.8,
          13.4,
          31.9,
          56,
          60,
          39.1,
          23.5,
          42.7,
          54.1,
          42.8,
          46.2,
          39.4,
          17,
          32.5,
          49,
          36.4,
          24.8,
          59.7,
          45.5,
          30.9,
          64.6,
          32.5,
          40.1,
          32.9,
          54.5,
          24.8,
          51.5,
          49.3,
          50.4,
          34.8,
          53.2,
          26.6,
          42.4,
          40.7,
          35.4,
          43,
          39.8,
          41.7,
          42,
          23.8,
          16.6,
          58,
          46.2,
          37.1,
          43.3,
          51.7,
          17.3,
          26,
          50,
          34.9,
          33.2,
          50.3,
          2.3,
          27.7,
          24.1,
          35.2,
          18.7,
          31,
          42.6,
          40.6,
          52.8,
          50.9,
          37.1,
          37.2,
          19.6,
          51.5,
          42.2,
          37.3,
          52.6,
          56.1,
          24.2,
          45,
          44.6,
          32.7,
          51.2,
          47.8,
          39.3,
          35.9,
          40,
          47.3,
          59.3,
          46.9,
          35.4,
          51.1,
          52.3,
          44.6,
          29.2,
          53.7,
          41.5,
          25.5,
          50,
          48,
          46.4,
          20.4,
          43.7,
          60.5,
          56.7,
          48.7,
          38,
          31.5,
          32.8,
          21.9,
          41.3,
          42.5,
          60.3,
          40.5,
          49.3,
          39.1,
          41,
          46.8,
          55.5,
          37.3,
          14.1,
          41.7,
          46,
          26.7,
          32.2,
          32.2,
          43.6,
          62,
          53.1,
          42.5,
          66,
          40.4,
          9.5,
          42.2,
          59.2,
          17,
          24.2,
          16.3,
          45.4,
          51.3,
          57.5,
          62.4,
          28.7,
          34.4,
          64.3,
          58.4,
          62.3,
          52.2,
          31.5,
          53.8,
          38.8,
          52.9,
          43.6,
          47.3,
          20.8,
          56.5,
          42,
          43.3,
          25.4,
          59.4,
          44,
          63.6,
          12.2,
          26.7,
          22.9,
          41.1,
          65.5,
          28.9,
          47.3,
          29.1,
          53.5,
          15.5,
          48.3,
          35.8,
          49.1,
          22.9,
          40.7,
          54.3,
          61.8,
          27.1,
          50.1,
          51.2,
          53.3,
          27,
          46.1,
          22.6,
          55.7,
          63.2,
          49.2,
          64,
          15.7,
          35.6,
          56.5,
          36.1,
          52.5,
          31.6,
          42.3,
          56.2,
          17.5,
          22.4,
          43.8,
          43.8,
          23.6,
          32.9,
          40.1,
          52.1,
          25.4,
          52.9,
          36,
          42.9,
          37.6,
          49.1,
          47.6,
          48.4,
          61.6,
          48.9,
          50,
          56.2,
          55.6,
          30.1,
          46.7,
          42.2,
          60.7,
          25,
          44.9,
          35.4,
          33.7,
          50.8,
          30.5,
          41.6,
          65.4,
          63.8,
          55.5,
          66.7,
          66.7,
          70.3,
          55.1,
          33.2,
          39,
          23.2,
          62.6,
          50.2,
          56.9,
          23.9,
          30.2,
          33.6,
          42.6,
          48.8,
          7.6,
          39.4,
          28.2,
          30.5,
          48.3,
          37.4,
          34.1,
          38.6,
          52.3,
          46.1,
          24.2,
          47.8,
          53,
          35.4,
          50.7,
          42.4,
          46.2,
          19.7,
          42.1,
          26.1,
          48.4,
          40.5,
          37.2,
          60.1,
          34.1,
          34,
          34.4,
          24.1,
          27.7,
          39.5,
          45.5,
          25.3,
          47.9,
          51.3,
          60.2,
          30.1,
          47.1,
          41.5,
          45.3,
          63.2,
          47.9,
          40.2,
          52.6,
          34.9,
          7.7,
          39.3,
          32,
          28.9,
          47.3,
          54.9,
          44.3,
          28.8,
          26.6,
          19.2,
          39.4,
          44.8,
          29.6,
          18,
          28,
          58.2,
          44.5,
          54.5,
          53.5,
          41.2,
          51.5,
          31.8,
          52.5,
          20.8,
          48.8,
          40.1,
          49.5,
          21.6,
          40.8,
          21.8,
          38.2,
          33.4,
          46.3,
          48.8,
          47.1,
          48.2,
          51.7,
          18,
          24.4,
          50.9,
          46.2,
          41.2,
          41.7,
          48.1,
          35.7
         ]
        }
       ],
       "layout": {
        "annotations": [
         {
          "align": "center",
          "font": {
           "size": 13
          },
          "showarrow": false,
          "text": "Deze wereldkaart laat de gemiddelde aandeel groen ten opzichte van de oppervlakte van een<br>stad per land zien. Als je met de muis over een land heen beweegt, dan zie je de precieze percentage.",
          "x": 0.7,
          "xanchor": "center",
          "xref": "paper",
          "y": -0.1,
          "yanchor": "top",
          "yref": "paper"
         }
        ],
        "coloraxis": {
         "colorbar": {
          "title": {
           "text": "Gemiddelde aandeel van groen in oppervlakte van stad"
          }
         },
         "colorscale": [
          [
           0,
           "#0d0887"
          ],
          [
           0.1111111111111111,
           "#46039f"
          ],
          [
           0.2222222222222222,
           "#7201a8"
          ],
          [
           0.3333333333333333,
           "#9c179e"
          ],
          [
           0.4444444444444444,
           "#bd3786"
          ],
          [
           0.5555555555555556,
           "#d8576b"
          ],
          [
           0.6666666666666666,
           "#ed7953"
          ],
          [
           0.7777777777777778,
           "#fb9f3a"
          ],
          [
           0.8888888888888888,
           "#fdca26"
          ],
          [
           1,
           "#f0f921"
          ]
         ]
        },
        "geo": {
         "center": {},
         "domain": {
          "x": [
           0,
           1
          ],
          "y": [
           0,
           1
          ]
         },
         "projection": {
          "type": "natural earth"
         }
        },
        "height": 500,
        "legend": {
         "tracegroupgap": 0
        },
        "showlegend": false,
        "template": {
         "data": {
          "bar": [
           {
            "error_x": {
             "color": "#2a3f5f"
            },
            "error_y": {
             "color": "#2a3f5f"
            },
            "marker": {
             "line": {
              "color": "#E5ECF6",
              "width": 0.5
             },
             "pattern": {
              "fillmode": "overlay",
              "size": 10,
              "solidity": 0.2
             }
            },
            "type": "bar"
           }
          ],
          "barpolar": [
           {
            "marker": {
             "line": {
              "color": "#E5ECF6",
              "width": 0.5
             },
             "pattern": {
              "fillmode": "overlay",
              "size": 10,
              "solidity": 0.2
             }
            },
            "type": "barpolar"
           }
          ],
          "carpet": [
           {
            "aaxis": {
             "endlinecolor": "#2a3f5f",
             "gridcolor": "white",
             "linecolor": "white",
             "minorgridcolor": "white",
             "startlinecolor": "#2a3f5f"
            },
            "baxis": {
             "endlinecolor": "#2a3f5f",
             "gridcolor": "white",
             "linecolor": "white",
             "minorgridcolor": "white",
             "startlinecolor": "#2a3f5f"
            },
            "type": "carpet"
           }
          ],
          "choropleth": [
           {
            "colorbar": {
             "outlinewidth": 0,
             "ticks": ""
            },
            "type": "choropleth"
           }
          ],
          "contour": [
           {
            "colorbar": {
             "outlinewidth": 0,
             "ticks": ""
            },
            "colorscale": [
             [
              0,
              "#0d0887"
             ],
             [
              0.1111111111111111,
              "#46039f"
             ],
             [
              0.2222222222222222,
              "#7201a8"
             ],
             [
              0.3333333333333333,
              "#9c179e"
             ],
             [
              0.4444444444444444,
              "#bd3786"
             ],
             [
              0.5555555555555556,
              "#d8576b"
             ],
             [
              0.6666666666666666,
              "#ed7953"
             ],
             [
              0.7777777777777778,
              "#fb9f3a"
             ],
             [
              0.8888888888888888,
              "#fdca26"
             ],
             [
              1,
              "#f0f921"
             ]
            ],
            "type": "contour"
           }
          ],
          "contourcarpet": [
           {
            "colorbar": {
             "outlinewidth": 0,
             "ticks": ""
            },
            "type": "contourcarpet"
           }
          ],
          "heatmap": [
           {
            "colorbar": {
             "outlinewidth": 0,
             "ticks": ""
            },
            "colorscale": [
             [
              0,
              "#0d0887"
             ],
             [
              0.1111111111111111,
              "#46039f"
             ],
             [
              0.2222222222222222,
              "#7201a8"
             ],
             [
              0.3333333333333333,
              "#9c179e"
             ],
             [
              0.4444444444444444,
              "#bd3786"
             ],
             [
              0.5555555555555556,
              "#d8576b"
             ],
             [
              0.6666666666666666,
              "#ed7953"
             ],
             [
              0.7777777777777778,
              "#fb9f3a"
             ],
             [
              0.8888888888888888,
              "#fdca26"
             ],
             [
              1,
              "#f0f921"
             ]
            ],
            "type": "heatmap"
           }
          ],
          "heatmapgl": [
           {
            "colorbar": {
             "outlinewidth": 0,
             "ticks": ""
            },
            "colorscale": [
             [
              0,
              "#0d0887"
             ],
             [
              0.1111111111111111,
              "#46039f"
             ],
             [
              0.2222222222222222,
              "#7201a8"
             ],
             [
              0.3333333333333333,
              "#9c179e"
             ],
             [
              0.4444444444444444,
              "#bd3786"
             ],
             [
              0.5555555555555556,
              "#d8576b"
             ],
             [
              0.6666666666666666,
              "#ed7953"
             ],
             [
              0.7777777777777778,
              "#fb9f3a"
             ],
             [
              0.8888888888888888,
              "#fdca26"
             ],
             [
              1,
              "#f0f921"
             ]
            ],
            "type": "heatmapgl"
           }
          ],
          "histogram": [
           {
            "marker": {
             "pattern": {
              "fillmode": "overlay",
              "size": 10,
              "solidity": 0.2
             }
            },
            "type": "histogram"
           }
          ],
          "histogram2d": [
           {
            "colorbar": {
             "outlinewidth": 0,
             "ticks": ""
            },
            "colorscale": [
             [
              0,
              "#0d0887"
             ],
             [
              0.1111111111111111,
              "#46039f"
             ],
             [
              0.2222222222222222,
              "#7201a8"
             ],
             [
              0.3333333333333333,
              "#9c179e"
             ],
             [
              0.4444444444444444,
              "#bd3786"
             ],
             [
              0.5555555555555556,
              "#d8576b"
             ],
             [
              0.6666666666666666,
              "#ed7953"
             ],
             [
              0.7777777777777778,
              "#fb9f3a"
             ],
             [
              0.8888888888888888,
              "#fdca26"
             ],
             [
              1,
              "#f0f921"
             ]
            ],
            "type": "histogram2d"
           }
          ],
          "histogram2dcontour": [
           {
            "colorbar": {
             "outlinewidth": 0,
             "ticks": ""
            },
            "colorscale": [
             [
              0,
              "#0d0887"
             ],
             [
              0.1111111111111111,
              "#46039f"
             ],
             [
              0.2222222222222222,
              "#7201a8"
             ],
             [
              0.3333333333333333,
              "#9c179e"
             ],
             [
              0.4444444444444444,
              "#bd3786"
             ],
             [
              0.5555555555555556,
              "#d8576b"
             ],
             [
              0.6666666666666666,
              "#ed7953"
             ],
             [
              0.7777777777777778,
              "#fb9f3a"
             ],
             [
              0.8888888888888888,
              "#fdca26"
             ],
             [
              1,
              "#f0f921"
             ]
            ],
            "type": "histogram2dcontour"
           }
          ],
          "mesh3d": [
           {
            "colorbar": {
             "outlinewidth": 0,
             "ticks": ""
            },
            "type": "mesh3d"
           }
          ],
          "parcoords": [
           {
            "line": {
             "colorbar": {
              "outlinewidth": 0,
              "ticks": ""
             }
            },
            "type": "parcoords"
           }
          ],
          "pie": [
           {
            "automargin": true,
            "type": "pie"
           }
          ],
          "scatter": [
           {
            "fillpattern": {
             "fillmode": "overlay",
             "size": 10,
             "solidity": 0.2
            },
            "type": "scatter"
           }
          ],
          "scatter3d": [
           {
            "line": {
             "colorbar": {
              "outlinewidth": 0,
              "ticks": ""
             }
            },
            "marker": {
             "colorbar": {
              "outlinewidth": 0,
              "ticks": ""
             }
            },
            "type": "scatter3d"
           }
          ],
          "scattercarpet": [
           {
            "marker": {
             "colorbar": {
              "outlinewidth": 0,
              "ticks": ""
             }
            },
            "type": "scattercarpet"
           }
          ],
          "scattergeo": [
           {
            "marker": {
             "colorbar": {
              "outlinewidth": 0,
              "ticks": ""
             }
            },
            "type": "scattergeo"
           }
          ],
          "scattergl": [
           {
            "marker": {
             "colorbar": {
              "outlinewidth": 0,
              "ticks": ""
             }
            },
            "type": "scattergl"
           }
          ],
          "scattermapbox": [
           {
            "marker": {
             "colorbar": {
              "outlinewidth": 0,
              "ticks": ""
             }
            },
            "type": "scattermapbox"
           }
          ],
          "scatterpolar": [
           {
            "marker": {
             "colorbar": {
              "outlinewidth": 0,
              "ticks": ""
             }
            },
            "type": "scatterpolar"
           }
          ],
          "scatterpolargl": [
           {
            "marker": {
             "colorbar": {
              "outlinewidth": 0,
              "ticks": ""
             }
            },
            "type": "scatterpolargl"
           }
          ],
          "scatterternary": [
           {
            "marker": {
             "colorbar": {
              "outlinewidth": 0,
              "ticks": ""
             }
            },
            "type": "scatterternary"
           }
          ],
          "surface": [
           {
            "colorbar": {
             "outlinewidth": 0,
             "ticks": ""
            },
            "colorscale": [
             [
              0,
              "#0d0887"
             ],
             [
              0.1111111111111111,
              "#46039f"
             ],
             [
              0.2222222222222222,
              "#7201a8"
             ],
             [
              0.3333333333333333,
              "#9c179e"
             ],
             [
              0.4444444444444444,
              "#bd3786"
             ],
             [
              0.5555555555555556,
              "#d8576b"
             ],
             [
              0.6666666666666666,
              "#ed7953"
             ],
             [
              0.7777777777777778,
              "#fb9f3a"
             ],
             [
              0.8888888888888888,
              "#fdca26"
             ],
             [
              1,
              "#f0f921"
             ]
            ],
            "type": "surface"
           }
          ],
          "table": [
           {
            "cells": {
             "fill": {
              "color": "#EBF0F8"
             },
             "line": {
              "color": "white"
             }
            },
            "header": {
             "fill": {
              "color": "#C8D4E3"
             },
             "line": {
              "color": "white"
             }
            },
            "type": "table"
           }
          ]
         },
         "layout": {
          "annotationdefaults": {
           "arrowcolor": "#2a3f5f",
           "arrowhead": 0,
           "arrowwidth": 1
          },
          "autotypenumbers": "strict",
          "coloraxis": {
           "colorbar": {
            "outlinewidth": 0,
            "ticks": ""
           }
          },
          "colorscale": {
           "diverging": [
            [
             0,
             "#8e0152"
            ],
            [
             0.1,
             "#c51b7d"
            ],
            [
             0.2,
             "#de77ae"
            ],
            [
             0.3,
             "#f1b6da"
            ],
            [
             0.4,
             "#fde0ef"
            ],
            [
             0.5,
             "#f7f7f7"
            ],
            [
             0.6,
             "#e6f5d0"
            ],
            [
             0.7,
             "#b8e186"
            ],
            [
             0.8,
             "#7fbc41"
            ],
            [
             0.9,
             "#4d9221"
            ],
            [
             1,
             "#276419"
            ]
           ],
           "sequential": [
            [
             0,
             "#0d0887"
            ],
            [
             0.1111111111111111,
             "#46039f"
            ],
            [
             0.2222222222222222,
             "#7201a8"
            ],
            [
             0.3333333333333333,
             "#9c179e"
            ],
            [
             0.4444444444444444,
             "#bd3786"
            ],
            [
             0.5555555555555556,
             "#d8576b"
            ],
            [
             0.6666666666666666,
             "#ed7953"
            ],
            [
             0.7777777777777778,
             "#fb9f3a"
            ],
            [
             0.8888888888888888,
             "#fdca26"
            ],
            [
             1,
             "#f0f921"
            ]
           ],
           "sequentialminus": [
            [
             0,
             "#0d0887"
            ],
            [
             0.1111111111111111,
             "#46039f"
            ],
            [
             0.2222222222222222,
             "#7201a8"
            ],
            [
             0.3333333333333333,
             "#9c179e"
            ],
            [
             0.4444444444444444,
             "#bd3786"
            ],
            [
             0.5555555555555556,
             "#d8576b"
            ],
            [
             0.6666666666666666,
             "#ed7953"
            ],
            [
             0.7777777777777778,
             "#fb9f3a"
            ],
            [
             0.8888888888888888,
             "#fdca26"
            ],
            [
             1,
             "#f0f921"
            ]
           ]
          },
          "colorway": [
           "#636efa",
           "#EF553B",
           "#00cc96",
           "#ab63fa",
           "#FFA15A",
           "#19d3f3",
           "#FF6692",
           "#B6E880",
           "#FF97FF",
           "#FECB52"
          ],
          "font": {
           "color": "#2a3f5f"
          },
          "geo": {
           "bgcolor": "white",
           "lakecolor": "white",
           "landcolor": "#E5ECF6",
           "showlakes": true,
           "showland": true,
           "subunitcolor": "white"
          },
          "hoverlabel": {
           "align": "left"
          },
          "hovermode": "closest",
          "mapbox": {
           "style": "light"
          },
          "paper_bgcolor": "white",
          "plot_bgcolor": "#E5ECF6",
          "polar": {
           "angularaxis": {
            "gridcolor": "white",
            "linecolor": "white",
            "ticks": ""
           },
           "bgcolor": "#E5ECF6",
           "radialaxis": {
            "gridcolor": "white",
            "linecolor": "white",
            "ticks": ""
           }
          },
          "scene": {
           "xaxis": {
            "backgroundcolor": "#E5ECF6",
            "gridcolor": "white",
            "gridwidth": 2,
            "linecolor": "white",
            "showbackground": true,
            "ticks": "",
            "zerolinecolor": "white"
           },
           "yaxis": {
            "backgroundcolor": "#E5ECF6",
            "gridcolor": "white",
            "gridwidth": 2,
            "linecolor": "white",
            "showbackground": true,
            "ticks": "",
            "zerolinecolor": "white"
           },
           "zaxis": {
            "backgroundcolor": "#E5ECF6",
            "gridcolor": "white",
            "gridwidth": 2,
            "linecolor": "white",
            "showbackground": true,
            "ticks": "",
            "zerolinecolor": "white"
           }
          },
          "shapedefaults": {
           "line": {
            "color": "#2a3f5f"
           }
          },
          "ternary": {
           "aaxis": {
            "gridcolor": "white",
            "linecolor": "white",
            "ticks": ""
           },
           "baxis": {
            "gridcolor": "white",
            "linecolor": "white",
            "ticks": ""
           },
           "bgcolor": "#E5ECF6",
           "caxis": {
            "gridcolor": "white",
            "linecolor": "white",
            "ticks": ""
           }
          },
          "title": {
           "x": 0.05
          },
          "xaxis": {
           "automargin": true,
           "gridcolor": "white",
           "linecolor": "white",
           "ticks": "",
           "title": {
            "standoff": 15
           },
           "zerolinecolor": "white",
           "zerolinewidth": 2
          },
          "yaxis": {
           "automargin": true,
           "gridcolor": "white",
           "linecolor": "white",
           "ticks": "",
           "title": {
            "standoff": 15
           },
           "zerolinecolor": "white",
           "zerolinewidth": 2
          }
         }
        },
        "title": {
         "text": "Figuur 1: Aantal groen per land"
        },
        "width": 900
       }
      }
     },
     "metadata": {},
     "output_type": "display_data"
    },
    {
     "data": {
      "application/vnd.plotly.v1+json": {
       "config": {
        "plotlyServerURL": "https://plot.ly"
       },
       "data": [
        {
         "coloraxis": "coloraxis",
         "geo": "geo",
         "hovertemplate": "<b>%{hovertext}</b><br><br>3digit=%{location}<br>Percentage mensen die Ja hebben geantwoord=%{z}<extra></extra>",
         "hovertext": [
          68,
          47,
          25,
          40,
          33,
          42,
          32,
          40,
          39,
          39,
          36,
          34,
          37,
          41,
          23,
          42,
          42,
          51,
          50,
          37,
          47,
          47,
          36,
          55,
          25,
          55,
          45,
          49,
          23,
          47,
          33,
          41,
          34,
          33,
          19,
          35,
          49,
          54,
          39,
          42,
          43,
          33,
          37,
          29,
          14,
          53,
          35,
          24,
          45,
          31,
          38,
          50,
          13,
          33,
          21,
          11,
          17,
          65,
          35,
          58,
          48,
          19,
          42,
          49,
          31,
          19,
          32,
          52,
          35,
          26,
          39,
          14,
          27,
          44,
          26,
          45,
          35,
          33,
          37,
          46,
          49,
          36,
          28,
          37,
          34,
          53,
          19,
          42,
          42,
          35,
          25,
          49,
          32,
          61,
          40,
          38,
          34,
          33,
          31,
          56,
          32,
          26,
          24,
          26,
          39,
          41,
          56,
          31,
          41,
          13,
          28,
          37,
          28
         ],
         "locations": [
          "AFG",
          "ALB",
          "DZA",
          "ARG",
          "ARM",
          "AUS",
          "AUT",
          "AZE",
          "BGD",
          "BEL",
          "BEN",
          "BIH",
          "BWA",
          "BRA",
          "BGR",
          "KHM",
          "CMR",
          "CAN",
          "TCD",
          "CHL",
          "COL",
          "CRI",
          "HRV",
          "CYP",
          "DNK",
          "ECU",
          "EGY",
          "SLV",
          "EST",
          "SWZ",
          "ETH",
          "FIN",
          "FRA",
          "GAB",
          "GEO",
          "DEU",
          "GHA",
          "GRC",
          "GTM",
          "GIN",
          "HND",
          "HUN",
          "ISL",
          "IND",
          "IDN",
          "IRQ",
          "IRL",
          "ISR",
          "ITA",
          "JAM",
          "JPN",
          "JOR",
          "KAZ",
          "KEN",
          "KWT",
          "KGZ",
          "LVA",
          "LBN",
          "LSO",
          "LBR",
          "LBY",
          "LTU",
          "LUX",
          "MDG",
          "MWI",
          "MYS",
          "MLI",
          "MLT",
          "MRT",
          "MUS",
          "MEX",
          "MNG",
          "MNE",
          "MAR",
          "MOZ",
          "MMR",
          "NAM",
          "NPL",
          "NZL",
          "NIC",
          "NGA",
          "NOR",
          "PAK",
          "PAN",
          "PRY",
          "PER",
          "POL",
          "PRT",
          "PRI",
          "ROU",
          "SAU",
          "SEN",
          "SRB",
          "SLE",
          "SGP",
          "SVK",
          "SVN",
          "ZAF",
          "ESP",
          "LKA",
          "SWE",
          "CHE",
          "TJK",
          "THA",
          "TGO",
          "TUN",
          "UGA",
          "UKR",
          "URY",
          "UZB",
          "YEM",
          "ZMB",
          "ZWE"
         ],
         "name": "",
         "type": "choropleth",
         "z": [
          68,
          47,
          25,
          40,
          33,
          42,
          32,
          40,
          39,
          39,
          36,
          34,
          37,
          41,
          23,
          42,
          42,
          51,
          50,
          37,
          47,
          47,
          36,
          55,
          25,
          55,
          45,
          49,
          23,
          47,
          33,
          41,
          34,
          33,
          19,
          35,
          49,
          54,
          39,
          42,
          43,
          33,
          37,
          29,
          14,
          53,
          35,
          24,
          45,
          31,
          38,
          50,
          13,
          33,
          21,
          11,
          17,
          65,
          35,
          58,
          48,
          19,
          42,
          49,
          31,
          19,
          32,
          52,
          35,
          26,
          39,
          14,
          27,
          44,
          26,
          45,
          35,
          33,
          37,
          46,
          49,
          36,
          28,
          37,
          34,
          53,
          19,
          42,
          42,
          35,
          25,
          49,
          32,
          61,
          40,
          38,
          34,
          33,
          31,
          56,
          32,
          26,
          24,
          26,
          39,
          41,
          56,
          31,
          41,
          13,
          28,
          37,
          28
         ]
        }
       ],
       "layout": {
        "annotations": [
         {
          "align": "center",
          "font": {
           "size": 13
          },
          "showarrow": false,
          "text": "Deze wereldkaart laat de percentage mensen zien die Ja hebben geantwoord op de enquêtevraag. <br>Als je met de muis over een land heen beweegt, dan zie je de precieze percentage.",
          "x": 0.65,
          "xanchor": "center",
          "xref": "paper",
          "y": -0.1,
          "yanchor": "top",
          "yref": "paper"
         }
        ],
        "coloraxis": {
         "colorbar": {
          "title": {
           "text": "Percentage mensen die Ja hebben geantwoord"
          }
         },
         "colorscale": [
          [
           0,
           "#0d0887"
          ],
          [
           0.1111111111111111,
           "#46039f"
          ],
          [
           0.2222222222222222,
           "#7201a8"
          ],
          [
           0.3333333333333333,
           "#9c179e"
          ],
          [
           0.4444444444444444,
           "#bd3786"
          ],
          [
           0.5555555555555556,
           "#d8576b"
          ],
          [
           0.6666666666666666,
           "#ed7953"
          ],
          [
           0.7777777777777778,
           "#fb9f3a"
          ],
          [
           0.8888888888888888,
           "#fdca26"
          ],
          [
           1,
           "#f0f921"
          ]
         ]
        },
        "geo": {
         "center": {},
         "domain": {
          "x": [
           0,
           1
          ],
          "y": [
           0,
           1
          ]
         },
         "projection": {
          "type": "natural earth"
         }
        },
        "height": 500,
        "legend": {
         "tracegroupgap": 0
        },
        "showlegend": false,
        "template": {
         "data": {
          "bar": [
           {
            "error_x": {
             "color": "#2a3f5f"
            },
            "error_y": {
             "color": "#2a3f5f"
            },
            "marker": {
             "line": {
              "color": "#E5ECF6",
              "width": 0.5
             },
             "pattern": {
              "fillmode": "overlay",
              "size": 10,
              "solidity": 0.2
             }
            },
            "type": "bar"
           }
          ],
          "barpolar": [
           {
            "marker": {
             "line": {
              "color": "#E5ECF6",
              "width": 0.5
             },
             "pattern": {
              "fillmode": "overlay",
              "size": 10,
              "solidity": 0.2
             }
            },
            "type": "barpolar"
           }
          ],
          "carpet": [
           {
            "aaxis": {
             "endlinecolor": "#2a3f5f",
             "gridcolor": "white",
             "linecolor": "white",
             "minorgridcolor": "white",
             "startlinecolor": "#2a3f5f"
            },
            "baxis": {
             "endlinecolor": "#2a3f5f",
             "gridcolor": "white",
             "linecolor": "white",
             "minorgridcolor": "white",
             "startlinecolor": "#2a3f5f"
            },
            "type": "carpet"
           }
          ],
          "choropleth": [
           {
            "colorbar": {
             "outlinewidth": 0,
             "ticks": ""
            },
            "type": "choropleth"
           }
          ],
          "contour": [
           {
            "colorbar": {
             "outlinewidth": 0,
             "ticks": ""
            },
            "colorscale": [
             [
              0,
              "#0d0887"
             ],
             [
              0.1111111111111111,
              "#46039f"
             ],
             [
              0.2222222222222222,
              "#7201a8"
             ],
             [
              0.3333333333333333,
              "#9c179e"
             ],
             [
              0.4444444444444444,
              "#bd3786"
             ],
             [
              0.5555555555555556,
              "#d8576b"
             ],
             [
              0.6666666666666666,
              "#ed7953"
             ],
             [
              0.7777777777777778,
              "#fb9f3a"
             ],
             [
              0.8888888888888888,
              "#fdca26"
             ],
             [
              1,
              "#f0f921"
             ]
            ],
            "type": "contour"
           }
          ],
          "contourcarpet": [
           {
            "colorbar": {
             "outlinewidth": 0,
             "ticks": ""
            },
            "type": "contourcarpet"
           }
          ],
          "heatmap": [
           {
            "colorbar": {
             "outlinewidth": 0,
             "ticks": ""
            },
            "colorscale": [
             [
              0,
              "#0d0887"
             ],
             [
              0.1111111111111111,
              "#46039f"
             ],
             [
              0.2222222222222222,
              "#7201a8"
             ],
             [
              0.3333333333333333,
              "#9c179e"
             ],
             [
              0.4444444444444444,
              "#bd3786"
             ],
             [
              0.5555555555555556,
              "#d8576b"
             ],
             [
              0.6666666666666666,
              "#ed7953"
             ],
             [
              0.7777777777777778,
              "#fb9f3a"
             ],
             [
              0.8888888888888888,
              "#fdca26"
             ],
             [
              1,
              "#f0f921"
             ]
            ],
            "type": "heatmap"
           }
          ],
          "heatmapgl": [
           {
            "colorbar": {
             "outlinewidth": 0,
             "ticks": ""
            },
            "colorscale": [
             [
              0,
              "#0d0887"
             ],
             [
              0.1111111111111111,
              "#46039f"
             ],
             [
              0.2222222222222222,
              "#7201a8"
             ],
             [
              0.3333333333333333,
              "#9c179e"
             ],
             [
              0.4444444444444444,
              "#bd3786"
             ],
             [
              0.5555555555555556,
              "#d8576b"
             ],
             [
              0.6666666666666666,
              "#ed7953"
             ],
             [
              0.7777777777777778,
              "#fb9f3a"
             ],
             [
              0.8888888888888888,
              "#fdca26"
             ],
             [
              1,
              "#f0f921"
             ]
            ],
            "type": "heatmapgl"
           }
          ],
          "histogram": [
           {
            "marker": {
             "pattern": {
              "fillmode": "overlay",
              "size": 10,
              "solidity": 0.2
             }
            },
            "type": "histogram"
           }
          ],
          "histogram2d": [
           {
            "colorbar": {
             "outlinewidth": 0,
             "ticks": ""
            },
            "colorscale": [
             [
              0,
              "#0d0887"
             ],
             [
              0.1111111111111111,
              "#46039f"
             ],
             [
              0.2222222222222222,
              "#7201a8"
             ],
             [
              0.3333333333333333,
              "#9c179e"
             ],
             [
              0.4444444444444444,
              "#bd3786"
             ],
             [
              0.5555555555555556,
              "#d8576b"
             ],
             [
              0.6666666666666666,
              "#ed7953"
             ],
             [
              0.7777777777777778,
              "#fb9f3a"
             ],
             [
              0.8888888888888888,
              "#fdca26"
             ],
             [
              1,
              "#f0f921"
             ]
            ],
            "type": "histogram2d"
           }
          ],
          "histogram2dcontour": [
           {
            "colorbar": {
             "outlinewidth": 0,
             "ticks": ""
            },
            "colorscale": [
             [
              0,
              "#0d0887"
             ],
             [
              0.1111111111111111,
              "#46039f"
             ],
             [
              0.2222222222222222,
              "#7201a8"
             ],
             [
              0.3333333333333333,
              "#9c179e"
             ],
             [
              0.4444444444444444,
              "#bd3786"
             ],
             [
              0.5555555555555556,
              "#d8576b"
             ],
             [
              0.6666666666666666,
              "#ed7953"
             ],
             [
              0.7777777777777778,
              "#fb9f3a"
             ],
             [
              0.8888888888888888,
              "#fdca26"
             ],
             [
              1,
              "#f0f921"
             ]
            ],
            "type": "histogram2dcontour"
           }
          ],
          "mesh3d": [
           {
            "colorbar": {
             "outlinewidth": 0,
             "ticks": ""
            },
            "type": "mesh3d"
           }
          ],
          "parcoords": [
           {
            "line": {
             "colorbar": {
              "outlinewidth": 0,
              "ticks": ""
             }
            },
            "type": "parcoords"
           }
          ],
          "pie": [
           {
            "automargin": true,
            "type": "pie"
           }
          ],
          "scatter": [
           {
            "fillpattern": {
             "fillmode": "overlay",
             "size": 10,
             "solidity": 0.2
            },
            "type": "scatter"
           }
          ],
          "scatter3d": [
           {
            "line": {
             "colorbar": {
              "outlinewidth": 0,
              "ticks": ""
             }
            },
            "marker": {
             "colorbar": {
              "outlinewidth": 0,
              "ticks": ""
             }
            },
            "type": "scatter3d"
           }
          ],
          "scattercarpet": [
           {
            "marker": {
             "colorbar": {
              "outlinewidth": 0,
              "ticks": ""
             }
            },
            "type": "scattercarpet"
           }
          ],
          "scattergeo": [
           {
            "marker": {
             "colorbar": {
              "outlinewidth": 0,
              "ticks": ""
             }
            },
            "type": "scattergeo"
           }
          ],
          "scattergl": [
           {
            "marker": {
             "colorbar": {
              "outlinewidth": 0,
              "ticks": ""
             }
            },
            "type": "scattergl"
           }
          ],
          "scattermapbox": [
           {
            "marker": {
             "colorbar": {
              "outlinewidth": 0,
              "ticks": ""
             }
            },
            "type": "scattermapbox"
           }
          ],
          "scatterpolar": [
           {
            "marker": {
             "colorbar": {
              "outlinewidth": 0,
              "ticks": ""
             }
            },
            "type": "scatterpolar"
           }
          ],
          "scatterpolargl": [
           {
            "marker": {
             "colorbar": {
              "outlinewidth": 0,
              "ticks": ""
             }
            },
            "type": "scatterpolargl"
           }
          ],
          "scatterternary": [
           {
            "marker": {
             "colorbar": {
              "outlinewidth": 0,
              "ticks": ""
             }
            },
            "type": "scatterternary"
           }
          ],
          "surface": [
           {
            "colorbar": {
             "outlinewidth": 0,
             "ticks": ""
            },
            "colorscale": [
             [
              0,
              "#0d0887"
             ],
             [
              0.1111111111111111,
              "#46039f"
             ],
             [
              0.2222222222222222,
              "#7201a8"
             ],
             [
              0.3333333333333333,
              "#9c179e"
             ],
             [
              0.4444444444444444,
              "#bd3786"
             ],
             [
              0.5555555555555556,
              "#d8576b"
             ],
             [
              0.6666666666666666,
              "#ed7953"
             ],
             [
              0.7777777777777778,
              "#fb9f3a"
             ],
             [
              0.8888888888888888,
              "#fdca26"
             ],
             [
              1,
              "#f0f921"
             ]
            ],
            "type": "surface"
           }
          ],
          "table": [
           {
            "cells": {
             "fill": {
              "color": "#EBF0F8"
             },
             "line": {
              "color": "white"
             }
            },
            "header": {
             "fill": {
              "color": "#C8D4E3"
             },
             "line": {
              "color": "white"
             }
            },
            "type": "table"
           }
          ]
         },
         "layout": {
          "annotationdefaults": {
           "arrowcolor": "#2a3f5f",
           "arrowhead": 0,
           "arrowwidth": 1
          },
          "autotypenumbers": "strict",
          "coloraxis": {
           "colorbar": {
            "outlinewidth": 0,
            "ticks": ""
           }
          },
          "colorscale": {
           "diverging": [
            [
             0,
             "#8e0152"
            ],
            [
             0.1,
             "#c51b7d"
            ],
            [
             0.2,
             "#de77ae"
            ],
            [
             0.3,
             "#f1b6da"
            ],
            [
             0.4,
             "#fde0ef"
            ],
            [
             0.5,
             "#f7f7f7"
            ],
            [
             0.6,
             "#e6f5d0"
            ],
            [
             0.7,
             "#b8e186"
            ],
            [
             0.8,
             "#7fbc41"
            ],
            [
             0.9,
             "#4d9221"
            ],
            [
             1,
             "#276419"
            ]
           ],
           "sequential": [
            [
             0,
             "#0d0887"
            ],
            [
             0.1111111111111111,
             "#46039f"
            ],
            [
             0.2222222222222222,
             "#7201a8"
            ],
            [
             0.3333333333333333,
             "#9c179e"
            ],
            [
             0.4444444444444444,
             "#bd3786"
            ],
            [
             0.5555555555555556,
             "#d8576b"
            ],
            [
             0.6666666666666666,
             "#ed7953"
            ],
            [
             0.7777777777777778,
             "#fb9f3a"
            ],
            [
             0.8888888888888888,
             "#fdca26"
            ],
            [
             1,
             "#f0f921"
            ]
           ],
           "sequentialminus": [
            [
             0,
             "#0d0887"
            ],
            [
             0.1111111111111111,
             "#46039f"
            ],
            [
             0.2222222222222222,
             "#7201a8"
            ],
            [
             0.3333333333333333,
             "#9c179e"
            ],
            [
             0.4444444444444444,
             "#bd3786"
            ],
            [
             0.5555555555555556,
             "#d8576b"
            ],
            [
             0.6666666666666666,
             "#ed7953"
            ],
            [
             0.7777777777777778,
             "#fb9f3a"
            ],
            [
             0.8888888888888888,
             "#fdca26"
            ],
            [
             1,
             "#f0f921"
            ]
           ]
          },
          "colorway": [
           "#636efa",
           "#EF553B",
           "#00cc96",
           "#ab63fa",
           "#FFA15A",
           "#19d3f3",
           "#FF6692",
           "#B6E880",
           "#FF97FF",
           "#FECB52"
          ],
          "font": {
           "color": "#2a3f5f"
          },
          "geo": {
           "bgcolor": "white",
           "lakecolor": "white",
           "landcolor": "#E5ECF6",
           "showlakes": true,
           "showland": true,
           "subunitcolor": "white"
          },
          "hoverlabel": {
           "align": "left"
          },
          "hovermode": "closest",
          "mapbox": {
           "style": "light"
          },
          "paper_bgcolor": "white",
          "plot_bgcolor": "#E5ECF6",
          "polar": {
           "angularaxis": {
            "gridcolor": "white",
            "linecolor": "white",
            "ticks": ""
           },
           "bgcolor": "#E5ECF6",
           "radialaxis": {
            "gridcolor": "white",
            "linecolor": "white",
            "ticks": ""
           }
          },
          "scene": {
           "xaxis": {
            "backgroundcolor": "#E5ECF6",
            "gridcolor": "white",
            "gridwidth": 2,
            "linecolor": "white",
            "showbackground": true,
            "ticks": "",
            "zerolinecolor": "white"
           },
           "yaxis": {
            "backgroundcolor": "#E5ECF6",
            "gridcolor": "white",
            "gridwidth": 2,
            "linecolor": "white",
            "showbackground": true,
            "ticks": "",
            "zerolinecolor": "white"
           },
           "zaxis": {
            "backgroundcolor": "#E5ECF6",
            "gridcolor": "white",
            "gridwidth": 2,
            "linecolor": "white",
            "showbackground": true,
            "ticks": "",
            "zerolinecolor": "white"
           }
          },
          "shapedefaults": {
           "line": {
            "color": "#2a3f5f"
           }
          },
          "ternary": {
           "aaxis": {
            "gridcolor": "white",
            "linecolor": "white",
            "ticks": ""
           },
           "baxis": {
            "gridcolor": "white",
            "linecolor": "white",
            "ticks": ""
           },
           "bgcolor": "#E5ECF6",
           "caxis": {
            "gridcolor": "white",
            "linecolor": "white",
            "ticks": ""
           }
          },
          "title": {
           "x": 0.05
          },
          "xaxis": {
           "automargin": true,
           "gridcolor": "white",
           "linecolor": "white",
           "ticks": "",
           "title": {
            "standoff": 15
           },
           "zerolinecolor": "white",
           "zerolinewidth": 2
          },
          "yaxis": {
           "automargin": true,
           "gridcolor": "white",
           "linecolor": "white",
           "ticks": "",
           "title": {
            "standoff": 15
           },
           "zerolinecolor": "white",
           "zerolinewidth": 2
          }
         }
        },
        "title": {
         "text": "Figuur 2: Stress per land"
        },
        "width": 900
       }
      }
     },
     "metadata": {},
     "output_type": "display_data"
    }
   ],
   "source": [
    "fig_green = px.choropleth(oecd_df, locations='3digit', color='Gemiddelde aandeel van groen in oppervlakte van stad', hover_name='Gemiddelde aandeel van groen in oppervlakte van stad', projection='natural earth', title='Figuur 1: Aantal groen per land')\n",
    "fig_green.update_layout(showlegend=False, width=900, height=500)\n",
    "\n",
    "fig_green.add_annotation(\n",
    "    xref='paper', yref='paper',\n",
    "    x=0.7, y=-0.10,  # Adjust y to position the annotation at the bottom\n",
    "    showarrow=False,\n",
    "    xanchor='center',\n",
    "    yanchor='top',\n",
    "    align='center',\n",
    "    text='Deze wereldkaart laat de gemiddelde aandeel groen ten opzichte van de oppervlakte van een<br>' +\n",
    "         'stad per land zien. Als je met de muis over een land heen beweegt, dan zie je de precieze percentage.',\n",
    "    font=dict(size=13),  # Adjust font size if necessary\n",
    ")\n",
    "\n",
    "fig_green.show()\n",
    "\n",
    "fig_stress = px.choropleth(stress_df, locations='3digit', color='Percentage mensen die Ja hebben geantwoord', hover_name='Percentage mensen die Ja hebben geantwoord', projection='natural earth', title='Figuur 2: Stress per land')\n",
    "fig_stress.update_layout(showlegend=False, width=900, height=500)\n",
    "\n",
    "fig_stress.add_annotation(\n",
    "    xref='paper', yref='paper',\n",
    "    x=0.65, y=-0.10,  # Adjust y to position the annotation at the bottom\n",
    "    showarrow=False,\n",
    "    xanchor='center',\n",
    "    yanchor='top',\n",
    "    align='center',\n",
    "    text='Deze wereldkaart laat de percentage mensen zien die Ja hebben geantwoord op de enquêtevraag. <br>' +\n",
    "         'Als je met de muis over een land heen beweegt, dan zie je de precieze percentage.',\n",
    "    font=dict(size=13),  # Adjust font size if necessary\n",
    ")\n",
    "\n",
    "fig_stress.show()"
   ]
  },
  {
   "cell_type": "markdown",
   "metadata": {},
   "source": [
    "### Perspectief 2\n",
    "\n",
    "Hoewel groene leefomgevingen bijdragen aan een gevoel van welzijn, zijn andere factoren zoals werkdruk, persoonlijke gewoontes en gezondheid vaak de voornaamste reden voor hoge stressniveaus. Het hebben van een groene leefomgeving helpt niet bij het verminderen van stress indien mensen bijvoorbeeld een hoge werkdruk blijven ervaren.\n",
    "\n",
    "**Argument 1**  \n",
    "In Figuur 3 is te zien dat er landen zoals Japan zijn waar het aandeel groen laag is, maar het aantal mensen zonder stressklachten hoog is. Dit toont aan dat het aandeel groen bijdraagt aan het welzijn, maar niet helpt bij het verminderen van stress. Dit is ook bij Mexico het geval.\n",
    "\n",
    "**Argument 2**  \n",
    "In Figuur 4 is te zien dat Griekenland en Canada beide een hoog aandeel groen in hun land hebben, maar alsnog een ontzettend hoog stressniveau hebben. Dit laat zien dat het aandeel groen in een land haast geen bijdrage heeft aan het verminderen van het stressniveau. Ook ondersteunen de meeste landen in (Figuur 4) dit argument.\n",
    "\n",
    "**Argument 3**\n",
    "In Figuur 5 is te zien dat het niet uitmaakt of een land een hoog aandeel groen heeft. Er is namelijk te zien dat het alsnog per land verdeelt is of het stresspercentage laag of hoog is.\n"
   ]
  },
  {
   "cell_type": "code",
   "execution_count": 9,
   "metadata": {},
   "outputs": [
    {
     "data": {
      "application/vnd.plotly.v1+json": {
       "config": {
        "plotlyServerURL": "https://plot.ly"
       },
       "data": [
        {
         "marker": {
          "color": "rgb(102,194,165)"
         },
         "name": "Groen aandeel van land",
         "type": "bar",
         "x": [
          "Australia",
          "Austria",
          "Belgium",
          "Bulgaria",
          "Canada",
          "Chile",
          "Colombia",
          "Croatia",
          "Cyprus",
          "Denmark",
          "Estonia",
          "Finland",
          "France",
          "Germany",
          "Greece",
          "Hungary",
          "Iceland",
          "Ireland",
          "Italy",
          "Japan",
          "Latvia",
          "Lithuania",
          "Luxembourg",
          "Malta",
          "Mexico",
          "New Zealand",
          "Norway",
          "Poland",
          "Portugal",
          "Romania",
          "Slovakia",
          "Slovenia",
          "Spain",
          "Sweden",
          "Switzerland"
         ],
         "y": [
          38.43125,
          40.800000000000004,
          45.18333333333334,
          34.81428571428571,
          46.45769230769231,
          21.29615384615385,
          41.84339622641509,
          43.63333333333333,
          19.033333333333335,
          48.625,
          48.7,
          47,
          40.856923076923074,
          50.45454545454545,
          35.855555555555554,
          43.33,
          53.5,
          52.86666666666667,
          37.84078947368421,
          20.280327868852456,
          41.96666666666667,
          46.38333333333333,
          46,
          26.6,
          26.683695652173913,
          43.285714285714285,
          56.199999999999996,
          49.04883720930232,
          43.21666666666667,
          35.12758620689655,
          42.266666666666666,
          42.55,
          39.29242424242425,
          49.08888888888889,
          55.56
         ]
        },
        {
         "marker": {
          "color": "rgb(252,141,98)"
         },
         "name": "Percentage mensen zonder stress klachten",
         "type": "bar",
         "x": [
          "Australia",
          "Austria",
          "Belgium",
          "Bulgaria",
          "Canada",
          "Chile",
          "Colombia",
          "Croatia",
          "Cyprus",
          "Denmark",
          "Estonia",
          "Finland",
          "France",
          "Germany",
          "Greece",
          "Hungary",
          "Iceland",
          "Ireland",
          "Italy",
          "Japan",
          "Latvia",
          "Lithuania",
          "Luxembourg",
          "Malta",
          "Mexico",
          "New Zealand",
          "Norway",
          "Poland",
          "Portugal",
          "Romania",
          "Slovakia",
          "Slovenia",
          "Spain",
          "Sweden",
          "Switzerland"
         ],
         "y": [
          58,
          68,
          60,
          74,
          49,
          62,
          53,
          63,
          45,
          75,
          77,
          59,
          65,
          65,
          45,
          67,
          63,
          65,
          54,
          62,
          83,
          76,
          57,
          48,
          61,
          63,
          64,
          80,
          58,
          64,
          62,
          66,
          69,
          68,
          74
         ]
        }
       ],
       "layout": {
        "annotations": [
         {
          "align": "center",
          "bgcolor": "white",
          "bordercolor": "black",
          "borderpad": 4,
          "borderwidth": 1,
          "font": {
           "size": 10
          },
          "opacity": 0.8,
          "showarrow": false,
          "text": "Deze barplot laat per land de groene aandeel en percentage mensen zonder stressklachten zien. <br>Als je met de muis over een land heen beweegt, dan zie je de precieze percentage en de kolom waar die bij hoort.",
          "x": 0.5,
          "xanchor": "center",
          "xref": "paper",
          "y": -0.2,
          "yanchor": "top",
          "yref": "paper"
         }
        ],
        "barmode": "group",
        "height": 500,
        "template": {
         "data": {
          "bar": [
           {
            "error_x": {
             "color": "#2a3f5f"
            },
            "error_y": {
             "color": "#2a3f5f"
            },
            "marker": {
             "line": {
              "color": "#E5ECF6",
              "width": 0.5
             },
             "pattern": {
              "fillmode": "overlay",
              "size": 10,
              "solidity": 0.2
             }
            },
            "type": "bar"
           }
          ],
          "barpolar": [
           {
            "marker": {
             "line": {
              "color": "#E5ECF6",
              "width": 0.5
             },
             "pattern": {
              "fillmode": "overlay",
              "size": 10,
              "solidity": 0.2
             }
            },
            "type": "barpolar"
           }
          ],
          "carpet": [
           {
            "aaxis": {
             "endlinecolor": "#2a3f5f",
             "gridcolor": "white",
             "linecolor": "white",
             "minorgridcolor": "white",
             "startlinecolor": "#2a3f5f"
            },
            "baxis": {
             "endlinecolor": "#2a3f5f",
             "gridcolor": "white",
             "linecolor": "white",
             "minorgridcolor": "white",
             "startlinecolor": "#2a3f5f"
            },
            "type": "carpet"
           }
          ],
          "choropleth": [
           {
            "colorbar": {
             "outlinewidth": 0,
             "ticks": ""
            },
            "type": "choropleth"
           }
          ],
          "contour": [
           {
            "colorbar": {
             "outlinewidth": 0,
             "ticks": ""
            },
            "colorscale": [
             [
              0,
              "#0d0887"
             ],
             [
              0.1111111111111111,
              "#46039f"
             ],
             [
              0.2222222222222222,
              "#7201a8"
             ],
             [
              0.3333333333333333,
              "#9c179e"
             ],
             [
              0.4444444444444444,
              "#bd3786"
             ],
             [
              0.5555555555555556,
              "#d8576b"
             ],
             [
              0.6666666666666666,
              "#ed7953"
             ],
             [
              0.7777777777777778,
              "#fb9f3a"
             ],
             [
              0.8888888888888888,
              "#fdca26"
             ],
             [
              1,
              "#f0f921"
             ]
            ],
            "type": "contour"
           }
          ],
          "contourcarpet": [
           {
            "colorbar": {
             "outlinewidth": 0,
             "ticks": ""
            },
            "type": "contourcarpet"
           }
          ],
          "heatmap": [
           {
            "colorbar": {
             "outlinewidth": 0,
             "ticks": ""
            },
            "colorscale": [
             [
              0,
              "#0d0887"
             ],
             [
              0.1111111111111111,
              "#46039f"
             ],
             [
              0.2222222222222222,
              "#7201a8"
             ],
             [
              0.3333333333333333,
              "#9c179e"
             ],
             [
              0.4444444444444444,
              "#bd3786"
             ],
             [
              0.5555555555555556,
              "#d8576b"
             ],
             [
              0.6666666666666666,
              "#ed7953"
             ],
             [
              0.7777777777777778,
              "#fb9f3a"
             ],
             [
              0.8888888888888888,
              "#fdca26"
             ],
             [
              1,
              "#f0f921"
             ]
            ],
            "type": "heatmap"
           }
          ],
          "heatmapgl": [
           {
            "colorbar": {
             "outlinewidth": 0,
             "ticks": ""
            },
            "colorscale": [
             [
              0,
              "#0d0887"
             ],
             [
              0.1111111111111111,
              "#46039f"
             ],
             [
              0.2222222222222222,
              "#7201a8"
             ],
             [
              0.3333333333333333,
              "#9c179e"
             ],
             [
              0.4444444444444444,
              "#bd3786"
             ],
             [
              0.5555555555555556,
              "#d8576b"
             ],
             [
              0.6666666666666666,
              "#ed7953"
             ],
             [
              0.7777777777777778,
              "#fb9f3a"
             ],
             [
              0.8888888888888888,
              "#fdca26"
             ],
             [
              1,
              "#f0f921"
             ]
            ],
            "type": "heatmapgl"
           }
          ],
          "histogram": [
           {
            "marker": {
             "pattern": {
              "fillmode": "overlay",
              "size": 10,
              "solidity": 0.2
             }
            },
            "type": "histogram"
           }
          ],
          "histogram2d": [
           {
            "colorbar": {
             "outlinewidth": 0,
             "ticks": ""
            },
            "colorscale": [
             [
              0,
              "#0d0887"
             ],
             [
              0.1111111111111111,
              "#46039f"
             ],
             [
              0.2222222222222222,
              "#7201a8"
             ],
             [
              0.3333333333333333,
              "#9c179e"
             ],
             [
              0.4444444444444444,
              "#bd3786"
             ],
             [
              0.5555555555555556,
              "#d8576b"
             ],
             [
              0.6666666666666666,
              "#ed7953"
             ],
             [
              0.7777777777777778,
              "#fb9f3a"
             ],
             [
              0.8888888888888888,
              "#fdca26"
             ],
             [
              1,
              "#f0f921"
             ]
            ],
            "type": "histogram2d"
           }
          ],
          "histogram2dcontour": [
           {
            "colorbar": {
             "outlinewidth": 0,
             "ticks": ""
            },
            "colorscale": [
             [
              0,
              "#0d0887"
             ],
             [
              0.1111111111111111,
              "#46039f"
             ],
             [
              0.2222222222222222,
              "#7201a8"
             ],
             [
              0.3333333333333333,
              "#9c179e"
             ],
             [
              0.4444444444444444,
              "#bd3786"
             ],
             [
              0.5555555555555556,
              "#d8576b"
             ],
             [
              0.6666666666666666,
              "#ed7953"
             ],
             [
              0.7777777777777778,
              "#fb9f3a"
             ],
             [
              0.8888888888888888,
              "#fdca26"
             ],
             [
              1,
              "#f0f921"
             ]
            ],
            "type": "histogram2dcontour"
           }
          ],
          "mesh3d": [
           {
            "colorbar": {
             "outlinewidth": 0,
             "ticks": ""
            },
            "type": "mesh3d"
           }
          ],
          "parcoords": [
           {
            "line": {
             "colorbar": {
              "outlinewidth": 0,
              "ticks": ""
             }
            },
            "type": "parcoords"
           }
          ],
          "pie": [
           {
            "automargin": true,
            "type": "pie"
           }
          ],
          "scatter": [
           {
            "fillpattern": {
             "fillmode": "overlay",
             "size": 10,
             "solidity": 0.2
            },
            "type": "scatter"
           }
          ],
          "scatter3d": [
           {
            "line": {
             "colorbar": {
              "outlinewidth": 0,
              "ticks": ""
             }
            },
            "marker": {
             "colorbar": {
              "outlinewidth": 0,
              "ticks": ""
             }
            },
            "type": "scatter3d"
           }
          ],
          "scattercarpet": [
           {
            "marker": {
             "colorbar": {
              "outlinewidth": 0,
              "ticks": ""
             }
            },
            "type": "scattercarpet"
           }
          ],
          "scattergeo": [
           {
            "marker": {
             "colorbar": {
              "outlinewidth": 0,
              "ticks": ""
             }
            },
            "type": "scattergeo"
           }
          ],
          "scattergl": [
           {
            "marker": {
             "colorbar": {
              "outlinewidth": 0,
              "ticks": ""
             }
            },
            "type": "scattergl"
           }
          ],
          "scattermapbox": [
           {
            "marker": {
             "colorbar": {
              "outlinewidth": 0,
              "ticks": ""
             }
            },
            "type": "scattermapbox"
           }
          ],
          "scatterpolar": [
           {
            "marker": {
             "colorbar": {
              "outlinewidth": 0,
              "ticks": ""
             }
            },
            "type": "scatterpolar"
           }
          ],
          "scatterpolargl": [
           {
            "marker": {
             "colorbar": {
              "outlinewidth": 0,
              "ticks": ""
             }
            },
            "type": "scatterpolargl"
           }
          ],
          "scatterternary": [
           {
            "marker": {
             "colorbar": {
              "outlinewidth": 0,
              "ticks": ""
             }
            },
            "type": "scatterternary"
           }
          ],
          "surface": [
           {
            "colorbar": {
             "outlinewidth": 0,
             "ticks": ""
            },
            "colorscale": [
             [
              0,
              "#0d0887"
             ],
             [
              0.1111111111111111,
              "#46039f"
             ],
             [
              0.2222222222222222,
              "#7201a8"
             ],
             [
              0.3333333333333333,
              "#9c179e"
             ],
             [
              0.4444444444444444,
              "#bd3786"
             ],
             [
              0.5555555555555556,
              "#d8576b"
             ],
             [
              0.6666666666666666,
              "#ed7953"
             ],
             [
              0.7777777777777778,
              "#fb9f3a"
             ],
             [
              0.8888888888888888,
              "#fdca26"
             ],
             [
              1,
              "#f0f921"
             ]
            ],
            "type": "surface"
           }
          ],
          "table": [
           {
            "cells": {
             "fill": {
              "color": "#EBF0F8"
             },
             "line": {
              "color": "white"
             }
            },
            "header": {
             "fill": {
              "color": "#C8D4E3"
             },
             "line": {
              "color": "white"
             }
            },
            "type": "table"
           }
          ]
         },
         "layout": {
          "annotationdefaults": {
           "arrowcolor": "#2a3f5f",
           "arrowhead": 0,
           "arrowwidth": 1
          },
          "autotypenumbers": "strict",
          "coloraxis": {
           "colorbar": {
            "outlinewidth": 0,
            "ticks": ""
           }
          },
          "colorscale": {
           "diverging": [
            [
             0,
             "#8e0152"
            ],
            [
             0.1,
             "#c51b7d"
            ],
            [
             0.2,
             "#de77ae"
            ],
            [
             0.3,
             "#f1b6da"
            ],
            [
             0.4,
             "#fde0ef"
            ],
            [
             0.5,
             "#f7f7f7"
            ],
            [
             0.6,
             "#e6f5d0"
            ],
            [
             0.7,
             "#b8e186"
            ],
            [
             0.8,
             "#7fbc41"
            ],
            [
             0.9,
             "#4d9221"
            ],
            [
             1,
             "#276419"
            ]
           ],
           "sequential": [
            [
             0,
             "#0d0887"
            ],
            [
             0.1111111111111111,
             "#46039f"
            ],
            [
             0.2222222222222222,
             "#7201a8"
            ],
            [
             0.3333333333333333,
             "#9c179e"
            ],
            [
             0.4444444444444444,
             "#bd3786"
            ],
            [
             0.5555555555555556,
             "#d8576b"
            ],
            [
             0.6666666666666666,
             "#ed7953"
            ],
            [
             0.7777777777777778,
             "#fb9f3a"
            ],
            [
             0.8888888888888888,
             "#fdca26"
            ],
            [
             1,
             "#f0f921"
            ]
           ],
           "sequentialminus": [
            [
             0,
             "#0d0887"
            ],
            [
             0.1111111111111111,
             "#46039f"
            ],
            [
             0.2222222222222222,
             "#7201a8"
            ],
            [
             0.3333333333333333,
             "#9c179e"
            ],
            [
             0.4444444444444444,
             "#bd3786"
            ],
            [
             0.5555555555555556,
             "#d8576b"
            ],
            [
             0.6666666666666666,
             "#ed7953"
            ],
            [
             0.7777777777777778,
             "#fb9f3a"
            ],
            [
             0.8888888888888888,
             "#fdca26"
            ],
            [
             1,
             "#f0f921"
            ]
           ]
          },
          "colorway": [
           "#636efa",
           "#EF553B",
           "#00cc96",
           "#ab63fa",
           "#FFA15A",
           "#19d3f3",
           "#FF6692",
           "#B6E880",
           "#FF97FF",
           "#FECB52"
          ],
          "font": {
           "color": "#2a3f5f"
          },
          "geo": {
           "bgcolor": "white",
           "lakecolor": "white",
           "landcolor": "#E5ECF6",
           "showlakes": true,
           "showland": true,
           "subunitcolor": "white"
          },
          "hoverlabel": {
           "align": "left"
          },
          "hovermode": "closest",
          "mapbox": {
           "style": "light"
          },
          "paper_bgcolor": "white",
          "plot_bgcolor": "#E5ECF6",
          "polar": {
           "angularaxis": {
            "gridcolor": "white",
            "linecolor": "white",
            "ticks": ""
           },
           "bgcolor": "#E5ECF6",
           "radialaxis": {
            "gridcolor": "white",
            "linecolor": "white",
            "ticks": ""
           }
          },
          "scene": {
           "xaxis": {
            "backgroundcolor": "#E5ECF6",
            "gridcolor": "white",
            "gridwidth": 2,
            "linecolor": "white",
            "showbackground": true,
            "ticks": "",
            "zerolinecolor": "white"
           },
           "yaxis": {
            "backgroundcolor": "#E5ECF6",
            "gridcolor": "white",
            "gridwidth": 2,
            "linecolor": "white",
            "showbackground": true,
            "ticks": "",
            "zerolinecolor": "white"
           },
           "zaxis": {
            "backgroundcolor": "#E5ECF6",
            "gridcolor": "white",
            "gridwidth": 2,
            "linecolor": "white",
            "showbackground": true,
            "ticks": "",
            "zerolinecolor": "white"
           }
          },
          "shapedefaults": {
           "line": {
            "color": "#2a3f5f"
           }
          },
          "ternary": {
           "aaxis": {
            "gridcolor": "white",
            "linecolor": "white",
            "ticks": ""
           },
           "baxis": {
            "gridcolor": "white",
            "linecolor": "white",
            "ticks": ""
           },
           "bgcolor": "#E5ECF6",
           "caxis": {
            "gridcolor": "white",
            "linecolor": "white",
            "ticks": ""
           }
          },
          "title": {
           "x": 0.05
          },
          "xaxis": {
           "automargin": true,
           "gridcolor": "white",
           "linecolor": "white",
           "ticks": "",
           "title": {
            "standoff": 15
           },
           "zerolinecolor": "white",
           "zerolinewidth": 2
          },
          "yaxis": {
           "automargin": true,
           "gridcolor": "white",
           "linecolor": "white",
           "ticks": "",
           "title": {
            "standoff": 15
           },
           "zerolinecolor": "white",
           "zerolinewidth": 2
          }
         }
        },
        "title": {
         "text": "Figuur 3: Groen aandeel en percentage mensen zonder stress per land"
        },
        "xaxis": {
         "title": {
          "text": "Land"
         },
         "type": "category"
        },
        "yaxis": {
         "title": {
          "text": "Percentage"
         }
        }
       }
      }
     },
     "metadata": {},
     "output_type": "display_data"
    }
   ],
   "source": [
    "trace_green = go.Bar(\n",
    "    x=merged_df['Country'],\n",
    "    y=merged_df['Gemiddelde aandeel van groen in oppervlakte van stad'],\n",
    "    name='Groen aandeel van land',\n",
    "    marker=dict(color='rgb(102,194,165)')\n",
    ")\n",
    "\n",
    "trace_no = go.Bar(\n",
    "    x=merged_df['Country'],\n",
    "    y=merged_df['Percentage mensen die Nee hebben geantwoord'],\n",
    "    name='Percentage mensen zonder stress klachten',\n",
    "    marker=dict(color='rgb(252,141,98)')\n",
    ")\n",
    "\n",
    "layout = go.Layout(\n",
    "    title='Figuur 3: Groen aandeel en percentage mensen zonder stress per land',\n",
    "    xaxis=go.layout.XAxis(\n",
    "        title='Land',\n",
    "        type='category'\n",
    "    ),\n",
    "    yaxis=go.layout.YAxis(\n",
    "        title='Percentage',\n",
    "    ),\n",
    "    barmode='group',\n",
    "    height=500  # Restore original height\n",
    ")\n",
    "\n",
    "fig = go.Figure(data=[trace_green, trace_no], layout=layout)\n",
    "\n",
    "fig.add_annotation(\n",
    "    xref='paper', yref='paper',\n",
    "    x=0.5, y=-0.2,  # Adjust y to a lower value to fit within the frame\n",
    "    showarrow=False,\n",
    "    xanchor='center',\n",
    "    yanchor='top',\n",
    "    align='center',\n",
    "    text='Deze barplot laat per land de groene aandeel en percentage mensen zonder stressklachten zien. <br>' +\n",
    "         'Als je met de muis over een land heen beweegt, dan zie je de precieze percentage en de kolom waar die bij hoort.',\n",
    "    font=dict(size=10),  # Decrease font size if necessary\n",
    "    bordercolor='black',\n",
    "    borderwidth=1,\n",
    "    borderpad=4,\n",
    "    bgcolor='white',  # Background color for better readability\n",
    "    opacity=0.8\n",
    ")\n",
    "\n",
    "fig.show()"
   ]
  },
  {
   "cell_type": "code",
   "execution_count": 10,
   "metadata": {},
   "outputs": [
    {
     "data": {
      "application/vnd.plotly.v1+json": {
       "config": {
        "plotlyServerURL": "https://plot.ly"
       },
       "data": [
        {
         "hovertemplate": "Country=Australia<br>Gemiddelde aandeel van groen in oppervlakte van stad=%{marker.size}<br>Percentage mensen die Ja hebben geantwoord=%{y}<br>3digit=%{text}<extra></extra>",
         "legendgroup": "Australia",
         "marker": {
          "color": "#636efa",
          "size": [
           38.43125
          ],
          "sizemode": "area",
          "sizeref": 0.14049999999999999,
          "symbol": "circle"
         },
         "mode": "markers+text",
         "name": "Australia",
         "orientation": "v",
         "showlegend": true,
         "text": [
          "AUS"
         ],
         "type": "scatter",
         "x": [
          38.43125
         ],
         "xaxis": "x",
         "y": [
          42
         ],
         "yaxis": "y"
        },
        {
         "hovertemplate": "Country=Austria<br>Gemiddelde aandeel van groen in oppervlakte van stad=%{marker.size}<br>Percentage mensen die Ja hebben geantwoord=%{y}<br>3digit=%{text}<extra></extra>",
         "legendgroup": "Austria",
         "marker": {
          "color": "#EF553B",
          "size": [
           40.800000000000004
          ],
          "sizemode": "area",
          "sizeref": 0.14049999999999999,
          "symbol": "circle"
         },
         "mode": "markers+text",
         "name": "Austria",
         "orientation": "v",
         "showlegend": true,
         "text": [
          "AUT"
         ],
         "type": "scatter",
         "x": [
          40.800000000000004
         ],
         "xaxis": "x",
         "y": [
          32
         ],
         "yaxis": "y"
        },
        {
         "hovertemplate": "Country=Belgium<br>Gemiddelde aandeel van groen in oppervlakte van stad=%{marker.size}<br>Percentage mensen die Ja hebben geantwoord=%{y}<br>3digit=%{text}<extra></extra>",
         "legendgroup": "Belgium",
         "marker": {
          "color": "#00cc96",
          "size": [
           45.18333333333334
          ],
          "sizemode": "area",
          "sizeref": 0.14049999999999999,
          "symbol": "circle"
         },
         "mode": "markers+text",
         "name": "Belgium",
         "orientation": "v",
         "showlegend": true,
         "text": [
          "BEL"
         ],
         "type": "scatter",
         "x": [
          45.18333333333334
         ],
         "xaxis": "x",
         "y": [
          39
         ],
         "yaxis": "y"
        },
        {
         "hovertemplate": "Country=Bulgaria<br>Gemiddelde aandeel van groen in oppervlakte van stad=%{marker.size}<br>Percentage mensen die Ja hebben geantwoord=%{y}<br>3digit=%{text}<extra></extra>",
         "legendgroup": "Bulgaria",
         "marker": {
          "color": "#ab63fa",
          "size": [
           34.81428571428571
          ],
          "sizemode": "area",
          "sizeref": 0.14049999999999999,
          "symbol": "circle"
         },
         "mode": "markers+text",
         "name": "Bulgaria",
         "orientation": "v",
         "showlegend": true,
         "text": [
          "BGR"
         ],
         "type": "scatter",
         "x": [
          34.81428571428571
         ],
         "xaxis": "x",
         "y": [
          23
         ],
         "yaxis": "y"
        },
        {
         "hovertemplate": "Country=Canada<br>Gemiddelde aandeel van groen in oppervlakte van stad=%{marker.size}<br>Percentage mensen die Ja hebben geantwoord=%{y}<br>3digit=%{text}<extra></extra>",
         "legendgroup": "Canada",
         "marker": {
          "color": "#FFA15A",
          "size": [
           46.45769230769231
          ],
          "sizemode": "area",
          "sizeref": 0.14049999999999999,
          "symbol": "circle"
         },
         "mode": "markers+text",
         "name": "Canada",
         "orientation": "v",
         "showlegend": true,
         "text": [
          "CAN"
         ],
         "type": "scatter",
         "x": [
          46.45769230769231
         ],
         "xaxis": "x",
         "y": [
          51
         ],
         "yaxis": "y"
        },
        {
         "hovertemplate": "Country=Chile<br>Gemiddelde aandeel van groen in oppervlakte van stad=%{marker.size}<br>Percentage mensen die Ja hebben geantwoord=%{y}<br>3digit=%{text}<extra></extra>",
         "legendgroup": "Chile",
         "marker": {
          "color": "#19d3f3",
          "size": [
           21.29615384615385
          ],
          "sizemode": "area",
          "sizeref": 0.14049999999999999,
          "symbol": "circle"
         },
         "mode": "markers+text",
         "name": "Chile",
         "orientation": "v",
         "showlegend": true,
         "text": [
          "CHL"
         ],
         "type": "scatter",
         "x": [
          21.29615384615385
         ],
         "xaxis": "x",
         "y": [
          37
         ],
         "yaxis": "y"
        },
        {
         "hovertemplate": "Country=Colombia<br>Gemiddelde aandeel van groen in oppervlakte van stad=%{marker.size}<br>Percentage mensen die Ja hebben geantwoord=%{y}<br>3digit=%{text}<extra></extra>",
         "legendgroup": "Colombia",
         "marker": {
          "color": "#FF6692",
          "size": [
           41.84339622641509
          ],
          "sizemode": "area",
          "sizeref": 0.14049999999999999,
          "symbol": "circle"
         },
         "mode": "markers+text",
         "name": "Colombia",
         "orientation": "v",
         "showlegend": true,
         "text": [
          "COL"
         ],
         "type": "scatter",
         "x": [
          41.84339622641509
         ],
         "xaxis": "x",
         "y": [
          47
         ],
         "yaxis": "y"
        },
        {
         "hovertemplate": "Country=Croatia<br>Gemiddelde aandeel van groen in oppervlakte van stad=%{marker.size}<br>Percentage mensen die Ja hebben geantwoord=%{y}<br>3digit=%{text}<extra></extra>",
         "legendgroup": "Croatia",
         "marker": {
          "color": "#B6E880",
          "size": [
           43.63333333333333
          ],
          "sizemode": "area",
          "sizeref": 0.14049999999999999,
          "symbol": "circle"
         },
         "mode": "markers+text",
         "name": "Croatia",
         "orientation": "v",
         "showlegend": true,
         "text": [
          "HRV"
         ],
         "type": "scatter",
         "x": [
          43.63333333333333
         ],
         "xaxis": "x",
         "y": [
          36
         ],
         "yaxis": "y"
        },
        {
         "hovertemplate": "Country=Cyprus<br>Gemiddelde aandeel van groen in oppervlakte van stad=%{marker.size}<br>Percentage mensen die Ja hebben geantwoord=%{y}<br>3digit=%{text}<extra></extra>",
         "legendgroup": "Cyprus",
         "marker": {
          "color": "#FF97FF",
          "size": [
           19.033333333333335
          ],
          "sizemode": "area",
          "sizeref": 0.14049999999999999,
          "symbol": "circle"
         },
         "mode": "markers+text",
         "name": "Cyprus",
         "orientation": "v",
         "showlegend": true,
         "text": [
          "CYP"
         ],
         "type": "scatter",
         "x": [
          19.033333333333335
         ],
         "xaxis": "x",
         "y": [
          55
         ],
         "yaxis": "y"
        },
        {
         "hovertemplate": "Country=Denmark<br>Gemiddelde aandeel van groen in oppervlakte van stad=%{marker.size}<br>Percentage mensen die Ja hebben geantwoord=%{y}<br>3digit=%{text}<extra></extra>",
         "legendgroup": "Denmark",
         "marker": {
          "color": "#FECB52",
          "size": [
           48.625
          ],
          "sizemode": "area",
          "sizeref": 0.14049999999999999,
          "symbol": "circle"
         },
         "mode": "markers+text",
         "name": "Denmark",
         "orientation": "v",
         "showlegend": true,
         "text": [
          "DNK"
         ],
         "type": "scatter",
         "x": [
          48.625
         ],
         "xaxis": "x",
         "y": [
          25
         ],
         "yaxis": "y"
        },
        {
         "hovertemplate": "Country=Estonia<br>Gemiddelde aandeel van groen in oppervlakte van stad=%{marker.size}<br>Percentage mensen die Ja hebben geantwoord=%{y}<br>3digit=%{text}<extra></extra>",
         "legendgroup": "Estonia",
         "marker": {
          "color": "#636efa",
          "size": [
           48.7
          ],
          "sizemode": "area",
          "sizeref": 0.14049999999999999,
          "symbol": "circle"
         },
         "mode": "markers+text",
         "name": "Estonia",
         "orientation": "v",
         "showlegend": true,
         "text": [
          "EST"
         ],
         "type": "scatter",
         "x": [
          48.7
         ],
         "xaxis": "x",
         "y": [
          23
         ],
         "yaxis": "y"
        },
        {
         "hovertemplate": "Country=Finland<br>Gemiddelde aandeel van groen in oppervlakte van stad=%{marker.size}<br>Percentage mensen die Ja hebben geantwoord=%{y}<br>3digit=%{text}<extra></extra>",
         "legendgroup": "Finland",
         "marker": {
          "color": "#EF553B",
          "size": [
           47
          ],
          "sizemode": "area",
          "sizeref": 0.14049999999999999,
          "symbol": "circle"
         },
         "mode": "markers+text",
         "name": "Finland",
         "orientation": "v",
         "showlegend": true,
         "text": [
          "FIN"
         ],
         "type": "scatter",
         "x": [
          47
         ],
         "xaxis": "x",
         "y": [
          41
         ],
         "yaxis": "y"
        },
        {
         "hovertemplate": "Country=France<br>Gemiddelde aandeel van groen in oppervlakte van stad=%{marker.size}<br>Percentage mensen die Ja hebben geantwoord=%{y}<br>3digit=%{text}<extra></extra>",
         "legendgroup": "France",
         "marker": {
          "color": "#00cc96",
          "size": [
           40.856923076923074
          ],
          "sizemode": "area",
          "sizeref": 0.14049999999999999,
          "symbol": "circle"
         },
         "mode": "markers+text",
         "name": "France",
         "orientation": "v",
         "showlegend": true,
         "text": [
          "FRA"
         ],
         "type": "scatter",
         "x": [
          40.856923076923074
         ],
         "xaxis": "x",
         "y": [
          34
         ],
         "yaxis": "y"
        },
        {
         "hovertemplate": "Country=Germany<br>Gemiddelde aandeel van groen in oppervlakte van stad=%{marker.size}<br>Percentage mensen die Ja hebben geantwoord=%{y}<br>3digit=%{text}<extra></extra>",
         "legendgroup": "Germany",
         "marker": {
          "color": "#ab63fa",
          "size": [
           50.45454545454545
          ],
          "sizemode": "area",
          "sizeref": 0.14049999999999999,
          "symbol": "circle"
         },
         "mode": "markers+text",
         "name": "Germany",
         "orientation": "v",
         "showlegend": true,
         "text": [
          "DEU"
         ],
         "type": "scatter",
         "x": [
          50.45454545454545
         ],
         "xaxis": "x",
         "y": [
          35
         ],
         "yaxis": "y"
        },
        {
         "hovertemplate": "Country=Greece<br>Gemiddelde aandeel van groen in oppervlakte van stad=%{marker.size}<br>Percentage mensen die Ja hebben geantwoord=%{y}<br>3digit=%{text}<extra></extra>",
         "legendgroup": "Greece",
         "marker": {
          "color": "#FFA15A",
          "size": [
           35.855555555555554
          ],
          "sizemode": "area",
          "sizeref": 0.14049999999999999,
          "symbol": "circle"
         },
         "mode": "markers+text",
         "name": "Greece",
         "orientation": "v",
         "showlegend": true,
         "text": [
          "GRC"
         ],
         "type": "scatter",
         "x": [
          35.855555555555554
         ],
         "xaxis": "x",
         "y": [
          54
         ],
         "yaxis": "y"
        },
        {
         "hovertemplate": "Country=Hungary<br>Gemiddelde aandeel van groen in oppervlakte van stad=%{marker.size}<br>Percentage mensen die Ja hebben geantwoord=%{y}<br>3digit=%{text}<extra></extra>",
         "legendgroup": "Hungary",
         "marker": {
          "color": "#19d3f3",
          "size": [
           43.33
          ],
          "sizemode": "area",
          "sizeref": 0.14049999999999999,
          "symbol": "circle"
         },
         "mode": "markers+text",
         "name": "Hungary",
         "orientation": "v",
         "showlegend": true,
         "text": [
          "HUN"
         ],
         "type": "scatter",
         "x": [
          43.33
         ],
         "xaxis": "x",
         "y": [
          33
         ],
         "yaxis": "y"
        },
        {
         "hovertemplate": "Country=Iceland<br>Gemiddelde aandeel van groen in oppervlakte van stad=%{marker.size}<br>Percentage mensen die Ja hebben geantwoord=%{y}<br>3digit=%{text}<extra></extra>",
         "legendgroup": "Iceland",
         "marker": {
          "color": "#FF6692",
          "size": [
           53.5
          ],
          "sizemode": "area",
          "sizeref": 0.14049999999999999,
          "symbol": "circle"
         },
         "mode": "markers+text",
         "name": "Iceland",
         "orientation": "v",
         "showlegend": true,
         "text": [
          "ISL"
         ],
         "type": "scatter",
         "x": [
          53.5
         ],
         "xaxis": "x",
         "y": [
          37
         ],
         "yaxis": "y"
        },
        {
         "hovertemplate": "Country=Ireland<br>Gemiddelde aandeel van groen in oppervlakte van stad=%{marker.size}<br>Percentage mensen die Ja hebben geantwoord=%{y}<br>3digit=%{text}<extra></extra>",
         "legendgroup": "Ireland",
         "marker": {
          "color": "#B6E880",
          "size": [
           52.86666666666667
          ],
          "sizemode": "area",
          "sizeref": 0.14049999999999999,
          "symbol": "circle"
         },
         "mode": "markers+text",
         "name": "Ireland",
         "orientation": "v",
         "showlegend": true,
         "text": [
          "IRL"
         ],
         "type": "scatter",
         "x": [
          52.86666666666667
         ],
         "xaxis": "x",
         "y": [
          35
         ],
         "yaxis": "y"
        },
        {
         "hovertemplate": "Country=Italy<br>Gemiddelde aandeel van groen in oppervlakte van stad=%{marker.size}<br>Percentage mensen die Ja hebben geantwoord=%{y}<br>3digit=%{text}<extra></extra>",
         "legendgroup": "Italy",
         "marker": {
          "color": "#FF97FF",
          "size": [
           37.84078947368421
          ],
          "sizemode": "area",
          "sizeref": 0.14049999999999999,
          "symbol": "circle"
         },
         "mode": "markers+text",
         "name": "Italy",
         "orientation": "v",
         "showlegend": true,
         "text": [
          "ITA"
         ],
         "type": "scatter",
         "x": [
          37.84078947368421
         ],
         "xaxis": "x",
         "y": [
          45
         ],
         "yaxis": "y"
        },
        {
         "hovertemplate": "Country=Japan<br>Gemiddelde aandeel van groen in oppervlakte van stad=%{marker.size}<br>Percentage mensen die Ja hebben geantwoord=%{y}<br>3digit=%{text}<extra></extra>",
         "legendgroup": "Japan",
         "marker": {
          "color": "#FECB52",
          "size": [
           20.280327868852456
          ],
          "sizemode": "area",
          "sizeref": 0.14049999999999999,
          "symbol": "circle"
         },
         "mode": "markers+text",
         "name": "Japan",
         "orientation": "v",
         "showlegend": true,
         "text": [
          "JPN"
         ],
         "type": "scatter",
         "x": [
          20.280327868852456
         ],
         "xaxis": "x",
         "y": [
          38
         ],
         "yaxis": "y"
        },
        {
         "hovertemplate": "Country=Latvia<br>Gemiddelde aandeel van groen in oppervlakte van stad=%{marker.size}<br>Percentage mensen die Ja hebben geantwoord=%{y}<br>3digit=%{text}<extra></extra>",
         "legendgroup": "Latvia",
         "marker": {
          "color": "#636efa",
          "size": [
           41.96666666666667
          ],
          "sizemode": "area",
          "sizeref": 0.14049999999999999,
          "symbol": "circle"
         },
         "mode": "markers+text",
         "name": "Latvia",
         "orientation": "v",
         "showlegend": true,
         "text": [
          "LVA"
         ],
         "type": "scatter",
         "x": [
          41.96666666666667
         ],
         "xaxis": "x",
         "y": [
          17
         ],
         "yaxis": "y"
        },
        {
         "hovertemplate": "Country=Lithuania<br>Gemiddelde aandeel van groen in oppervlakte van stad=%{marker.size}<br>Percentage mensen die Ja hebben geantwoord=%{y}<br>3digit=%{text}<extra></extra>",
         "legendgroup": "Lithuania",
         "marker": {
          "color": "#EF553B",
          "size": [
           46.38333333333333
          ],
          "sizemode": "area",
          "sizeref": 0.14049999999999999,
          "symbol": "circle"
         },
         "mode": "markers+text",
         "name": "Lithuania",
         "orientation": "v",
         "showlegend": true,
         "text": [
          "LTU"
         ],
         "type": "scatter",
         "x": [
          46.38333333333333
         ],
         "xaxis": "x",
         "y": [
          19
         ],
         "yaxis": "y"
        },
        {
         "hovertemplate": "Country=Luxembourg<br>Gemiddelde aandeel van groen in oppervlakte van stad=%{marker.size}<br>Percentage mensen die Ja hebben geantwoord=%{y}<br>3digit=%{text}<extra></extra>",
         "legendgroup": "Luxembourg",
         "marker": {
          "color": "#00cc96",
          "size": [
           46
          ],
          "sizemode": "area",
          "sizeref": 0.14049999999999999,
          "symbol": "circle"
         },
         "mode": "markers+text",
         "name": "Luxembourg",
         "orientation": "v",
         "showlegend": true,
         "text": [
          "LUX"
         ],
         "type": "scatter",
         "x": [
          46
         ],
         "xaxis": "x",
         "y": [
          42
         ],
         "yaxis": "y"
        },
        {
         "hovertemplate": "Country=Malta<br>Gemiddelde aandeel van groen in oppervlakte van stad=%{marker.size}<br>Percentage mensen die Ja hebben geantwoord=%{y}<br>3digit=%{text}<extra></extra>",
         "legendgroup": "Malta",
         "marker": {
          "color": "#ab63fa",
          "size": [
           26.6
          ],
          "sizemode": "area",
          "sizeref": 0.14049999999999999,
          "symbol": "circle"
         },
         "mode": "markers+text",
         "name": "Malta",
         "orientation": "v",
         "showlegend": true,
         "text": [
          "MLT"
         ],
         "type": "scatter",
         "x": [
          26.6
         ],
         "xaxis": "x",
         "y": [
          52
         ],
         "yaxis": "y"
        },
        {
         "hovertemplate": "Country=Mexico<br>Gemiddelde aandeel van groen in oppervlakte van stad=%{marker.size}<br>Percentage mensen die Ja hebben geantwoord=%{y}<br>3digit=%{text}<extra></extra>",
         "legendgroup": "Mexico",
         "marker": {
          "color": "#FFA15A",
          "size": [
           26.683695652173913
          ],
          "sizemode": "area",
          "sizeref": 0.14049999999999999,
          "symbol": "circle"
         },
         "mode": "markers+text",
         "name": "Mexico",
         "orientation": "v",
         "showlegend": true,
         "text": [
          "MEX"
         ],
         "type": "scatter",
         "x": [
          26.683695652173913
         ],
         "xaxis": "x",
         "y": [
          39
         ],
         "yaxis": "y"
        },
        {
         "hovertemplate": "Country=New Zealand<br>Gemiddelde aandeel van groen in oppervlakte van stad=%{marker.size}<br>Percentage mensen die Ja hebben geantwoord=%{y}<br>3digit=%{text}<extra></extra>",
         "legendgroup": "New Zealand",
         "marker": {
          "color": "#19d3f3",
          "size": [
           43.285714285714285
          ],
          "sizemode": "area",
          "sizeref": 0.14049999999999999,
          "symbol": "circle"
         },
         "mode": "markers+text",
         "name": "New Zealand",
         "orientation": "v",
         "showlegend": true,
         "text": [
          "NZL"
         ],
         "type": "scatter",
         "x": [
          43.285714285714285
         ],
         "xaxis": "x",
         "y": [
          37
         ],
         "yaxis": "y"
        },
        {
         "hovertemplate": "Country=Norway<br>Gemiddelde aandeel van groen in oppervlakte van stad=%{marker.size}<br>Percentage mensen die Ja hebben geantwoord=%{y}<br>3digit=%{text}<extra></extra>",
         "legendgroup": "Norway",
         "marker": {
          "color": "#FF6692",
          "size": [
           56.199999999999996
          ],
          "sizemode": "area",
          "sizeref": 0.14049999999999999,
          "symbol": "circle"
         },
         "mode": "markers+text",
         "name": "Norway",
         "orientation": "v",
         "showlegend": true,
         "text": [
          "NOR"
         ],
         "type": "scatter",
         "x": [
          56.199999999999996
         ],
         "xaxis": "x",
         "y": [
          36
         ],
         "yaxis": "y"
        },
        {
         "hovertemplate": "Country=Poland<br>Gemiddelde aandeel van groen in oppervlakte van stad=%{marker.size}<br>Percentage mensen die Ja hebben geantwoord=%{y}<br>3digit=%{text}<extra></extra>",
         "legendgroup": "Poland",
         "marker": {
          "color": "#B6E880",
          "size": [
           49.04883720930232
          ],
          "sizemode": "area",
          "sizeref": 0.14049999999999999,
          "symbol": "circle"
         },
         "mode": "markers+text",
         "name": "Poland",
         "orientation": "v",
         "showlegend": true,
         "text": [
          "POL"
         ],
         "type": "scatter",
         "x": [
          49.04883720930232
         ],
         "xaxis": "x",
         "y": [
          19
         ],
         "yaxis": "y"
        },
        {
         "hovertemplate": "Country=Portugal<br>Gemiddelde aandeel van groen in oppervlakte van stad=%{marker.size}<br>Percentage mensen die Ja hebben geantwoord=%{y}<br>3digit=%{text}<extra></extra>",
         "legendgroup": "Portugal",
         "marker": {
          "color": "#FF97FF",
          "size": [
           43.21666666666667
          ],
          "sizemode": "area",
          "sizeref": 0.14049999999999999,
          "symbol": "circle"
         },
         "mode": "markers+text",
         "name": "Portugal",
         "orientation": "v",
         "showlegend": true,
         "text": [
          "PRT"
         ],
         "type": "scatter",
         "x": [
          43.21666666666667
         ],
         "xaxis": "x",
         "y": [
          42
         ],
         "yaxis": "y"
        },
        {
         "hovertemplate": "Country=Romania<br>Gemiddelde aandeel van groen in oppervlakte van stad=%{marker.size}<br>Percentage mensen die Ja hebben geantwoord=%{y}<br>3digit=%{text}<extra></extra>",
         "legendgroup": "Romania",
         "marker": {
          "color": "#FECB52",
          "size": [
           35.12758620689655
          ],
          "sizemode": "area",
          "sizeref": 0.14049999999999999,
          "symbol": "circle"
         },
         "mode": "markers+text",
         "name": "Romania",
         "orientation": "v",
         "showlegend": true,
         "text": [
          "ROU"
         ],
         "type": "scatter",
         "x": [
          35.12758620689655
         ],
         "xaxis": "x",
         "y": [
          35
         ],
         "yaxis": "y"
        },
        {
         "hovertemplate": "Country=Slovakia<br>Gemiddelde aandeel van groen in oppervlakte van stad=%{marker.size}<br>Percentage mensen die Ja hebben geantwoord=%{y}<br>3digit=%{text}<extra></extra>",
         "legendgroup": "Slovakia",
         "marker": {
          "color": "#636efa",
          "size": [
           42.266666666666666
          ],
          "sizemode": "area",
          "sizeref": 0.14049999999999999,
          "symbol": "circle"
         },
         "mode": "markers+text",
         "name": "Slovakia",
         "orientation": "v",
         "showlegend": true,
         "text": [
          "SVK"
         ],
         "type": "scatter",
         "x": [
          42.266666666666666
         ],
         "xaxis": "x",
         "y": [
          38
         ],
         "yaxis": "y"
        },
        {
         "hovertemplate": "Country=Slovenia<br>Gemiddelde aandeel van groen in oppervlakte van stad=%{marker.size}<br>Percentage mensen die Ja hebben geantwoord=%{y}<br>3digit=%{text}<extra></extra>",
         "legendgroup": "Slovenia",
         "marker": {
          "color": "#EF553B",
          "size": [
           42.55
          ],
          "sizemode": "area",
          "sizeref": 0.14049999999999999,
          "symbol": "circle"
         },
         "mode": "markers+text",
         "name": "Slovenia",
         "orientation": "v",
         "showlegend": true,
         "text": [
          "SVN"
         ],
         "type": "scatter",
         "x": [
          42.55
         ],
         "xaxis": "x",
         "y": [
          34
         ],
         "yaxis": "y"
        },
        {
         "hovertemplate": "Country=Spain<br>Gemiddelde aandeel van groen in oppervlakte van stad=%{marker.size}<br>Percentage mensen die Ja hebben geantwoord=%{y}<br>3digit=%{text}<extra></extra>",
         "legendgroup": "Spain",
         "marker": {
          "color": "#00cc96",
          "size": [
           39.29242424242425
          ],
          "sizemode": "area",
          "sizeref": 0.14049999999999999,
          "symbol": "circle"
         },
         "mode": "markers+text",
         "name": "Spain",
         "orientation": "v",
         "showlegend": true,
         "text": [
          "ESP"
         ],
         "type": "scatter",
         "x": [
          39.29242424242425
         ],
         "xaxis": "x",
         "y": [
          31
         ],
         "yaxis": "y"
        },
        {
         "hovertemplate": "Country=Sweden<br>Gemiddelde aandeel van groen in oppervlakte van stad=%{marker.size}<br>Percentage mensen die Ja hebben geantwoord=%{y}<br>3digit=%{text}<extra></extra>",
         "legendgroup": "Sweden",
         "marker": {
          "color": "#ab63fa",
          "size": [
           49.08888888888889
          ],
          "sizemode": "area",
          "sizeref": 0.14049999999999999,
          "symbol": "circle"
         },
         "mode": "markers+text",
         "name": "Sweden",
         "orientation": "v",
         "showlegend": true,
         "text": [
          "SWE"
         ],
         "type": "scatter",
         "x": [
          49.08888888888889
         ],
         "xaxis": "x",
         "y": [
          32
         ],
         "yaxis": "y"
        },
        {
         "hovertemplate": "Country=Switzerland<br>Gemiddelde aandeel van groen in oppervlakte van stad=%{marker.size}<br>Percentage mensen die Ja hebben geantwoord=%{y}<br>3digit=%{text}<extra></extra>",
         "legendgroup": "Switzerland",
         "marker": {
          "color": "#FFA15A",
          "size": [
           55.56
          ],
          "sizemode": "area",
          "sizeref": 0.14049999999999999,
          "symbol": "circle"
         },
         "mode": "markers+text",
         "name": "Switzerland",
         "orientation": "v",
         "showlegend": true,
         "text": [
          "CHE"
         ],
         "type": "scatter",
         "x": [
          55.56
         ],
         "xaxis": "x",
         "y": [
          26
         ],
         "yaxis": "y"
        },
        {
         "line": {
          "color": "red"
         },
         "mode": "lines",
         "name": "Trendline",
         "type": "scatter",
         "x": [
          19.033333333333335,
          19.40875420875421,
          19.784175084175086,
          20.15959595959596,
          20.535016835016837,
          20.910437710437712,
          21.285858585858588,
          21.661279461279463,
          22.03670033670034,
          22.412121212121214,
          22.78754208754209,
          23.162962962962965,
          23.538383838383837,
          23.913804713804716,
          24.289225589225587,
          24.664646464646466,
          25.04006734006734,
          25.415488215488217,
          25.79090909090909,
          26.166329966329968,
          26.54175084175084,
          26.917171717171716,
          27.29259259259259,
          27.66801346801347,
          28.043434343434342,
          28.418855218855217,
          28.794276094276093,
          29.169696969696968,
          29.545117845117844,
          29.92053872053872,
          30.295959595959594,
          30.67138047138047,
          31.046801346801345,
          31.42222222222222,
          31.797643097643096,
          32.173063973063975,
          32.54848484848485,
          32.92390572390572,
          33.2993265993266,
          33.67474747474748,
          34.05016835016835,
          34.42558922558922,
          34.8010101010101,
          35.17643097643098,
          35.55185185185185,
          35.92727272727272,
          36.3026936026936,
          36.67811447811448,
          37.05353535353535,
          37.428956228956224,
          37.804377104377096,
          38.179797979797975,
          38.555218855218854,
          38.930639730639726,
          39.3060606060606,
          39.68148148148148,
          40.056902356902356,
          40.43232323232323,
          40.8077441077441,
          41.18316498316498,
          41.55858585858586,
          41.93400673400673,
          42.3094276094276,
          42.68484848484848,
          43.06026936026936,
          43.43569023569023,
          43.8111111111111,
          44.18653198653198,
          44.56195286195286,
          44.93737373737373,
          45.312794612794605,
          45.688215488215484,
          46.06363636363636,
          46.439057239057234,
          46.814478114478106,
          47.189898989898985,
          47.565319865319864,
          47.940740740740736,
          48.31616161616161,
          48.69158249158249,
          49.067003367003366,
          49.44242424242424,
          49.81784511784511,
          50.19326599326598,
          50.56868686868686,
          50.94410774410774,
          51.31952861952861,
          51.69494949494948,
          52.07037037037037,
          52.44579124579124,
          52.82121212121211,
          53.196632996632985,
          53.57205387205387,
          53.94747474747474,
          54.322895622895615,
          54.69831649831649,
          55.07373737373736,
          55.449158249158245,
          55.82457912457912,
          56.199999999999996
         ],
         "y": [
          45.13132686137799,
          44.97952233920863,
          44.827717817039265,
          44.6759132948699,
          44.52410877270054,
          44.37230425053117,
          44.220499728361816,
          44.06869520619245,
          43.91689068402309,
          43.76508616185372,
          43.61328163968436,
          43.461477117515,
          43.30967259534564,
          43.157868073176274,
          43.00606355100691,
          42.85425902883755,
          42.70245450666819,
          42.55064998449882,
          42.39884546232946,
          42.2470409401601,
          42.09523641799073,
          41.94343189582137,
          41.791627373652005,
          41.63982285148265,
          41.488018329313284,
          41.33621380714392,
          41.184409284974556,
          41.03260476280519,
          40.880800240635836,
          40.728995718466464,
          40.57719119629711,
          40.42538667412774,
          40.27358215195838,
          40.121777629789015,
          39.96997310761965,
          39.818168585450294,
          39.66636406328093,
          39.514559541111566,
          39.3627550189422,
          39.21095049677284,
          39.05914597460348,
          38.90734145243412,
          38.75553693026475,
          38.60373240809539,
          38.451927885926025,
          38.30012336375667,
          38.1483188415873,
          37.99651431941794,
          37.844709797248576,
          37.69290527507921,
          37.541100752909855,
          37.389296230740484,
          37.23749170857113,
          37.08568718640176,
          36.9338826642324,
          36.782078142063035,
          36.63027361989367,
          36.478469097724314,
          36.32666457555495,
          36.174860053385586,
          36.023055531216215,
          35.87125100904686,
          35.7194464868775,
          35.56764196470813,
          35.41583744253877,
          35.26403292036941,
          35.112228398200045,
          34.96042387603068,
          34.80861935386132,
          34.65681483169196,
          34.505010309522596,
          34.35320578735323,
          34.20140126518386,
          34.049596743014504,
          33.89779222084515,
          33.745987698675776,
          33.59418317650642,
          33.442378654337055,
          33.29057413216769,
          33.13876960999833,
          32.98696508782896,
          32.835160565659606,
          32.68335604349024,
          32.53155152132088,
          32.379746999151514,
          32.22794247698215,
          32.07613795481279,
          31.92433343264343,
          31.772528910474062,
          31.6207243883047,
          31.468919866135337,
          31.317115343965977,
          31.16531082179661,
          31.01350629962725,
          30.86170177745789,
          30.709897255288524,
          30.558092733119164,
          30.406288210949796,
          30.254483688780436,
          30.102679166611072
         ]
        }
       ],
       "layout": {
        "annotations": [
         {
          "align": "center",
          "font": {
           "size": 13
          },
          "showarrow": false,
          "text": "Deze scatterplot laat de percentage mensen zien die Ja hebben geantwoord op de enquêtevraag, <br>ten opzichte van de gemiddelde aandeel groen van de oppervlakte van een stad. <br>Als je met de muis over een land heen beweegt, dan zie je de precieze percentages. <br>In de plot is te zien dat de bevolking van landen met meer groen oppervlak minder stress ervaren. ",
          "x": 0.65,
          "xanchor": "center",
          "xref": "paper",
          "y": -0.1,
          "yanchor": "top",
          "yref": "paper"
         }
        ],
        "height": 600,
        "legend": {
         "itemsizing": "constant",
         "title": {
          "text": "Country"
         },
         "tracegroupgap": 0
        },
        "showlegend": false,
        "template": {
         "data": {
          "bar": [
           {
            "error_x": {
             "color": "#2a3f5f"
            },
            "error_y": {
             "color": "#2a3f5f"
            },
            "marker": {
             "line": {
              "color": "#E5ECF6",
              "width": 0.5
             },
             "pattern": {
              "fillmode": "overlay",
              "size": 10,
              "solidity": 0.2
             }
            },
            "type": "bar"
           }
          ],
          "barpolar": [
           {
            "marker": {
             "line": {
              "color": "#E5ECF6",
              "width": 0.5
             },
             "pattern": {
              "fillmode": "overlay",
              "size": 10,
              "solidity": 0.2
             }
            },
            "type": "barpolar"
           }
          ],
          "carpet": [
           {
            "aaxis": {
             "endlinecolor": "#2a3f5f",
             "gridcolor": "white",
             "linecolor": "white",
             "minorgridcolor": "white",
             "startlinecolor": "#2a3f5f"
            },
            "baxis": {
             "endlinecolor": "#2a3f5f",
             "gridcolor": "white",
             "linecolor": "white",
             "minorgridcolor": "white",
             "startlinecolor": "#2a3f5f"
            },
            "type": "carpet"
           }
          ],
          "choropleth": [
           {
            "colorbar": {
             "outlinewidth": 0,
             "ticks": ""
            },
            "type": "choropleth"
           }
          ],
          "contour": [
           {
            "colorbar": {
             "outlinewidth": 0,
             "ticks": ""
            },
            "colorscale": [
             [
              0,
              "#0d0887"
             ],
             [
              0.1111111111111111,
              "#46039f"
             ],
             [
              0.2222222222222222,
              "#7201a8"
             ],
             [
              0.3333333333333333,
              "#9c179e"
             ],
             [
              0.4444444444444444,
              "#bd3786"
             ],
             [
              0.5555555555555556,
              "#d8576b"
             ],
             [
              0.6666666666666666,
              "#ed7953"
             ],
             [
              0.7777777777777778,
              "#fb9f3a"
             ],
             [
              0.8888888888888888,
              "#fdca26"
             ],
             [
              1,
              "#f0f921"
             ]
            ],
            "type": "contour"
           }
          ],
          "contourcarpet": [
           {
            "colorbar": {
             "outlinewidth": 0,
             "ticks": ""
            },
            "type": "contourcarpet"
           }
          ],
          "heatmap": [
           {
            "colorbar": {
             "outlinewidth": 0,
             "ticks": ""
            },
            "colorscale": [
             [
              0,
              "#0d0887"
             ],
             [
              0.1111111111111111,
              "#46039f"
             ],
             [
              0.2222222222222222,
              "#7201a8"
             ],
             [
              0.3333333333333333,
              "#9c179e"
             ],
             [
              0.4444444444444444,
              "#bd3786"
             ],
             [
              0.5555555555555556,
              "#d8576b"
             ],
             [
              0.6666666666666666,
              "#ed7953"
             ],
             [
              0.7777777777777778,
              "#fb9f3a"
             ],
             [
              0.8888888888888888,
              "#fdca26"
             ],
             [
              1,
              "#f0f921"
             ]
            ],
            "type": "heatmap"
           }
          ],
          "heatmapgl": [
           {
            "colorbar": {
             "outlinewidth": 0,
             "ticks": ""
            },
            "colorscale": [
             [
              0,
              "#0d0887"
             ],
             [
              0.1111111111111111,
              "#46039f"
             ],
             [
              0.2222222222222222,
              "#7201a8"
             ],
             [
              0.3333333333333333,
              "#9c179e"
             ],
             [
              0.4444444444444444,
              "#bd3786"
             ],
             [
              0.5555555555555556,
              "#d8576b"
             ],
             [
              0.6666666666666666,
              "#ed7953"
             ],
             [
              0.7777777777777778,
              "#fb9f3a"
             ],
             [
              0.8888888888888888,
              "#fdca26"
             ],
             [
              1,
              "#f0f921"
             ]
            ],
            "type": "heatmapgl"
           }
          ],
          "histogram": [
           {
            "marker": {
             "pattern": {
              "fillmode": "overlay",
              "size": 10,
              "solidity": 0.2
             }
            },
            "type": "histogram"
           }
          ],
          "histogram2d": [
           {
            "colorbar": {
             "outlinewidth": 0,
             "ticks": ""
            },
            "colorscale": [
             [
              0,
              "#0d0887"
             ],
             [
              0.1111111111111111,
              "#46039f"
             ],
             [
              0.2222222222222222,
              "#7201a8"
             ],
             [
              0.3333333333333333,
              "#9c179e"
             ],
             [
              0.4444444444444444,
              "#bd3786"
             ],
             [
              0.5555555555555556,
              "#d8576b"
             ],
             [
              0.6666666666666666,
              "#ed7953"
             ],
             [
              0.7777777777777778,
              "#fb9f3a"
             ],
             [
              0.8888888888888888,
              "#fdca26"
             ],
             [
              1,
              "#f0f921"
             ]
            ],
            "type": "histogram2d"
           }
          ],
          "histogram2dcontour": [
           {
            "colorbar": {
             "outlinewidth": 0,
             "ticks": ""
            },
            "colorscale": [
             [
              0,
              "#0d0887"
             ],
             [
              0.1111111111111111,
              "#46039f"
             ],
             [
              0.2222222222222222,
              "#7201a8"
             ],
             [
              0.3333333333333333,
              "#9c179e"
             ],
             [
              0.4444444444444444,
              "#bd3786"
             ],
             [
              0.5555555555555556,
              "#d8576b"
             ],
             [
              0.6666666666666666,
              "#ed7953"
             ],
             [
              0.7777777777777778,
              "#fb9f3a"
             ],
             [
              0.8888888888888888,
              "#fdca26"
             ],
             [
              1,
              "#f0f921"
             ]
            ],
            "type": "histogram2dcontour"
           }
          ],
          "mesh3d": [
           {
            "colorbar": {
             "outlinewidth": 0,
             "ticks": ""
            },
            "type": "mesh3d"
           }
          ],
          "parcoords": [
           {
            "line": {
             "colorbar": {
              "outlinewidth": 0,
              "ticks": ""
             }
            },
            "type": "parcoords"
           }
          ],
          "pie": [
           {
            "automargin": true,
            "type": "pie"
           }
          ],
          "scatter": [
           {
            "fillpattern": {
             "fillmode": "overlay",
             "size": 10,
             "solidity": 0.2
            },
            "type": "scatter"
           }
          ],
          "scatter3d": [
           {
            "line": {
             "colorbar": {
              "outlinewidth": 0,
              "ticks": ""
             }
            },
            "marker": {
             "colorbar": {
              "outlinewidth": 0,
              "ticks": ""
             }
            },
            "type": "scatter3d"
           }
          ],
          "scattercarpet": [
           {
            "marker": {
             "colorbar": {
              "outlinewidth": 0,
              "ticks": ""
             }
            },
            "type": "scattercarpet"
           }
          ],
          "scattergeo": [
           {
            "marker": {
             "colorbar": {
              "outlinewidth": 0,
              "ticks": ""
             }
            },
            "type": "scattergeo"
           }
          ],
          "scattergl": [
           {
            "marker": {
             "colorbar": {
              "outlinewidth": 0,
              "ticks": ""
             }
            },
            "type": "scattergl"
           }
          ],
          "scattermapbox": [
           {
            "marker": {
             "colorbar": {
              "outlinewidth": 0,
              "ticks": ""
             }
            },
            "type": "scattermapbox"
           }
          ],
          "scatterpolar": [
           {
            "marker": {
             "colorbar": {
              "outlinewidth": 0,
              "ticks": ""
             }
            },
            "type": "scatterpolar"
           }
          ],
          "scatterpolargl": [
           {
            "marker": {
             "colorbar": {
              "outlinewidth": 0,
              "ticks": ""
             }
            },
            "type": "scatterpolargl"
           }
          ],
          "scatterternary": [
           {
            "marker": {
             "colorbar": {
              "outlinewidth": 0,
              "ticks": ""
             }
            },
            "type": "scatterternary"
           }
          ],
          "surface": [
           {
            "colorbar": {
             "outlinewidth": 0,
             "ticks": ""
            },
            "colorscale": [
             [
              0,
              "#0d0887"
             ],
             [
              0.1111111111111111,
              "#46039f"
             ],
             [
              0.2222222222222222,
              "#7201a8"
             ],
             [
              0.3333333333333333,
              "#9c179e"
             ],
             [
              0.4444444444444444,
              "#bd3786"
             ],
             [
              0.5555555555555556,
              "#d8576b"
             ],
             [
              0.6666666666666666,
              "#ed7953"
             ],
             [
              0.7777777777777778,
              "#fb9f3a"
             ],
             [
              0.8888888888888888,
              "#fdca26"
             ],
             [
              1,
              "#f0f921"
             ]
            ],
            "type": "surface"
           }
          ],
          "table": [
           {
            "cells": {
             "fill": {
              "color": "#EBF0F8"
             },
             "line": {
              "color": "white"
             }
            },
            "header": {
             "fill": {
              "color": "#C8D4E3"
             },
             "line": {
              "color": "white"
             }
            },
            "type": "table"
           }
          ]
         },
         "layout": {
          "annotationdefaults": {
           "arrowcolor": "#2a3f5f",
           "arrowhead": 0,
           "arrowwidth": 1
          },
          "autotypenumbers": "strict",
          "coloraxis": {
           "colorbar": {
            "outlinewidth": 0,
            "ticks": ""
           }
          },
          "colorscale": {
           "diverging": [
            [
             0,
             "#8e0152"
            ],
            [
             0.1,
             "#c51b7d"
            ],
            [
             0.2,
             "#de77ae"
            ],
            [
             0.3,
             "#f1b6da"
            ],
            [
             0.4,
             "#fde0ef"
            ],
            [
             0.5,
             "#f7f7f7"
            ],
            [
             0.6,
             "#e6f5d0"
            ],
            [
             0.7,
             "#b8e186"
            ],
            [
             0.8,
             "#7fbc41"
            ],
            [
             0.9,
             "#4d9221"
            ],
            [
             1,
             "#276419"
            ]
           ],
           "sequential": [
            [
             0,
             "#0d0887"
            ],
            [
             0.1111111111111111,
             "#46039f"
            ],
            [
             0.2222222222222222,
             "#7201a8"
            ],
            [
             0.3333333333333333,
             "#9c179e"
            ],
            [
             0.4444444444444444,
             "#bd3786"
            ],
            [
             0.5555555555555556,
             "#d8576b"
            ],
            [
             0.6666666666666666,
             "#ed7953"
            ],
            [
             0.7777777777777778,
             "#fb9f3a"
            ],
            [
             0.8888888888888888,
             "#fdca26"
            ],
            [
             1,
             "#f0f921"
            ]
           ],
           "sequentialminus": [
            [
             0,
             "#0d0887"
            ],
            [
             0.1111111111111111,
             "#46039f"
            ],
            [
             0.2222222222222222,
             "#7201a8"
            ],
            [
             0.3333333333333333,
             "#9c179e"
            ],
            [
             0.4444444444444444,
             "#bd3786"
            ],
            [
             0.5555555555555556,
             "#d8576b"
            ],
            [
             0.6666666666666666,
             "#ed7953"
            ],
            [
             0.7777777777777778,
             "#fb9f3a"
            ],
            [
             0.8888888888888888,
             "#fdca26"
            ],
            [
             1,
             "#f0f921"
            ]
           ]
          },
          "colorway": [
           "#636efa",
           "#EF553B",
           "#00cc96",
           "#ab63fa",
           "#FFA15A",
           "#19d3f3",
           "#FF6692",
           "#B6E880",
           "#FF97FF",
           "#FECB52"
          ],
          "font": {
           "color": "#2a3f5f"
          },
          "geo": {
           "bgcolor": "white",
           "lakecolor": "white",
           "landcolor": "#E5ECF6",
           "showlakes": true,
           "showland": true,
           "subunitcolor": "white"
          },
          "hoverlabel": {
           "align": "left"
          },
          "hovermode": "closest",
          "mapbox": {
           "style": "light"
          },
          "paper_bgcolor": "white",
          "plot_bgcolor": "#E5ECF6",
          "polar": {
           "angularaxis": {
            "gridcolor": "white",
            "linecolor": "white",
            "ticks": ""
           },
           "bgcolor": "#E5ECF6",
           "radialaxis": {
            "gridcolor": "white",
            "linecolor": "white",
            "ticks": ""
           }
          },
          "scene": {
           "xaxis": {
            "backgroundcolor": "#E5ECF6",
            "gridcolor": "white",
            "gridwidth": 2,
            "linecolor": "white",
            "showbackground": true,
            "ticks": "",
            "zerolinecolor": "white"
           },
           "yaxis": {
            "backgroundcolor": "#E5ECF6",
            "gridcolor": "white",
            "gridwidth": 2,
            "linecolor": "white",
            "showbackground": true,
            "ticks": "",
            "zerolinecolor": "white"
           },
           "zaxis": {
            "backgroundcolor": "#E5ECF6",
            "gridcolor": "white",
            "gridwidth": 2,
            "linecolor": "white",
            "showbackground": true,
            "ticks": "",
            "zerolinecolor": "white"
           }
          },
          "shapedefaults": {
           "line": {
            "color": "#2a3f5f"
           }
          },
          "ternary": {
           "aaxis": {
            "gridcolor": "white",
            "linecolor": "white",
            "ticks": ""
           },
           "baxis": {
            "gridcolor": "white",
            "linecolor": "white",
            "ticks": ""
           },
           "bgcolor": "#E5ECF6",
           "caxis": {
            "gridcolor": "white",
            "linecolor": "white",
            "ticks": ""
           }
          },
          "title": {
           "x": 0.05
          },
          "xaxis": {
           "automargin": true,
           "gridcolor": "white",
           "linecolor": "white",
           "ticks": "",
           "title": {
            "standoff": 15
           },
           "zerolinecolor": "white",
           "zerolinewidth": 2
          },
          "yaxis": {
           "automargin": true,
           "gridcolor": "white",
           "linecolor": "white",
           "ticks": "",
           "title": {
            "standoff": 15
           },
           "zerolinecolor": "white",
           "zerolinewidth": 2
          }
         }
        },
        "title": {
         "text": "Figuur 4: Mensen met stress vs. Groen Percentage per Stad"
        },
        "width": 1000,
        "xaxis": {
         "anchor": "y",
         "domain": [
          0,
          1
         ],
         "title": {
          "text": "Gemiddelde aandeel van groen in oppervlakte van stad"
         }
        },
        "yaxis": {
         "anchor": "x",
         "domain": [
          0,
          1
         ],
         "title": {
          "text": "Percentage mensen die Ja hebben geantwoord"
         }
        }
       }
      }
     },
     "metadata": {},
     "output_type": "display_data"
    }
   ],
   "source": [
    "fig4 = px.scatter(\n",
    "    merged_df, \n",
    "    x='Gemiddelde aandeel van groen in oppervlakte van stad', \n",
    "    y='Percentage mensen die Ja hebben geantwoord', \n",
    "    size='Gemiddelde aandeel van groen in oppervlakte van stad', \n",
    "    color='Country', \n",
    "    title='Figuur 4: Mensen met stress vs. Groen Percentage per Stad',\n",
    "    text='3digit'\n",
    ")\n",
    "\n",
    "x = merged_df['Gemiddelde aandeel van groen in oppervlakte van stad']\n",
    "y = merged_df['Percentage mensen die Ja hebben geantwoord']\n",
    "coefficients = np.polyfit(x, y, 1)\n",
    "trendline = np.poly1d(coefficients)\n",
    "\n",
    "# trendline values\n",
    "x_trend = np.linspace(x.min(), x.max(), 100)\n",
    "y_trend = trendline(x_trend)\n",
    "\n",
    "# trendline trace\n",
    "fig4.add_trace(\n",
    "    go.Scatter(\n",
    "        x=x_trend, \n",
    "        y=y_trend, \n",
    "        mode='lines', \n",
    "        line=dict(color='red'),\n",
    "        name='Trendline'\n",
    "    )\n",
    ")\n",
    "\n",
    "fig4.update_layout(showlegend=False, width=1000, height=600)\n",
    "\n",
    "fig4.add_annotation(\n",
    "    xref='paper', yref='paper',\n",
    "    x=0.65, y=-0.10,  # Adjust y to position the annotation at the bottom\n",
    "    showarrow=False,\n",
    "    xanchor='center',\n",
    "    yanchor='top',\n",
    "    align='center',\n",
    "    text='Deze scatterplot laat de percentage mensen zien die Ja hebben geantwoord op de enquêtevraag, <br>' +\n",
    "         'ten opzichte van de gemiddelde aandeel groen van de oppervlakte van een stad. <br>' +\n",
    "         'Als je met de muis over een land heen beweegt, dan zie je de precieze percentages. <br>' +\n",
    "         'In de plot is te zien dat de bevolking van landen met meer groen oppervlak minder stress ervaren. ',\n",
    "    font=dict(size=13),  # Adjust font size if necessary\n",
    ")\n",
    "\n",
    "fig4.show()\n"
   ]
  },
  {
   "cell_type": "code",
   "execution_count": 11,
   "metadata": {},
   "outputs": [
    {
     "data": {
      "application/vnd.plotly.v1+json": {
       "config": {
        "plotlyServerURL": "https://plot.ly"
       },
       "data": [
        {
         "alignmentgroup": "True",
         "hovertemplate": "Country=%{x}<br>Gemiddelde aandeel van groen in oppervlakte van stad=%{y}<br>Percentage mensen die Ja hebben geantwoord=%{marker.color}<extra></extra>",
         "legendgroup": "",
         "marker": {
          "color": [
           42,
           32,
           39,
           23,
           51,
           37,
           47,
           36,
           55,
           25,
           23,
           41,
           34,
           35,
           54,
           33,
           37,
           35,
           45,
           38,
           17,
           19,
           42,
           52,
           39,
           37,
           36,
           19,
           42,
           35,
           38,
           34,
           31,
           32,
           26
          ],
          "coloraxis": "coloraxis",
          "pattern": {
           "shape": ""
          }
         },
         "name": "",
         "offsetgroup": "",
         "orientation": "v",
         "showlegend": false,
         "textposition": "auto",
         "type": "bar",
         "x": [
          "Australia",
          "Austria",
          "Belgium",
          "Bulgaria",
          "Canada",
          "Chile",
          "Colombia",
          "Croatia",
          "Cyprus",
          "Denmark",
          "Estonia",
          "Finland",
          "France",
          "Germany",
          "Greece",
          "Hungary",
          "Iceland",
          "Ireland",
          "Italy",
          "Japan",
          "Latvia",
          "Lithuania",
          "Luxembourg",
          "Malta",
          "Mexico",
          "New Zealand",
          "Norway",
          "Poland",
          "Portugal",
          "Romania",
          "Slovakia",
          "Slovenia",
          "Spain",
          "Sweden",
          "Switzerland"
         ],
         "xaxis": "x",
         "y": [
          38.43125,
          40.800000000000004,
          45.18333333333334,
          34.81428571428571,
          46.45769230769231,
          21.29615384615385,
          41.84339622641509,
          43.63333333333333,
          19.033333333333335,
          48.625,
          48.7,
          47,
          40.856923076923074,
          50.45454545454545,
          35.855555555555554,
          43.33,
          53.5,
          52.86666666666667,
          37.84078947368421,
          20.280327868852456,
          41.96666666666667,
          46.38333333333333,
          46,
          26.6,
          26.683695652173913,
          43.285714285714285,
          56.199999999999996,
          49.04883720930232,
          43.21666666666667,
          35.12758620689655,
          42.266666666666666,
          42.55,
          39.29242424242425,
          49.08888888888889,
          55.56
         ],
         "yaxis": "y"
        }
       ],
       "layout": {
        "annotations": [
         {
          "align": "center",
          "font": {
           "size": 13
          },
          "showarrow": false,
          "text": "Deze staafdiagram laat per land de percentage mensen zien die Ja hebben geantwoord op de enquêtevraag, <br>ten opzichte van de gemiddelde aandeel groen van de oppervlakte van een stad. <br>Als je met de muis over een land heen beweegt, dan zie je de precieze percentages. <br>In de plot is te zien dat de staven die minder lang zijn een meer gele kleur hebben. <br> Dit betekent dat de bevolking van landen met minder groen meer stress ervaart",
          "x": 0.7,
          "xanchor": "center",
          "xref": "paper",
          "y": -1.5,
          "yanchor": "top",
          "yref": "paper"
         }
        ],
        "barmode": "group",
        "coloraxis": {
         "colorbar": {
          "title": {
           "text": "Percentage mensen die Ja hebben geantwoord"
          }
         },
         "colorscale": [
          [
           0,
           "#0d0887"
          ],
          [
           0.1111111111111111,
           "#46039f"
          ],
          [
           0.2222222222222222,
           "#7201a8"
          ],
          [
           0.3333333333333333,
           "#9c179e"
          ],
          [
           0.4444444444444444,
           "#bd3786"
          ],
          [
           0.5555555555555556,
           "#d8576b"
          ],
          [
           0.6666666666666666,
           "#ed7953"
          ],
          [
           0.7777777777777778,
           "#fb9f3a"
          ],
          [
           0.8888888888888888,
           "#fdca26"
          ],
          [
           1,
           "#f0f921"
          ]
         ]
        },
        "legend": {
         "tracegroupgap": 0
        },
        "template": {
         "data": {
          "bar": [
           {
            "error_x": {
             "color": "#2a3f5f"
            },
            "error_y": {
             "color": "#2a3f5f"
            },
            "marker": {
             "line": {
              "color": "#E5ECF6",
              "width": 0.5
             },
             "pattern": {
              "fillmode": "overlay",
              "size": 10,
              "solidity": 0.2
             }
            },
            "type": "bar"
           }
          ],
          "barpolar": [
           {
            "marker": {
             "line": {
              "color": "#E5ECF6",
              "width": 0.5
             },
             "pattern": {
              "fillmode": "overlay",
              "size": 10,
              "solidity": 0.2
             }
            },
            "type": "barpolar"
           }
          ],
          "carpet": [
           {
            "aaxis": {
             "endlinecolor": "#2a3f5f",
             "gridcolor": "white",
             "linecolor": "white",
             "minorgridcolor": "white",
             "startlinecolor": "#2a3f5f"
            },
            "baxis": {
             "endlinecolor": "#2a3f5f",
             "gridcolor": "white",
             "linecolor": "white",
             "minorgridcolor": "white",
             "startlinecolor": "#2a3f5f"
            },
            "type": "carpet"
           }
          ],
          "choropleth": [
           {
            "colorbar": {
             "outlinewidth": 0,
             "ticks": ""
            },
            "type": "choropleth"
           }
          ],
          "contour": [
           {
            "colorbar": {
             "outlinewidth": 0,
             "ticks": ""
            },
            "colorscale": [
             [
              0,
              "#0d0887"
             ],
             [
              0.1111111111111111,
              "#46039f"
             ],
             [
              0.2222222222222222,
              "#7201a8"
             ],
             [
              0.3333333333333333,
              "#9c179e"
             ],
             [
              0.4444444444444444,
              "#bd3786"
             ],
             [
              0.5555555555555556,
              "#d8576b"
             ],
             [
              0.6666666666666666,
              "#ed7953"
             ],
             [
              0.7777777777777778,
              "#fb9f3a"
             ],
             [
              0.8888888888888888,
              "#fdca26"
             ],
             [
              1,
              "#f0f921"
             ]
            ],
            "type": "contour"
           }
          ],
          "contourcarpet": [
           {
            "colorbar": {
             "outlinewidth": 0,
             "ticks": ""
            },
            "type": "contourcarpet"
           }
          ],
          "heatmap": [
           {
            "colorbar": {
             "outlinewidth": 0,
             "ticks": ""
            },
            "colorscale": [
             [
              0,
              "#0d0887"
             ],
             [
              0.1111111111111111,
              "#46039f"
             ],
             [
              0.2222222222222222,
              "#7201a8"
             ],
             [
              0.3333333333333333,
              "#9c179e"
             ],
             [
              0.4444444444444444,
              "#bd3786"
             ],
             [
              0.5555555555555556,
              "#d8576b"
             ],
             [
              0.6666666666666666,
              "#ed7953"
             ],
             [
              0.7777777777777778,
              "#fb9f3a"
             ],
             [
              0.8888888888888888,
              "#fdca26"
             ],
             [
              1,
              "#f0f921"
             ]
            ],
            "type": "heatmap"
           }
          ],
          "heatmapgl": [
           {
            "colorbar": {
             "outlinewidth": 0,
             "ticks": ""
            },
            "colorscale": [
             [
              0,
              "#0d0887"
             ],
             [
              0.1111111111111111,
              "#46039f"
             ],
             [
              0.2222222222222222,
              "#7201a8"
             ],
             [
              0.3333333333333333,
              "#9c179e"
             ],
             [
              0.4444444444444444,
              "#bd3786"
             ],
             [
              0.5555555555555556,
              "#d8576b"
             ],
             [
              0.6666666666666666,
              "#ed7953"
             ],
             [
              0.7777777777777778,
              "#fb9f3a"
             ],
             [
              0.8888888888888888,
              "#fdca26"
             ],
             [
              1,
              "#f0f921"
             ]
            ],
            "type": "heatmapgl"
           }
          ],
          "histogram": [
           {
            "marker": {
             "pattern": {
              "fillmode": "overlay",
              "size": 10,
              "solidity": 0.2
             }
            },
            "type": "histogram"
           }
          ],
          "histogram2d": [
           {
            "colorbar": {
             "outlinewidth": 0,
             "ticks": ""
            },
            "colorscale": [
             [
              0,
              "#0d0887"
             ],
             [
              0.1111111111111111,
              "#46039f"
             ],
             [
              0.2222222222222222,
              "#7201a8"
             ],
             [
              0.3333333333333333,
              "#9c179e"
             ],
             [
              0.4444444444444444,
              "#bd3786"
             ],
             [
              0.5555555555555556,
              "#d8576b"
             ],
             [
              0.6666666666666666,
              "#ed7953"
             ],
             [
              0.7777777777777778,
              "#fb9f3a"
             ],
             [
              0.8888888888888888,
              "#fdca26"
             ],
             [
              1,
              "#f0f921"
             ]
            ],
            "type": "histogram2d"
           }
          ],
          "histogram2dcontour": [
           {
            "colorbar": {
             "outlinewidth": 0,
             "ticks": ""
            },
            "colorscale": [
             [
              0,
              "#0d0887"
             ],
             [
              0.1111111111111111,
              "#46039f"
             ],
             [
              0.2222222222222222,
              "#7201a8"
             ],
             [
              0.3333333333333333,
              "#9c179e"
             ],
             [
              0.4444444444444444,
              "#bd3786"
             ],
             [
              0.5555555555555556,
              "#d8576b"
             ],
             [
              0.6666666666666666,
              "#ed7953"
             ],
             [
              0.7777777777777778,
              "#fb9f3a"
             ],
             [
              0.8888888888888888,
              "#fdca26"
             ],
             [
              1,
              "#f0f921"
             ]
            ],
            "type": "histogram2dcontour"
           }
          ],
          "mesh3d": [
           {
            "colorbar": {
             "outlinewidth": 0,
             "ticks": ""
            },
            "type": "mesh3d"
           }
          ],
          "parcoords": [
           {
            "line": {
             "colorbar": {
              "outlinewidth": 0,
              "ticks": ""
             }
            },
            "type": "parcoords"
           }
          ],
          "pie": [
           {
            "automargin": true,
            "type": "pie"
           }
          ],
          "scatter": [
           {
            "fillpattern": {
             "fillmode": "overlay",
             "size": 10,
             "solidity": 0.2
            },
            "type": "scatter"
           }
          ],
          "scatter3d": [
           {
            "line": {
             "colorbar": {
              "outlinewidth": 0,
              "ticks": ""
             }
            },
            "marker": {
             "colorbar": {
              "outlinewidth": 0,
              "ticks": ""
             }
            },
            "type": "scatter3d"
           }
          ],
          "scattercarpet": [
           {
            "marker": {
             "colorbar": {
              "outlinewidth": 0,
              "ticks": ""
             }
            },
            "type": "scattercarpet"
           }
          ],
          "scattergeo": [
           {
            "marker": {
             "colorbar": {
              "outlinewidth": 0,
              "ticks": ""
             }
            },
            "type": "scattergeo"
           }
          ],
          "scattergl": [
           {
            "marker": {
             "colorbar": {
              "outlinewidth": 0,
              "ticks": ""
             }
            },
            "type": "scattergl"
           }
          ],
          "scattermapbox": [
           {
            "marker": {
             "colorbar": {
              "outlinewidth": 0,
              "ticks": ""
             }
            },
            "type": "scattermapbox"
           }
          ],
          "scatterpolar": [
           {
            "marker": {
             "colorbar": {
              "outlinewidth": 0,
              "ticks": ""
             }
            },
            "type": "scatterpolar"
           }
          ],
          "scatterpolargl": [
           {
            "marker": {
             "colorbar": {
              "outlinewidth": 0,
              "ticks": ""
             }
            },
            "type": "scatterpolargl"
           }
          ],
          "scatterternary": [
           {
            "marker": {
             "colorbar": {
              "outlinewidth": 0,
              "ticks": ""
             }
            },
            "type": "scatterternary"
           }
          ],
          "surface": [
           {
            "colorbar": {
             "outlinewidth": 0,
             "ticks": ""
            },
            "colorscale": [
             [
              0,
              "#0d0887"
             ],
             [
              0.1111111111111111,
              "#46039f"
             ],
             [
              0.2222222222222222,
              "#7201a8"
             ],
             [
              0.3333333333333333,
              "#9c179e"
             ],
             [
              0.4444444444444444,
              "#bd3786"
             ],
             [
              0.5555555555555556,
              "#d8576b"
             ],
             [
              0.6666666666666666,
              "#ed7953"
             ],
             [
              0.7777777777777778,
              "#fb9f3a"
             ],
             [
              0.8888888888888888,
              "#fdca26"
             ],
             [
              1,
              "#f0f921"
             ]
            ],
            "type": "surface"
           }
          ],
          "table": [
           {
            "cells": {
             "fill": {
              "color": "#EBF0F8"
             },
             "line": {
              "color": "white"
             }
            },
            "header": {
             "fill": {
              "color": "#C8D4E3"
             },
             "line": {
              "color": "white"
             }
            },
            "type": "table"
           }
          ]
         },
         "layout": {
          "annotationdefaults": {
           "arrowcolor": "#2a3f5f",
           "arrowhead": 0,
           "arrowwidth": 1
          },
          "autotypenumbers": "strict",
          "coloraxis": {
           "colorbar": {
            "outlinewidth": 0,
            "ticks": ""
           }
          },
          "colorscale": {
           "diverging": [
            [
             0,
             "#8e0152"
            ],
            [
             0.1,
             "#c51b7d"
            ],
            [
             0.2,
             "#de77ae"
            ],
            [
             0.3,
             "#f1b6da"
            ],
            [
             0.4,
             "#fde0ef"
            ],
            [
             0.5,
             "#f7f7f7"
            ],
            [
             0.6,
             "#e6f5d0"
            ],
            [
             0.7,
             "#b8e186"
            ],
            [
             0.8,
             "#7fbc41"
            ],
            [
             0.9,
             "#4d9221"
            ],
            [
             1,
             "#276419"
            ]
           ],
           "sequential": [
            [
             0,
             "#0d0887"
            ],
            [
             0.1111111111111111,
             "#46039f"
            ],
            [
             0.2222222222222222,
             "#7201a8"
            ],
            [
             0.3333333333333333,
             "#9c179e"
            ],
            [
             0.4444444444444444,
             "#bd3786"
            ],
            [
             0.5555555555555556,
             "#d8576b"
            ],
            [
             0.6666666666666666,
             "#ed7953"
            ],
            [
             0.7777777777777778,
             "#fb9f3a"
            ],
            [
             0.8888888888888888,
             "#fdca26"
            ],
            [
             1,
             "#f0f921"
            ]
           ],
           "sequentialminus": [
            [
             0,
             "#0d0887"
            ],
            [
             0.1111111111111111,
             "#46039f"
            ],
            [
             0.2222222222222222,
             "#7201a8"
            ],
            [
             0.3333333333333333,
             "#9c179e"
            ],
            [
             0.4444444444444444,
             "#bd3786"
            ],
            [
             0.5555555555555556,
             "#d8576b"
            ],
            [
             0.6666666666666666,
             "#ed7953"
            ],
            [
             0.7777777777777778,
             "#fb9f3a"
            ],
            [
             0.8888888888888888,
             "#fdca26"
            ],
            [
             1,
             "#f0f921"
            ]
           ]
          },
          "colorway": [
           "#636efa",
           "#EF553B",
           "#00cc96",
           "#ab63fa",
           "#FFA15A",
           "#19d3f3",
           "#FF6692",
           "#B6E880",
           "#FF97FF",
           "#FECB52"
          ],
          "font": {
           "color": "#2a3f5f"
          },
          "geo": {
           "bgcolor": "white",
           "lakecolor": "white",
           "landcolor": "#E5ECF6",
           "showlakes": true,
           "showland": true,
           "subunitcolor": "white"
          },
          "hoverlabel": {
           "align": "left"
          },
          "hovermode": "closest",
          "mapbox": {
           "style": "light"
          },
          "paper_bgcolor": "white",
          "plot_bgcolor": "#E5ECF6",
          "polar": {
           "angularaxis": {
            "gridcolor": "white",
            "linecolor": "white",
            "ticks": ""
           },
           "bgcolor": "#E5ECF6",
           "radialaxis": {
            "gridcolor": "white",
            "linecolor": "white",
            "ticks": ""
           }
          },
          "scene": {
           "xaxis": {
            "backgroundcolor": "#E5ECF6",
            "gridcolor": "white",
            "gridwidth": 2,
            "linecolor": "white",
            "showbackground": true,
            "ticks": "",
            "zerolinecolor": "white"
           },
           "yaxis": {
            "backgroundcolor": "#E5ECF6",
            "gridcolor": "white",
            "gridwidth": 2,
            "linecolor": "white",
            "showbackground": true,
            "ticks": "",
            "zerolinecolor": "white"
           },
           "zaxis": {
            "backgroundcolor": "#E5ECF6",
            "gridcolor": "white",
            "gridwidth": 2,
            "linecolor": "white",
            "showbackground": true,
            "ticks": "",
            "zerolinecolor": "white"
           }
          },
          "shapedefaults": {
           "line": {
            "color": "#2a3f5f"
           }
          },
          "ternary": {
           "aaxis": {
            "gridcolor": "white",
            "linecolor": "white",
            "ticks": ""
           },
           "baxis": {
            "gridcolor": "white",
            "linecolor": "white",
            "ticks": ""
           },
           "bgcolor": "#E5ECF6",
           "caxis": {
            "gridcolor": "white",
            "linecolor": "white",
            "ticks": ""
           }
          },
          "title": {
           "x": 0.05
          },
          "xaxis": {
           "automargin": true,
           "gridcolor": "white",
           "linecolor": "white",
           "ticks": "",
           "title": {
            "standoff": 15
           },
           "zerolinecolor": "white",
           "zerolinewidth": 2
          },
          "yaxis": {
           "automargin": true,
           "gridcolor": "white",
           "linecolor": "white",
           "ticks": "",
           "title": {
            "standoff": 15
           },
           "zerolinecolor": "white",
           "zerolinewidth": 2
          }
         }
        },
        "title": {
         "text": "Figuur 5: Stressniveau per Stad in verhouding tot Groen Percentage"
        },
        "xaxis": {
         "anchor": "y",
         "domain": [
          0,
          1
         ],
         "title": {
          "text": "Stad"
         }
        },
        "yaxis": {
         "anchor": "x",
         "domain": [
          0,
          1
         ],
         "title": {
          "text": "aantal vierkante meter"
         }
        }
       }
      }
     },
     "metadata": {},
     "output_type": "display_data"
    }
   ],
   "source": [
    "fig5 = px.bar(merged_df, x='Country', y='Gemiddelde aandeel van groen in oppervlakte van stad', \n",
    "              color='Percentage mensen die Ja hebben geantwoord', barmode='group',\n",
    "              title='Figuur 5: Stressniveau per Stad in verhouding tot Groen Percentage')\n",
    "fig5.update_layout(yaxis={'title':'aantal vierkante meter'}, xaxis={'title':'Stad'})\n",
    "\n",
    "fig5.add_annotation(\n",
    "    xref='paper', yref='paper',\n",
    "    x=0.7, y=-1.5,  # Adjust y to position the annotation at the bottom\n",
    "    showarrow=False,\n",
    "    xanchor='center',\n",
    "    yanchor='top',\n",
    "    align='center',\n",
    "    text='Deze staafdiagram laat per land de percentage mensen zien die Ja hebben geantwoord op de enquêtevraag, <br>' +\n",
    "         'ten opzichte van de gemiddelde aandeel groen van de oppervlakte van een stad. <br>' +\n",
    "         'Als je met de muis over een land heen beweegt, dan zie je de precieze percentages. <br>' +\n",
    "         'In de plot is te zien dat de staven die minder lang zijn een meer gele kleur hebben. <br> ' +\n",
    "         'Dit betekent dat de bevolking van landen met minder groen meer stress ervaart',\n",
    "    font=dict(size=13),  # Adjust font size if necessary\n",
    ")\n",
    "\n",
    "fig5.show()"
   ]
  },
  {
   "cell_type": "markdown",
   "metadata": {},
   "source": [
    "Figuur 6 laat de distributie van het gemiddelde aandeel van groen gebied in oppervlakte van een stad zien\n",
    "\n",
    "Figuur 7 Laat de distributie van waardes van Ja-antwoorden zien."
   ]
  },
  {
   "cell_type": "code",
   "execution_count": 12,
   "metadata": {},
   "outputs": [
    {
     "data": {
      "application/vnd.plotly.v1+json": {
       "config": {
        "plotlyServerURL": "https://plot.ly"
       },
       "data": [
        {
         "alignmentgroup": "True",
         "hovertemplate": "Green Area (%)=%{y}<extra></extra>",
         "legendgroup": "",
         "marker": {
          "color": "#636efa"
         },
         "name": "",
         "notched": false,
         "offsetgroup": "",
         "orientation": "v",
         "showlegend": false,
         "type": "box",
         "x0": " ",
         "xaxis": "x",
         "y": [
          0.561,
          0.531,
          0.584,
          0.493,
          0.625,
          0.562,
          0.49200000000000005,
          0.253,
          0.46,
          0.08900000000000001,
          0.669,
          0.16,
          0.585,
          0.371,
          0.391,
          0.175,
          0.48200000000000004,
          0.561,
          0.226,
          0.324,
          0.247,
          0.353,
          0.628,
          0.526,
          0.256,
          0.276,
          0.395,
          0.408,
          0.494,
          0.321,
          0.305,
          0.392,
          0.321,
          0.557,
          0.522,
          0.541,
          0.324,
          0.42700000000000005,
          0.515,
          0.27399999999999997,
          0.449,
          0.22899999999999998,
          0.401,
          0.37200000000000005,
          0.425,
          0.17300000000000001,
          0.318,
          0.42100000000000004,
          0.35700000000000004,
          0.519,
          0.447,
          0.439,
          0.243,
          0.14800000000000002,
          0.629,
          0.418,
          0.64,
          0.47600000000000003,
          0.503,
          0.611,
          0.474,
          0.466,
          0.485,
          0.529,
          0.42200000000000004,
          0.293,
          0.461,
          0.434,
          0.34700000000000003,
          0.45799999999999996,
          0.486,
          0.494,
          0.22399999999999998,
          0.48700000000000004,
          0.14300000000000002,
          0.495,
          0.47600000000000003,
          0.381,
          0.435,
          0.387,
          0.564,
          0.273,
          0.551,
          0.358,
          0.602,
          0.33899999999999997,
          0.545,
          0.462,
          0.639,
          0.633,
          0.13,
          0.341,
          0.14300000000000002,
          0.5670000000000001,
          0.575,
          0.43700000000000006,
          0.584,
          0.414,
          0.494,
          0.419,
          0.161,
          0.5539999999999999,
          0.203,
          0.52,
          0.287,
          0.31,
          0.539,
          0.6629999999999999,
          0.48700000000000004,
          0.586,
          0.4,
          0.439,
          0.27,
          0.37,
          0.551,
          0.226,
          0.478,
          0.209,
          0.433,
          0.40399999999999997,
          0.5770000000000001,
          0.275,
          0.551,
          0.5489999999999999,
          0.43799999999999994,
          0.157,
          0.39399999999999996,
          0.44799999999999995,
          0.541,
          0.187,
          0.264,
          0.552,
          0.531,
          0.451,
          0.525,
          0.504,
          0.529,
          0.34,
          0.198,
          0.41200000000000003,
          0.331,
          0.655,
          0.462,
          0.391,
          0.426,
          0.539,
          0.48700000000000004,
          0.54,
          0.489,
          0.423,
          0.515,
          0.52,
          0.627,
          0.479,
          0.325,
          0.456,
          0.331,
          0.371,
          0.6559999999999999,
          0.517,
          0.409,
          0.6459999999999999,
          0.251,
          0.45899999999999996,
          0.419,
          0.473,
          0.529,
          0.254,
          0.309,
          0.485,
          0.159,
          0.384,
          0.34700000000000003,
          0.161,
          0.522,
          0.44299999999999995,
          0.428,
          0.46399999999999997,
          0.44299999999999995,
          0.461,
          0.47600000000000003,
          0.613,
          0.527,
          0.139,
          0.41700000000000004,
          0.294,
          0.11599999999999999,
          0.562,
          0.624,
          0.47700000000000004,
          0.456,
          0.33299999999999996,
          0.5329999999999999,
          0.368,
          0.40399999999999997,
          0.703,
          0.486,
          0.38,
          0.47700000000000004,
          0.243,
          0.42,
          0.162,
          0.158,
          0.373,
          0.516,
          0.306,
          0.586,
          0.332,
          0.462,
          0.377,
          0.519,
          0.308,
          0.196,
          0.54,
          0.575,
          0.353,
          0.33799999999999997,
          0.308,
          0.461,
          0.309,
          0.546,
          0.17800000000000002,
          0.161,
          0.5329999999999999,
          0.18600000000000003,
          0.187,
          0.564,
          0.489,
          0.47600000000000003,
          0.557,
          0.535,
          0.32899999999999996,
          0.491,
          0.309,
          0.13699999999999998,
          0.44799999999999995,
          0.41700000000000004,
          0.41,
          0.424,
          0.341,
          0.322,
          0.521,
          0.5429999999999999,
          0.624,
          0.555,
          0.034,
          0.5720000000000001,
          0.124,
          0.514,
          0.265,
          0.5529999999999999,
          0.395,
          0.47,
          0.504,
          0.594,
          0.5,
          0.573,
          0.623,
          0.198,
          0.48200000000000004,
          0.535,
          0.455,
          0.272,
          0.505,
          0.32799999999999996,
          0.46799999999999997,
          0.647,
          0.531,
          0.529,
          0.336,
          0.474,
          0.609,
          0.23600000000000002,
          0.5660000000000001,
          0.45399999999999996,
          0.662,
          0.5329999999999999,
          0.415,
          0.475,
          0.49700000000000005,
          0.255,
          0.36700000000000005,
          0.46299999999999997,
          0.379,
          0.444,
          0.215,
          0.337,
          0.516,
          0.41100000000000003,
          0.544,
          0.174,
          0.353,
          0.19699999999999998,
          0.266,
          0.27399999999999997,
          0.272,
          0.466,
          0.376,
          0.392,
          0.374,
          0.284,
          0.282,
          0.115,
          0.43,
          0.465,
          0.315,
          0.373,
          0.578,
          0.541,
          0.209,
          0.321,
          0.413,
          0.517,
          0.488,
          0.59,
          0.253,
          0.544,
          0.46799999999999997,
          0.535,
          0.436,
          0.19899999999999998,
          0.408,
          0.507,
          0.53,
          0.551,
          0.441,
          0.447,
          0.466,
          0.345,
          0.113,
          0.518,
          0.326,
          0.225,
          0.474,
          0.574,
          0.027000000000000003,
          0.573,
          0.215,
          0.449,
          0.509,
          0.523,
          0.419,
          0.638,
          0.52,
          0.133,
          0.565,
          0.145,
          0.475,
          0.568,
          0.5429999999999999,
          0.585,
          0.24,
          0.2,
          0.521,
          0.45,
          0.41100000000000003,
          0.574,
          0.511,
          0.384,
          0.517,
          0.532,
          0.623,
          0.337,
          0.363,
          0.377,
          0.359,
          0.36700000000000005,
          0.6890000000000001,
          0.177,
          0.594,
          0.198,
          0.192,
          0.36,
          0.359,
          0.23800000000000002,
          0.325,
          0.301,
          0.386,
          0.34299999999999997,
          0.32,
          0.196,
          0.622,
          0.501,
          0.5329999999999999,
          0.389,
          0.49700000000000005,
          0.38799999999999996,
          0.465,
          0.456,
          0.322,
          0.602,
          0.429,
          0.418,
          0.488,
          0.319,
          0.5,
          0.595,
          0.17800000000000002,
          0.484,
          0.71,
          0.349,
          0.263,
          0.61,
          0.19899999999999998,
          0.299,
          0.606,
          0.009000000000000001,
          0.5920000000000001,
          0.332,
          0.335,
          0.244,
          0.595,
          0.395,
          0.44799999999999995,
          0.379,
          0.33299999999999996,
          0.129,
          0.662,
          0.261,
          0.1,
          0.26899999999999996,
          0.272,
          0.365,
          0.48200000000000004,
          0.397,
          0.436,
          0.287,
          0.2,
          0.28,
          0.341,
          0.409,
          0.461,
          0.501,
          0.581,
          0.37,
          0.479,
          0.524,
          0.499,
          0.555,
          0.415,
          0.369,
          0.626,
          0.483,
          0.251,
          0.254,
          0.521,
          0.637,
          0.424,
          0.535,
          0.49700000000000005,
          0.5710000000000001,
          0.179,
          0.49700000000000005,
          0.529,
          0.331,
          0.519,
          0.377,
          0.41700000000000004,
          0.493,
          0.222,
          0.426,
          0.479,
          0.5489999999999999,
          0.628,
          0.43799999999999994,
          0.642,
          0.168,
          0.491,
          0.525,
          0.465,
          0.605,
          0.22,
          0.23199999999999998,
          0.5720000000000001,
          0.145,
          0.6659999999999999,
          0.546,
          0.319,
          0.314,
          0.20199999999999999,
          0.376,
          0.457,
          0.5820000000000001,
          0.5429999999999999,
          0.252,
          0.43200000000000005,
          0.59,
          0.40299999999999997,
          0.397,
          0.23399999999999999,
          0.355,
          0.499,
          0.193,
          0.47,
          0.353,
          0.266,
          0.6920000000000001,
          0.565,
          0.19899999999999998,
          0.534,
          0.263,
          0.171,
          0.44,
          0.493,
          0.425,
          0.488,
          0.563,
          0.5710000000000001,
          0.442,
          0.532,
          0.462,
          0.429,
          0.384,
          0.563,
          0.303,
          0.46799999999999997,
          0.395,
          0.44,
          0.366,
          0.639,
          0.244,
          0.53,
          0.40399999999999997,
          0.544,
          0.513,
          0.341,
          0.426,
          0.415,
          0.579,
          0.22899999999999998,
          0.632,
          0.391,
          0.368,
          0.541,
          0.38799999999999996,
          0.547,
          0.40399999999999997,
          0.35100000000000003,
          0.324,
          0.35600000000000004,
          0.679,
          0.24100000000000002,
          0.146,
          0.556,
          0.295,
          0.183,
          0.603,
          0.401,
          0.156,
          0.152,
          0.46399999999999997,
          0.496,
          0.491,
          0.48700000000000004,
          0.49700000000000005,
          0.18100000000000002,
          0.546,
          0.488,
          0.46,
          0.511,
          0.122,
          0.28800000000000003,
          0.23600000000000002,
          0.184,
          0.374,
          0.591,
          0.314,
          0.34299999999999997,
          0.575,
          0.361,
          0.13699999999999998,
          0.539,
          0.524,
          0.48,
          0.327,
          0.426,
          0.557,
          0.39399999999999996,
          0.259,
          0.124,
          0.24,
          0.327,
          0.31,
          0.5429999999999999,
          0.611,
          0.586,
          0.586,
          0.609,
          0.337,
          0.46399999999999997,
          0.281,
          0.45899999999999996,
          0.24100000000000002,
          0.5529999999999999,
          0.568,
          0.158,
          0.312,
          0.583,
          0.162,
          0.42100000000000004,
          0.5479999999999999,
          0.583,
          0.228,
          0.565,
          0.424,
          0.624,
          0.551,
          0.287,
          0.503,
          0.465,
          0.41200000000000003,
          0.375,
          0.495,
          0.16399999999999998,
          0.542,
          0.499,
          0.28800000000000003,
          0.537,
          0.515,
          0.363,
          0.426,
          0.479,
          0.278,
          0.433,
          0.135,
          0.264,
          0.595,
          0.40399999999999997,
          0.3,
          0.5,
          0.08800000000000001,
          0.12300000000000001,
          0.29100000000000004,
          0.46399999999999997,
          0.256,
          0.46799999999999997,
          0.429,
          0.297,
          0.586,
          0.312,
          0.489,
          0.376,
          0.41,
          0.42700000000000005,
          0.604,
          0.4,
          0.31,
          0.336,
          0.402,
          0.53,
          0.505,
          0.589,
          0.382,
          0.161,
          0.491,
          0.509,
          0.456,
          0.182,
          0.63,
          0.374,
          0.182,
          0.5489999999999999,
          0.17,
          0.45399999999999996,
          0.473,
          0.327,
          0.35600000000000004,
          0.59,
          0.539,
          0.256,
          0.188,
          0.606,
          0.516,
          0.36200000000000004,
          0.44,
          0.428,
          0.245,
          0.5,
          0.48,
          0.284,
          0.387,
          0.275,
          0.42700000000000005,
          0.446,
          0.342,
          0.627,
          0.42200000000000004,
          0.09699999999999999,
          0.503,
          0.4,
          0.22899999999999998,
          0.575,
          0.5539999999999999,
          0.449,
          0.631,
          0.46299999999999997,
          0.503,
          0.657,
          0.606,
          0.424,
          0.391,
          0.261,
          0.38,
          0.591,
          0.345,
          0.518,
          0.431,
          0.33799999999999997,
          0.585,
          0.34,
          0.373,
          0.39,
          0.434,
          0.5539999999999999,
          0.306,
          0.406,
          0.575,
          0.226,
          0.5529999999999999,
          0.385,
          0.449,
          0.29,
          0.512,
          0.242,
          0.406,
          0.299,
          0.467,
          0.488,
          0.018000000000000002,
          0.267,
          0.069,
          0.639,
          0.254,
          0.523,
          0.49,
          0.336,
          0.569,
          0.35600000000000004,
          0.6779999999999999,
          0.391,
          0.353,
          0.243,
          0.643,
          0.33,
          0.373,
          0.419,
          0.65,
          0.354,
          0.342,
          0.34,
          0.389,
          0.355,
          0.126,
          0.389,
          0.24600000000000002,
          0.428,
          0.396,
          0.198,
          0.225,
          0.409,
          0.212,
          0.452,
          0.541,
          0.457,
          0.41100000000000003,
          0.46799999999999997,
          0.195,
          0.397,
          0.318,
          0.486,
          0.375,
          0.311,
          0.415,
          0.292,
          0.44,
          0.525,
          0.45899999999999996,
          0.377,
          0.305,
          0.45399999999999996,
          0.221,
          0.085,
          0.41100000000000003,
          0.584,
          0.527,
          0.371,
          0.495,
          0.37799999999999995,
          0.513,
          0.618,
          0.336,
          0.5870000000000001,
          0.58,
          0.5539999999999999,
          0.381,
          0.45299999999999996,
          0.205,
          0.43700000000000006,
          0.426,
          0.251,
          0.28800000000000003,
          0.134,
          0.319,
          0.56,
          0.6,
          0.391,
          0.235,
          0.42700000000000005,
          0.541,
          0.428,
          0.462,
          0.39399999999999996,
          0.17,
          0.325,
          0.49,
          0.364,
          0.248,
          0.597,
          0.455,
          0.309,
          0.6459999999999999,
          0.325,
          0.401,
          0.32899999999999996,
          0.545,
          0.248,
          0.515,
          0.493,
          0.504,
          0.348,
          0.532,
          0.266,
          0.424,
          0.40700000000000003,
          0.354,
          0.43,
          0.39799999999999996,
          0.41700000000000004,
          0.42,
          0.23800000000000002,
          0.166,
          0.58,
          0.462,
          0.371,
          0.433,
          0.517,
          0.17300000000000001,
          0.26,
          0.5,
          0.349,
          0.332,
          0.503,
          0.023,
          0.27699999999999997,
          0.24100000000000002,
          0.35200000000000004,
          0.187,
          0.31,
          0.426,
          0.406,
          0.528,
          0.509,
          0.371,
          0.37200000000000005,
          0.196,
          0.515,
          0.42200000000000004,
          0.373,
          0.526,
          0.561,
          0.242,
          0.45,
          0.446,
          0.327,
          0.512,
          0.478,
          0.39299999999999996,
          0.359,
          0.4,
          0.473,
          0.593,
          0.469,
          0.354,
          0.511,
          0.523,
          0.446,
          0.292,
          0.537,
          0.415,
          0.255,
          0.5,
          0.48,
          0.46399999999999997,
          0.204,
          0.43700000000000006,
          0.605,
          0.5670000000000001,
          0.48700000000000004,
          0.38,
          0.315,
          0.32799999999999996,
          0.21899999999999997,
          0.413,
          0.425,
          0.603,
          0.405,
          0.493,
          0.391,
          0.41,
          0.46799999999999997,
          0.555,
          0.373,
          0.141,
          0.41700000000000004,
          0.46,
          0.267,
          0.322,
          0.322,
          0.436,
          0.62,
          0.531,
          0.425,
          0.66,
          0.40399999999999997,
          0.095,
          0.42200000000000004,
          0.5920000000000001,
          0.17,
          0.242,
          0.163,
          0.45399999999999996,
          0.513,
          0.575,
          0.624,
          0.287,
          0.344,
          0.643,
          0.584,
          0.623,
          0.522,
          0.315,
          0.5379999999999999,
          0.38799999999999996,
          0.529,
          0.436,
          0.473,
          0.20800000000000002,
          0.565,
          0.42,
          0.433,
          0.254,
          0.594,
          0.44,
          0.636,
          0.122,
          0.267,
          0.22899999999999998,
          0.41100000000000003,
          0.655,
          0.289,
          0.473,
          0.29100000000000004,
          0.535,
          0.155,
          0.483,
          0.358,
          0.491,
          0.22899999999999998,
          0.40700000000000003,
          0.5429999999999999,
          0.618,
          0.271,
          0.501,
          0.512,
          0.5329999999999999,
          0.27,
          0.461,
          0.226,
          0.557,
          0.632,
          0.49200000000000005,
          0.64,
          0.157,
          0.35600000000000004,
          0.565,
          0.361,
          0.525,
          0.316,
          0.423,
          0.562,
          0.175,
          0.22399999999999998,
          0.43799999999999994,
          0.43799999999999994,
          0.23600000000000002,
          0.32899999999999996,
          0.401,
          0.521,
          0.254,
          0.529,
          0.36,
          0.429,
          0.376,
          0.491,
          0.47600000000000003,
          0.484,
          0.616,
          0.489,
          0.5,
          0.562,
          0.556,
          0.301,
          0.467,
          0.42200000000000004,
          0.607,
          0.25,
          0.449,
          0.354,
          0.337,
          0.508,
          0.305,
          0.41600000000000004,
          0.654,
          0.638,
          0.555,
          0.667,
          0.667,
          0.703,
          0.551,
          0.332,
          0.39,
          0.23199999999999998,
          0.626,
          0.502,
          0.569,
          0.239,
          0.302,
          0.336,
          0.426,
          0.488,
          0.076,
          0.39399999999999996,
          0.282,
          0.305,
          0.483,
          0.374,
          0.341,
          0.386,
          0.523,
          0.461,
          0.242,
          0.478,
          0.53,
          0.354,
          0.507,
          0.424,
          0.462,
          0.19699999999999998,
          0.42100000000000004,
          0.261,
          0.484,
          0.405,
          0.37200000000000005,
          0.601,
          0.341,
          0.34,
          0.344,
          0.24100000000000002,
          0.27699999999999997,
          0.395,
          0.455,
          0.253,
          0.479,
          0.513,
          0.602,
          0.301,
          0.47100000000000003,
          0.415,
          0.45299999999999996,
          0.632,
          0.479,
          0.402,
          0.526,
          0.349,
          0.077,
          0.39299999999999996,
          0.32,
          0.289,
          0.473,
          0.5489999999999999,
          0.44299999999999995,
          0.28800000000000003,
          0.266,
          0.192,
          0.39399999999999996,
          0.44799999999999995,
          0.29600000000000004,
          0.18,
          0.28,
          0.5820000000000001,
          0.445,
          0.545,
          0.535,
          0.41200000000000003,
          0.515,
          0.318,
          0.525,
          0.20800000000000002,
          0.488,
          0.401,
          0.495,
          0.21600000000000003,
          0.408,
          0.218,
          0.382,
          0.33399999999999996,
          0.46299999999999997,
          0.488,
          0.47100000000000003,
          0.48200000000000004,
          0.517,
          0.18,
          0.244,
          0.509,
          0.462,
          0.41200000000000003,
          0.41700000000000004,
          0.48100000000000004,
          0.35700000000000004
         ],
         "y0": " ",
         "yaxis": "y"
        },
        {
         "alignmentgroup": "True",
         "hovertemplate": "Percentage mensen die Ja hebben geantwoord=%{y}<extra></extra>",
         "legendgroup": "",
         "marker": {
          "color": "#636efa"
         },
         "name": "",
         "notched": false,
         "offsetgroup": "",
         "orientation": "v",
         "showlegend": false,
         "type": "box",
         "x0": " ",
         "xaxis": "x2",
         "y": [
          0.68,
          0.47,
          0.25,
          0.4,
          0.33,
          0.42,
          0.32,
          0.4,
          0.39,
          0.39,
          0.36,
          0.34,
          0.37,
          0.41,
          0.23,
          0.42,
          0.42,
          0.51,
          0.5,
          0.37,
          0.47,
          0.47,
          0.36,
          0.55,
          0.25,
          0.55,
          0.45,
          0.49,
          0.23,
          0.47,
          0.33,
          0.41,
          0.34,
          0.33,
          0.19,
          0.35,
          0.49,
          0.54,
          0.39,
          0.42,
          0.43,
          0.33,
          0.37,
          0.29,
          0.14,
          0.53,
          0.35,
          0.24,
          0.45,
          0.31,
          0.38,
          0.5,
          0.13,
          0.33,
          0.21,
          0.11,
          0.17,
          0.65,
          0.35,
          0.58,
          0.48,
          0.19,
          0.42,
          0.49,
          0.31,
          0.19,
          0.32,
          0.52,
          0.35,
          0.26,
          0.39,
          0.14,
          0.27,
          0.44,
          0.26,
          0.45,
          0.35,
          0.33,
          0.37,
          0.46,
          0.49,
          0.36,
          0.28,
          0.37,
          0.34,
          0.53,
          0.19,
          0.42,
          0.42,
          0.35,
          0.25,
          0.49,
          0.32,
          0.61,
          0.4,
          0.38,
          0.34,
          0.33,
          0.31,
          0.56,
          0.32,
          0.26,
          0.24,
          0.26,
          0.39,
          0.41,
          0.56,
          0.31,
          0.41,
          0.13,
          0.28,
          0.37,
          0.28
         ],
         "y0": " ",
         "yaxis": "y2"
        }
       ],
       "layout": {
        "annotations": [
         {
          "font": {
           "size": 14
          },
          "showarrow": false,
          "text": "Figuur 6: Distributie van Gemiddelde aandeel van groen in oppervlakte van stad",
          "x": 0.22,
          "xanchor": "center",
          "xref": "paper",
          "y": 1.15,
          "yanchor": "bottom",
          "yref": "paper"
         },
         {
          "font": {
           "size": 14
          },
          "showarrow": false,
          "text": "Figuur 7: Distributie van waardes van Ja-antwoorden",
          "x": 0.78,
          "xanchor": "center",
          "xref": "paper",
          "y": 1.15,
          "yanchor": "bottom",
          "yref": "paper"
         },
         {
          "align": "center",
          "font": {
           "size": 13
          },
          "showarrow": false,
          "text": "Figuur 6 laat de distributie van het gemiddelde aandeel van groen gebied in oppervlakte van een stad zien. <br>Figuur 7 Laat de distributie van waardes van Ja-antwoorden zien",
          "x": 0.5,
          "xanchor": "center",
          "xref": "paper",
          "y": -0.5,
          "yanchor": "top",
          "yref": "paper"
         }
        ],
        "height": 600,
        "template": {
         "data": {
          "bar": [
           {
            "error_x": {
             "color": "#2a3f5f"
            },
            "error_y": {
             "color": "#2a3f5f"
            },
            "marker": {
             "line": {
              "color": "#E5ECF6",
              "width": 0.5
             },
             "pattern": {
              "fillmode": "overlay",
              "size": 10,
              "solidity": 0.2
             }
            },
            "type": "bar"
           }
          ],
          "barpolar": [
           {
            "marker": {
             "line": {
              "color": "#E5ECF6",
              "width": 0.5
             },
             "pattern": {
              "fillmode": "overlay",
              "size": 10,
              "solidity": 0.2
             }
            },
            "type": "barpolar"
           }
          ],
          "carpet": [
           {
            "aaxis": {
             "endlinecolor": "#2a3f5f",
             "gridcolor": "white",
             "linecolor": "white",
             "minorgridcolor": "white",
             "startlinecolor": "#2a3f5f"
            },
            "baxis": {
             "endlinecolor": "#2a3f5f",
             "gridcolor": "white",
             "linecolor": "white",
             "minorgridcolor": "white",
             "startlinecolor": "#2a3f5f"
            },
            "type": "carpet"
           }
          ],
          "choropleth": [
           {
            "colorbar": {
             "outlinewidth": 0,
             "ticks": ""
            },
            "type": "choropleth"
           }
          ],
          "contour": [
           {
            "colorbar": {
             "outlinewidth": 0,
             "ticks": ""
            },
            "colorscale": [
             [
              0,
              "#0d0887"
             ],
             [
              0.1111111111111111,
              "#46039f"
             ],
             [
              0.2222222222222222,
              "#7201a8"
             ],
             [
              0.3333333333333333,
              "#9c179e"
             ],
             [
              0.4444444444444444,
              "#bd3786"
             ],
             [
              0.5555555555555556,
              "#d8576b"
             ],
             [
              0.6666666666666666,
              "#ed7953"
             ],
             [
              0.7777777777777778,
              "#fb9f3a"
             ],
             [
              0.8888888888888888,
              "#fdca26"
             ],
             [
              1,
              "#f0f921"
             ]
            ],
            "type": "contour"
           }
          ],
          "contourcarpet": [
           {
            "colorbar": {
             "outlinewidth": 0,
             "ticks": ""
            },
            "type": "contourcarpet"
           }
          ],
          "heatmap": [
           {
            "colorbar": {
             "outlinewidth": 0,
             "ticks": ""
            },
            "colorscale": [
             [
              0,
              "#0d0887"
             ],
             [
              0.1111111111111111,
              "#46039f"
             ],
             [
              0.2222222222222222,
              "#7201a8"
             ],
             [
              0.3333333333333333,
              "#9c179e"
             ],
             [
              0.4444444444444444,
              "#bd3786"
             ],
             [
              0.5555555555555556,
              "#d8576b"
             ],
             [
              0.6666666666666666,
              "#ed7953"
             ],
             [
              0.7777777777777778,
              "#fb9f3a"
             ],
             [
              0.8888888888888888,
              "#fdca26"
             ],
             [
              1,
              "#f0f921"
             ]
            ],
            "type": "heatmap"
           }
          ],
          "heatmapgl": [
           {
            "colorbar": {
             "outlinewidth": 0,
             "ticks": ""
            },
            "colorscale": [
             [
              0,
              "#0d0887"
             ],
             [
              0.1111111111111111,
              "#46039f"
             ],
             [
              0.2222222222222222,
              "#7201a8"
             ],
             [
              0.3333333333333333,
              "#9c179e"
             ],
             [
              0.4444444444444444,
              "#bd3786"
             ],
             [
              0.5555555555555556,
              "#d8576b"
             ],
             [
              0.6666666666666666,
              "#ed7953"
             ],
             [
              0.7777777777777778,
              "#fb9f3a"
             ],
             [
              0.8888888888888888,
              "#fdca26"
             ],
             [
              1,
              "#f0f921"
             ]
            ],
            "type": "heatmapgl"
           }
          ],
          "histogram": [
           {
            "marker": {
             "pattern": {
              "fillmode": "overlay",
              "size": 10,
              "solidity": 0.2
             }
            },
            "type": "histogram"
           }
          ],
          "histogram2d": [
           {
            "colorbar": {
             "outlinewidth": 0,
             "ticks": ""
            },
            "colorscale": [
             [
              0,
              "#0d0887"
             ],
             [
              0.1111111111111111,
              "#46039f"
             ],
             [
              0.2222222222222222,
              "#7201a8"
             ],
             [
              0.3333333333333333,
              "#9c179e"
             ],
             [
              0.4444444444444444,
              "#bd3786"
             ],
             [
              0.5555555555555556,
              "#d8576b"
             ],
             [
              0.6666666666666666,
              "#ed7953"
             ],
             [
              0.7777777777777778,
              "#fb9f3a"
             ],
             [
              0.8888888888888888,
              "#fdca26"
             ],
             [
              1,
              "#f0f921"
             ]
            ],
            "type": "histogram2d"
           }
          ],
          "histogram2dcontour": [
           {
            "colorbar": {
             "outlinewidth": 0,
             "ticks": ""
            },
            "colorscale": [
             [
              0,
              "#0d0887"
             ],
             [
              0.1111111111111111,
              "#46039f"
             ],
             [
              0.2222222222222222,
              "#7201a8"
             ],
             [
              0.3333333333333333,
              "#9c179e"
             ],
             [
              0.4444444444444444,
              "#bd3786"
             ],
             [
              0.5555555555555556,
              "#d8576b"
             ],
             [
              0.6666666666666666,
              "#ed7953"
             ],
             [
              0.7777777777777778,
              "#fb9f3a"
             ],
             [
              0.8888888888888888,
              "#fdca26"
             ],
             [
              1,
              "#f0f921"
             ]
            ],
            "type": "histogram2dcontour"
           }
          ],
          "mesh3d": [
           {
            "colorbar": {
             "outlinewidth": 0,
             "ticks": ""
            },
            "type": "mesh3d"
           }
          ],
          "parcoords": [
           {
            "line": {
             "colorbar": {
              "outlinewidth": 0,
              "ticks": ""
             }
            },
            "type": "parcoords"
           }
          ],
          "pie": [
           {
            "automargin": true,
            "type": "pie"
           }
          ],
          "scatter": [
           {
            "fillpattern": {
             "fillmode": "overlay",
             "size": 10,
             "solidity": 0.2
            },
            "type": "scatter"
           }
          ],
          "scatter3d": [
           {
            "line": {
             "colorbar": {
              "outlinewidth": 0,
              "ticks": ""
             }
            },
            "marker": {
             "colorbar": {
              "outlinewidth": 0,
              "ticks": ""
             }
            },
            "type": "scatter3d"
           }
          ],
          "scattercarpet": [
           {
            "marker": {
             "colorbar": {
              "outlinewidth": 0,
              "ticks": ""
             }
            },
            "type": "scattercarpet"
           }
          ],
          "scattergeo": [
           {
            "marker": {
             "colorbar": {
              "outlinewidth": 0,
              "ticks": ""
             }
            },
            "type": "scattergeo"
           }
          ],
          "scattergl": [
           {
            "marker": {
             "colorbar": {
              "outlinewidth": 0,
              "ticks": ""
             }
            },
            "type": "scattergl"
           }
          ],
          "scattermapbox": [
           {
            "marker": {
             "colorbar": {
              "outlinewidth": 0,
              "ticks": ""
             }
            },
            "type": "scattermapbox"
           }
          ],
          "scatterpolar": [
           {
            "marker": {
             "colorbar": {
              "outlinewidth": 0,
              "ticks": ""
             }
            },
            "type": "scatterpolar"
           }
          ],
          "scatterpolargl": [
           {
            "marker": {
             "colorbar": {
              "outlinewidth": 0,
              "ticks": ""
             }
            },
            "type": "scatterpolargl"
           }
          ],
          "scatterternary": [
           {
            "marker": {
             "colorbar": {
              "outlinewidth": 0,
              "ticks": ""
             }
            },
            "type": "scatterternary"
           }
          ],
          "surface": [
           {
            "colorbar": {
             "outlinewidth": 0,
             "ticks": ""
            },
            "colorscale": [
             [
              0,
              "#0d0887"
             ],
             [
              0.1111111111111111,
              "#46039f"
             ],
             [
              0.2222222222222222,
              "#7201a8"
             ],
             [
              0.3333333333333333,
              "#9c179e"
             ],
             [
              0.4444444444444444,
              "#bd3786"
             ],
             [
              0.5555555555555556,
              "#d8576b"
             ],
             [
              0.6666666666666666,
              "#ed7953"
             ],
             [
              0.7777777777777778,
              "#fb9f3a"
             ],
             [
              0.8888888888888888,
              "#fdca26"
             ],
             [
              1,
              "#f0f921"
             ]
            ],
            "type": "surface"
           }
          ],
          "table": [
           {
            "cells": {
             "fill": {
              "color": "#EBF0F8"
             },
             "line": {
              "color": "white"
             }
            },
            "header": {
             "fill": {
              "color": "#C8D4E3"
             },
             "line": {
              "color": "white"
             }
            },
            "type": "table"
           }
          ]
         },
         "layout": {
          "annotationdefaults": {
           "arrowcolor": "#2a3f5f",
           "arrowhead": 0,
           "arrowwidth": 1
          },
          "autotypenumbers": "strict",
          "coloraxis": {
           "colorbar": {
            "outlinewidth": 0,
            "ticks": ""
           }
          },
          "colorscale": {
           "diverging": [
            [
             0,
             "#8e0152"
            ],
            [
             0.1,
             "#c51b7d"
            ],
            [
             0.2,
             "#de77ae"
            ],
            [
             0.3,
             "#f1b6da"
            ],
            [
             0.4,
             "#fde0ef"
            ],
            [
             0.5,
             "#f7f7f7"
            ],
            [
             0.6,
             "#e6f5d0"
            ],
            [
             0.7,
             "#b8e186"
            ],
            [
             0.8,
             "#7fbc41"
            ],
            [
             0.9,
             "#4d9221"
            ],
            [
             1,
             "#276419"
            ]
           ],
           "sequential": [
            [
             0,
             "#0d0887"
            ],
            [
             0.1111111111111111,
             "#46039f"
            ],
            [
             0.2222222222222222,
             "#7201a8"
            ],
            [
             0.3333333333333333,
             "#9c179e"
            ],
            [
             0.4444444444444444,
             "#bd3786"
            ],
            [
             0.5555555555555556,
             "#d8576b"
            ],
            [
             0.6666666666666666,
             "#ed7953"
            ],
            [
             0.7777777777777778,
             "#fb9f3a"
            ],
            [
             0.8888888888888888,
             "#fdca26"
            ],
            [
             1,
             "#f0f921"
            ]
           ],
           "sequentialminus": [
            [
             0,
             "#0d0887"
            ],
            [
             0.1111111111111111,
             "#46039f"
            ],
            [
             0.2222222222222222,
             "#7201a8"
            ],
            [
             0.3333333333333333,
             "#9c179e"
            ],
            [
             0.4444444444444444,
             "#bd3786"
            ],
            [
             0.5555555555555556,
             "#d8576b"
            ],
            [
             0.6666666666666666,
             "#ed7953"
            ],
            [
             0.7777777777777778,
             "#fb9f3a"
            ],
            [
             0.8888888888888888,
             "#fdca26"
            ],
            [
             1,
             "#f0f921"
            ]
           ]
          },
          "colorway": [
           "#636efa",
           "#EF553B",
           "#00cc96",
           "#ab63fa",
           "#FFA15A",
           "#19d3f3",
           "#FF6692",
           "#B6E880",
           "#FF97FF",
           "#FECB52"
          ],
          "font": {
           "color": "#2a3f5f"
          },
          "geo": {
           "bgcolor": "white",
           "lakecolor": "white",
           "landcolor": "#E5ECF6",
           "showlakes": true,
           "showland": true,
           "subunitcolor": "white"
          },
          "hoverlabel": {
           "align": "left"
          },
          "hovermode": "closest",
          "mapbox": {
           "style": "light"
          },
          "paper_bgcolor": "white",
          "plot_bgcolor": "#E5ECF6",
          "polar": {
           "angularaxis": {
            "gridcolor": "white",
            "linecolor": "white",
            "ticks": ""
           },
           "bgcolor": "#E5ECF6",
           "radialaxis": {
            "gridcolor": "white",
            "linecolor": "white",
            "ticks": ""
           }
          },
          "scene": {
           "xaxis": {
            "backgroundcolor": "#E5ECF6",
            "gridcolor": "white",
            "gridwidth": 2,
            "linecolor": "white",
            "showbackground": true,
            "ticks": "",
            "zerolinecolor": "white"
           },
           "yaxis": {
            "backgroundcolor": "#E5ECF6",
            "gridcolor": "white",
            "gridwidth": 2,
            "linecolor": "white",
            "showbackground": true,
            "ticks": "",
            "zerolinecolor": "white"
           },
           "zaxis": {
            "backgroundcolor": "#E5ECF6",
            "gridcolor": "white",
            "gridwidth": 2,
            "linecolor": "white",
            "showbackground": true,
            "ticks": "",
            "zerolinecolor": "white"
           }
          },
          "shapedefaults": {
           "line": {
            "color": "#2a3f5f"
           }
          },
          "ternary": {
           "aaxis": {
            "gridcolor": "white",
            "linecolor": "white",
            "ticks": ""
           },
           "baxis": {
            "gridcolor": "white",
            "linecolor": "white",
            "ticks": ""
           },
           "bgcolor": "#E5ECF6",
           "caxis": {
            "gridcolor": "white",
            "linecolor": "white",
            "ticks": ""
           }
          },
          "title": {
           "x": 0.05
          },
          "xaxis": {
           "automargin": true,
           "gridcolor": "white",
           "linecolor": "white",
           "ticks": "",
           "title": {
            "standoff": 15
           },
           "zerolinecolor": "white",
           "zerolinewidth": 2
          },
          "yaxis": {
           "automargin": true,
           "gridcolor": "white",
           "linecolor": "white",
           "ticks": "",
           "title": {
            "standoff": 15
           },
           "zerolinecolor": "white",
           "zerolinewidth": 2
          }
         }
        },
        "width": 1200,
        "xaxis": {
         "anchor": "y",
         "domain": [
          0,
          0.45
         ]
        },
        "xaxis2": {
         "anchor": "y2",
         "domain": [
          0.55,
          1
         ]
        },
        "yaxis": {
         "anchor": "x",
         "domain": [
          0,
          1
         ],
         "tickformat": ".0%",
         "title": {
          "text": "Gemiddelde aandeel van groen in oppervlakte van stad"
         }
        },
        "yaxis2": {
         "anchor": "x2",
         "domain": [
          0,
          1
         ],
         "tickformat": ".0%",
         "title": {
          "text": "Percentage of people with stress complaints"
         }
        }
       }
      }
     },
     "metadata": {},
     "output_type": "display_data"
    }
   ],
   "source": [
    "# Boxplot data voor de eerste boxplot\n",
    "boxplot_data1 = oecd_df[['Gemiddelde aandeel van groen in oppervlakte van stad']].copy()\n",
    "boxplot_data1['Gemiddelde aandeel van groen in oppervlakte van stad'] = boxplot_data1['Gemiddelde aandeel van groen in oppervlakte van stad'] / 100\n",
    "# Boxplot data voor de tweede boxplot\n",
    "boxplot_data2 = stress_df[['Percentage mensen die Ja hebben geantwoord']].copy()\n",
    "boxplot_data2['Percentage mensen die Ja hebben geantwoord'] = boxplot_data2['Percentage mensen die Ja hebben geantwoord'] / 100\n",
    "\n",
    "# Creëer subplots\n",
    "fig = make_subplots(\n",
    "    rows=1, cols=2,\n",
    "    subplot_titles=('Figuur 6: Distributie van Gemiddelde aandeel van groen in oppervlakte van stad', 'Figuur 7: Distributie van YES values'),\n",
    "    horizontal_spacing=0.1\n",
    ")\n",
    "\n",
    "# Voeg eerste boxplot toe aan de eerste subplot\n",
    "fig6 = px.box(\n",
    "    boxplot_data1,\n",
    "    y='Gemiddelde aandeel van groen in oppervlakte van stad',\n",
    "    labels={'Gemiddelde aandeel van groen in oppervlakte van stad': 'Green Area (%)'}\n",
    ")\n",
    "for trace in fig6['data']:\n",
    "    fig.add_trace(trace, row=1, col=1)\n",
    "\n",
    "# Voeg tweede boxplot toe aan de tweede subplot\n",
    "fig7 = px.box(\n",
    "    boxplot_data2,\n",
    "    y='Percentage mensen die Ja hebben geantwoord'\n",
    ")\n",
    "for trace in fig7['data']:\n",
    "    fig.add_trace(trace, row=1, col=2)\n",
    "\n",
    "# Update layout van de gecombineerde figuur\n",
    "fig.update_layout(\n",
    "#    title_text='Figuur 6 en 7: Distributie van Gemiddelde aandeel van groen in oppervlakte van stad en waardes van Ja-antwoorden',\n",
    "    width=1200,\n",
    "    height=600\n",
    ")\n",
    "\n",
    "# Specifieke y-as titels voor elke subplot\n",
    "fig.update_yaxes(title_text='Gemiddelde aandeel van groen in oppervlakte van stad', tickformat=\".0%\", row=1, col=1)\n",
    "fig.update_yaxes(title_text='Percentage of people with stress complaints', tickformat=\".0%\", row=1, col=2)\n",
    "\n",
    "# Update de positie van de subplot titels om overlapping te voorkomen\n",
    "fig.update_layout(\n",
    "    annotations=[\n",
    "        dict(\n",
    "            text='Figuur 6: Distributie van Gemiddelde aandeel van groen in oppervlakte van stad',\n",
    "            x=0.22,\n",
    "            xref='paper',\n",
    "            y=1.15,\n",
    "            yref='paper',\n",
    "            showarrow=False,\n",
    "            font=dict(size=14)\n",
    "        ),\n",
    "        dict(\n",
    "            text='Figuur 7: Distributie van waardes van Ja-antwoorden',\n",
    "            x=0.78,\n",
    "            xref='paper',\n",
    "            y=1.15,\n",
    "            yref='paper',\n",
    "            showarrow=False,\n",
    "            font=dict(size=14)\n",
    "        )\n",
    "    ]\n",
    ")\n",
    "\n",
    "fig.add_annotation(\n",
    "    xref='paper', yref='paper',\n",
    "    x=0.5, y=-0.5,  # Adjust y to position the annotation at the bottom\n",
    "    showarrow=False,\n",
    "    xanchor='center',\n",
    "    yanchor='top',\n",
    "    align='center',\n",
    "    text='Figuur 6 laat de distributie van het gemiddelde aandeel van groen gebied in oppervlakte van een stad zien. <br>' +\n",
    "        'Figuur 7 Laat de distributie van waardes van Ja-antwoorden zien',\n",
    "    font=dict(size=13),  # Adjust font size if necessary\n",
    ")\n",
    "fig.show()"
   ]
  },
  {
   "cell_type": "markdown",
   "metadata": {},
   "source": [
    "## Conclusie\n",
    "\n",
    "Dit onderzoek heeft aangetoond dat er zeker een relatie bestaat tussen het hebben van een groene leefomgeving en het stressniveau van individuen. De perspectieven laten zien dat het hebben van een groene leefomgeving een invloed heeft op het stressniveau van een individu. De argumenten bij het tweede perspectief suggereren wel dat het hebben van een groene leefomgeving helpt maar bij lange na niet genoeg is om de stressniveau's zodanig te verlagen dat het de gezondheid van een individu goed kan verhogen. Hiermee valt er dus te concluderen dat een groene leefomgeving veel voordelen biedt voor de mentale en fysieke gezondheid, maar geen op zichzelf staande oplossing is voor het verminderen van stress."
   ]
  },
  {
   "cell_type": "markdown",
   "metadata": {},
   "source": [
    "## Referenties\n",
    "\n",
    "- Gallup, Inc. (2024, 25 juni). What Is the World’s Emotional Temperature? - Gallup. Gallup.com. [https://news.gallup.com/interactives/248240/global-emotions.aspx](https://news.gallup.com/interactives/248240/global-emotions.aspx)\n",
    "\n",
    "- List of country codes by alpha-2, alpha-3 code (ISO 3166). (z.d.). [https://www.iban.com/country-codes](https://www.iban.com/country-codes)\n",
    "\n",
    "- OECD. (z.d.). City statistics: Green areas. © OECD. [https://stats.oecd.org/Index.aspx?QueryId=119735](https://stats.oecd.org/Index.aspx?QueryId=119735)\n",
    "\n",
    "- RIVM. (2022, 17 mei). Effecten van groen op fysieke en mentale gezondheid. Geraadpleegd op 28 juni 2024, van [https://www.rivm.nl/nieuws/effecten-van-groen-op-fysieke-en-mentale-gezondheid](https://www.rivm.nl/nieuws/effecten-van-groen-op-fysieke-en-mentale-gezondheid)\n"
   ]
  }
 ],
 "metadata": {
  "kernelspec": {
   "display_name": "jupyterbook",
   "language": "python",
   "name": "python3"
  },
  "language_info": {
   "codemirror_mode": {
    "name": "ipython",
    "version": 3
   },
   "file_extension": ".py",
   "mimetype": "text/x-python",
   "name": "python",
   "nbconvert_exporter": "python",
   "pygments_lexer": "ipython3",
   "version": "3.10.14"
  }
 },
 "nbformat": 4,
 "nbformat_minor": 2
}
